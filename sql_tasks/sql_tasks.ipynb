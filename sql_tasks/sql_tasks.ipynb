{
 "cells": [
  {
   "cell_type": "markdown",
   "metadata": {},
   "source": [
    "1. [Выгрузка данных](#start)\n",
    "2. [Предобработка данных](#preprocessing)\n",
    "3. [Количество книг, вышедших после 1 января 2000 года](#books)\n",
    "4. [Количество обзоров и средняя оценка для каждой книги](#rating)  \n",
    "5. [Издательство, которое выпустило наибольшее число книг толще 50 страниц (исключение из анализа брошюр)](#publisher)\n",
    "6. [Автор с самой высокой средней оценкой книг (только книги с 50 и более оценками)](#authors)\n",
    "7. [Среднее количество обзоров от пользователей, которые поставили больше 48 оценок](#48_rat)\n",
    "8. [Таблица по году публикации](#year)\n",
    "9. [Таблица со средней оценкой](#ccount_rating)\n",
    "10. [Общий вывод](#done)\n"
   ]
  },
  {
   "cell_type": "markdown",
   "metadata": {},
   "source": [
    "## Выгрузка данных <a id=\"start\"></a> "
   ]
  },
  {
   "cell_type": "code",
   "execution_count": 1,
   "metadata": {},
   "outputs": [],
   "source": [
    "# импорт библиотек\n",
    "import pandas as pd\n",
    "from sqlalchemy import text, create_engine\n",
    "from datetime import datetime, timedelta"
   ]
  },
  {
   "cell_type": "code",
   "execution_count": 2,
   "metadata": {},
   "outputs": [],
   "source": [
    "# настройка для вывода содержимого ячеек\n",
    "pd.options.display.max_colwidth = 130"
   ]
  },
  {
   "cell_type": "code",
   "execution_count": 3,
   "metadata": {},
   "outputs": [],
   "source": [
    "# установка параметров\n",
    "db_config = {'user': 'praktikum_student', # имя пользователя\n",
    "'pwd': 'Sdf4$2;d-d30pp', # пароль\n",
    "'host': 'rc1b-wcoijxj3yxfsf3fs.mdb.yandexcloud.net',\n",
    "'port': 6432, # порт подключения\n",
    "'db': 'data-analyst-final-project-db'} # название базы данных\n",
    "connection_string = 'postgresql://{user}:{pwd}@{host}:{port}/{db}'.format(**db_config)\n",
    "\n",
    "# сохранение коннектора\n",
    "engine = create_engine(connection_string, connect_args={'sslmode':'require'})\n",
    "\n",
    "con=engine.connect()"
   ]
  },
  {
   "cell_type": "markdown",
   "metadata": {},
   "source": [
    "## Предобработка данных <a id=\"preprocessing\"></a> "
   ]
  },
  {
   "cell_type": "code",
   "execution_count": 4,
   "metadata": {},
   "outputs": [],
   "source": [
    "# функция для предобработки данных\n",
    "def data_preprocessing(data):\n",
    "    \"\"\"Эта функция для предобработки данных.\n",
    "\n",
    "    Она приводит наименования столбцов датафрейма к правильному виду, \n",
    "    выводит датафрейм и основную информацию на экран, \n",
    "    выводит количество пропущенных значений для каждого столбца датафрейма,\n",
    "    проверяет количество пропусков в процентах и подсчитывает количество явных дубликатов.\n",
    "    \"\"\"\n",
    "    \n",
    "    # приведение наименования столбцов датафрейма к правильному виду\n",
    "    data.columns = [x.lower().replace(' ', '_') for x in data.columns]\n",
    "    print('Вывод первых 5 строк датафрейма на экран')  \n",
    "    display(data.head())\n",
    "    print(' ')   \n",
    "    print('Вывод основной информации о датафрейме с помощью метода info()') \n",
    "    display(data.info())\n",
    "    print(' ')   \n",
    "    print('Вывод количества пропущенных значений для каждого столбца датафрейма')\n",
    "    display(data.isna().sum())\n",
    "    print(' ')   \n",
    "    print('Проверка количества пропусков в процентах')\n",
    "    display(pd.DataFrame(round(data.isna().mean()*100,)).style.background_gradient('coolwarm'))\n",
    "    print(' ')   \n",
    "    print('Подсчёт количества явных дубликатов')\n",
    "    display(data.duplicated().sum())"
   ]
  },
  {
   "cell_type": "code",
   "execution_count": 5,
   "metadata": {},
   "outputs": [],
   "source": [
    "# данные books\n",
    "books_dataset = '''\n",
    "            SELECT * FROM books\n",
    "        '''\n",
    "books = pd.io.sql.read_sql(sql=text(books_dataset), con = con)"
   ]
  },
  {
   "cell_type": "code",
   "execution_count": 6,
   "metadata": {},
   "outputs": [
    {
     "name": "stdout",
     "output_type": "stream",
     "text": [
      "Вывод первых 5 строк датафрейма на экран\n"
     ]
    },
    {
     "data": {
      "text/html": [
       "<div>\n",
       "<style scoped>\n",
       "    .dataframe tbody tr th:only-of-type {\n",
       "        vertical-align: middle;\n",
       "    }\n",
       "\n",
       "    .dataframe tbody tr th {\n",
       "        vertical-align: top;\n",
       "    }\n",
       "\n",
       "    .dataframe thead th {\n",
       "        text-align: right;\n",
       "    }\n",
       "</style>\n",
       "<table border=\"1\" class=\"dataframe\">\n",
       "  <thead>\n",
       "    <tr style=\"text-align: right;\">\n",
       "      <th></th>\n",
       "      <th>book_id</th>\n",
       "      <th>author_id</th>\n",
       "      <th>title</th>\n",
       "      <th>num_pages</th>\n",
       "      <th>publication_date</th>\n",
       "      <th>publisher_id</th>\n",
       "    </tr>\n",
       "  </thead>\n",
       "  <tbody>\n",
       "    <tr>\n",
       "      <th>0</th>\n",
       "      <td>1</td>\n",
       "      <td>546</td>\n",
       "      <td>'Salem's Lot</td>\n",
       "      <td>594</td>\n",
       "      <td>2005-11-01</td>\n",
       "      <td>93</td>\n",
       "    </tr>\n",
       "    <tr>\n",
       "      <th>1</th>\n",
       "      <td>2</td>\n",
       "      <td>465</td>\n",
       "      <td>1 000 Places to See Before You Die</td>\n",
       "      <td>992</td>\n",
       "      <td>2003-05-22</td>\n",
       "      <td>336</td>\n",
       "    </tr>\n",
       "    <tr>\n",
       "      <th>2</th>\n",
       "      <td>3</td>\n",
       "      <td>407</td>\n",
       "      <td>13 Little Blue Envelopes (Little Blue Envelope  #1)</td>\n",
       "      <td>322</td>\n",
       "      <td>2010-12-21</td>\n",
       "      <td>135</td>\n",
       "    </tr>\n",
       "    <tr>\n",
       "      <th>3</th>\n",
       "      <td>4</td>\n",
       "      <td>82</td>\n",
       "      <td>1491: New Revelations of the Americas Before Columbus</td>\n",
       "      <td>541</td>\n",
       "      <td>2006-10-10</td>\n",
       "      <td>309</td>\n",
       "    </tr>\n",
       "    <tr>\n",
       "      <th>4</th>\n",
       "      <td>5</td>\n",
       "      <td>125</td>\n",
       "      <td>1776</td>\n",
       "      <td>386</td>\n",
       "      <td>2006-07-04</td>\n",
       "      <td>268</td>\n",
       "    </tr>\n",
       "  </tbody>\n",
       "</table>\n",
       "</div>"
      ],
      "text/plain": [
       "   book_id  author_id                                                  title  \\\n",
       "0        1        546                                           'Salem's Lot   \n",
       "1        2        465                     1 000 Places to See Before You Die   \n",
       "2        3        407    13 Little Blue Envelopes (Little Blue Envelope  #1)   \n",
       "3        4         82  1491: New Revelations of the Americas Before Columbus   \n",
       "4        5        125                                                   1776   \n",
       "\n",
       "   num_pages publication_date  publisher_id  \n",
       "0        594       2005-11-01            93  \n",
       "1        992       2003-05-22           336  \n",
       "2        322       2010-12-21           135  \n",
       "3        541       2006-10-10           309  \n",
       "4        386       2006-07-04           268  "
      ]
     },
     "metadata": {},
     "output_type": "display_data"
    },
    {
     "name": "stdout",
     "output_type": "stream",
     "text": [
      " \n",
      "Вывод основной информации о датафрейме с помощью метода info()\n",
      "<class 'pandas.core.frame.DataFrame'>\n",
      "RangeIndex: 1000 entries, 0 to 999\n",
      "Data columns (total 6 columns):\n",
      " #   Column            Non-Null Count  Dtype \n",
      "---  ------            --------------  ----- \n",
      " 0   book_id           1000 non-null   int64 \n",
      " 1   author_id         1000 non-null   int64 \n",
      " 2   title             1000 non-null   object\n",
      " 3   num_pages         1000 non-null   int64 \n",
      " 4   publication_date  1000 non-null   object\n",
      " 5   publisher_id      1000 non-null   int64 \n",
      "dtypes: int64(4), object(2)\n",
      "memory usage: 47.0+ KB\n"
     ]
    },
    {
     "data": {
      "text/plain": [
       "None"
      ]
     },
     "metadata": {},
     "output_type": "display_data"
    },
    {
     "name": "stdout",
     "output_type": "stream",
     "text": [
      " \n",
      "Вывод количества пропущенных значений для каждого столбца датафрейма\n"
     ]
    },
    {
     "data": {
      "text/plain": [
       "book_id             0\n",
       "author_id           0\n",
       "title               0\n",
       "num_pages           0\n",
       "publication_date    0\n",
       "publisher_id        0\n",
       "dtype: int64"
      ]
     },
     "metadata": {},
     "output_type": "display_data"
    },
    {
     "name": "stdout",
     "output_type": "stream",
     "text": [
      " \n",
      "Проверка количества пропусков в процентах\n"
     ]
    },
    {
     "data": {
      "text/html": [
       "<style  type=\"text/css\" >\n",
       "#T_d853f_row0_col0,#T_d853f_row1_col0,#T_d853f_row2_col0,#T_d853f_row3_col0,#T_d853f_row4_col0,#T_d853f_row5_col0{\n",
       "            background-color:  #3b4cc0;\n",
       "            color:  #f1f1f1;\n",
       "        }</style><table id=\"T_d853f_\" ><thead>    <tr>        <th class=\"blank level0\" ></th>        <th class=\"col_heading level0 col0\" >0</th>    </tr></thead><tbody>\n",
       "                <tr>\n",
       "                        <th id=\"T_d853f_level0_row0\" class=\"row_heading level0 row0\" >book_id</th>\n",
       "                        <td id=\"T_d853f_row0_col0\" class=\"data row0 col0\" >0.000000</td>\n",
       "            </tr>\n",
       "            <tr>\n",
       "                        <th id=\"T_d853f_level0_row1\" class=\"row_heading level0 row1\" >author_id</th>\n",
       "                        <td id=\"T_d853f_row1_col0\" class=\"data row1 col0\" >0.000000</td>\n",
       "            </tr>\n",
       "            <tr>\n",
       "                        <th id=\"T_d853f_level0_row2\" class=\"row_heading level0 row2\" >title</th>\n",
       "                        <td id=\"T_d853f_row2_col0\" class=\"data row2 col0\" >0.000000</td>\n",
       "            </tr>\n",
       "            <tr>\n",
       "                        <th id=\"T_d853f_level0_row3\" class=\"row_heading level0 row3\" >num_pages</th>\n",
       "                        <td id=\"T_d853f_row3_col0\" class=\"data row3 col0\" >0.000000</td>\n",
       "            </tr>\n",
       "            <tr>\n",
       "                        <th id=\"T_d853f_level0_row4\" class=\"row_heading level0 row4\" >publication_date</th>\n",
       "                        <td id=\"T_d853f_row4_col0\" class=\"data row4 col0\" >0.000000</td>\n",
       "            </tr>\n",
       "            <tr>\n",
       "                        <th id=\"T_d853f_level0_row5\" class=\"row_heading level0 row5\" >publisher_id</th>\n",
       "                        <td id=\"T_d853f_row5_col0\" class=\"data row5 col0\" >0.000000</td>\n",
       "            </tr>\n",
       "    </tbody></table>"
      ],
      "text/plain": [
       "<pandas.io.formats.style.Styler at 0x7f03f59e6eb0>"
      ]
     },
     "metadata": {},
     "output_type": "display_data"
    },
    {
     "name": "stdout",
     "output_type": "stream",
     "text": [
      " \n",
      "Подсчёт количества явных дубликатов\n"
     ]
    },
    {
     "data": {
      "text/plain": [
       "0"
      ]
     },
     "metadata": {},
     "output_type": "display_data"
    }
   ],
   "source": [
    "data_preprocessing(books)"
   ]
  },
  {
   "cell_type": "markdown",
   "metadata": {},
   "source": [
    "**Вывод**  \n",
    "Явных дубликатов и пропусков нет. Тип данных в столбце publication_date необходимо поменять на тип даты."
   ]
  },
  {
   "cell_type": "code",
   "execution_count": 7,
   "metadata": {},
   "outputs": [],
   "source": [
    "# изменение типа данных в столбцах датафрейма, используя обработку ошибок при приобразовании\n",
    "try:\n",
    "    books['publication_date'] = pd.to_datetime(books['publication_date'])\n",
    "except:\n",
    "    print('publication_date - ошибка') "
   ]
  },
  {
   "cell_type": "code",
   "execution_count": 8,
   "metadata": {},
   "outputs": [
    {
     "name": "stdout",
     "output_type": "stream",
     "text": [
      "<class 'pandas.core.frame.DataFrame'>\n",
      "RangeIndex: 1000 entries, 0 to 999\n",
      "Data columns (total 6 columns):\n",
      " #   Column            Non-Null Count  Dtype         \n",
      "---  ------            --------------  -----         \n",
      " 0   book_id           1000 non-null   int64         \n",
      " 1   author_id         1000 non-null   int64         \n",
      " 2   title             1000 non-null   object        \n",
      " 3   num_pages         1000 non-null   int64         \n",
      " 4   publication_date  1000 non-null   datetime64[ns]\n",
      " 5   publisher_id      1000 non-null   int64         \n",
      "dtypes: datetime64[ns](1), int64(4), object(1)\n",
      "memory usage: 47.0+ KB\n"
     ]
    }
   ],
   "source": [
    "# проверка преобразования\n",
    "books.info()"
   ]
  },
  {
   "cell_type": "markdown",
   "metadata": {},
   "source": [
    "**Вывод**  \n",
    "Преобразование выполнено верно."
   ]
  },
  {
   "cell_type": "code",
   "execution_count": 9,
   "metadata": {},
   "outputs": [],
   "source": [
    "# данные authors\n",
    "authors_dataset = '''\n",
    "            SELECT * FROM authors\n",
    "        '''\n",
    "authors = pd.io.sql.read_sql(sql=text(authors_dataset), con = con)"
   ]
  },
  {
   "cell_type": "code",
   "execution_count": 10,
   "metadata": {},
   "outputs": [
    {
     "name": "stdout",
     "output_type": "stream",
     "text": [
      "Вывод первых 5 строк датафрейма на экран\n"
     ]
    },
    {
     "data": {
      "text/html": [
       "<div>\n",
       "<style scoped>\n",
       "    .dataframe tbody tr th:only-of-type {\n",
       "        vertical-align: middle;\n",
       "    }\n",
       "\n",
       "    .dataframe tbody tr th {\n",
       "        vertical-align: top;\n",
       "    }\n",
       "\n",
       "    .dataframe thead th {\n",
       "        text-align: right;\n",
       "    }\n",
       "</style>\n",
       "<table border=\"1\" class=\"dataframe\">\n",
       "  <thead>\n",
       "    <tr style=\"text-align: right;\">\n",
       "      <th></th>\n",
       "      <th>author_id</th>\n",
       "      <th>author</th>\n",
       "    </tr>\n",
       "  </thead>\n",
       "  <tbody>\n",
       "    <tr>\n",
       "      <th>0</th>\n",
       "      <td>1</td>\n",
       "      <td>A.S. Byatt</td>\n",
       "    </tr>\n",
       "    <tr>\n",
       "      <th>1</th>\n",
       "      <td>2</td>\n",
       "      <td>Aesop/Laura Harris/Laura Gibbs</td>\n",
       "    </tr>\n",
       "    <tr>\n",
       "      <th>2</th>\n",
       "      <td>3</td>\n",
       "      <td>Agatha Christie</td>\n",
       "    </tr>\n",
       "    <tr>\n",
       "      <th>3</th>\n",
       "      <td>4</td>\n",
       "      <td>Alan Brennert</td>\n",
       "    </tr>\n",
       "    <tr>\n",
       "      <th>4</th>\n",
       "      <td>5</td>\n",
       "      <td>Alan Moore/David   Lloyd</td>\n",
       "    </tr>\n",
       "  </tbody>\n",
       "</table>\n",
       "</div>"
      ],
      "text/plain": [
       "   author_id                          author\n",
       "0          1                      A.S. Byatt\n",
       "1          2  Aesop/Laura Harris/Laura Gibbs\n",
       "2          3                 Agatha Christie\n",
       "3          4                   Alan Brennert\n",
       "4          5        Alan Moore/David   Lloyd"
      ]
     },
     "metadata": {},
     "output_type": "display_data"
    },
    {
     "name": "stdout",
     "output_type": "stream",
     "text": [
      " \n",
      "Вывод основной информации о датафрейме с помощью метода info()\n",
      "<class 'pandas.core.frame.DataFrame'>\n",
      "RangeIndex: 636 entries, 0 to 635\n",
      "Data columns (total 2 columns):\n",
      " #   Column     Non-Null Count  Dtype \n",
      "---  ------     --------------  ----- \n",
      " 0   author_id  636 non-null    int64 \n",
      " 1   author     636 non-null    object\n",
      "dtypes: int64(1), object(1)\n",
      "memory usage: 10.1+ KB\n"
     ]
    },
    {
     "data": {
      "text/plain": [
       "None"
      ]
     },
     "metadata": {},
     "output_type": "display_data"
    },
    {
     "name": "stdout",
     "output_type": "stream",
     "text": [
      " \n",
      "Вывод количества пропущенных значений для каждого столбца датафрейма\n"
     ]
    },
    {
     "data": {
      "text/plain": [
       "author_id    0\n",
       "author       0\n",
       "dtype: int64"
      ]
     },
     "metadata": {},
     "output_type": "display_data"
    },
    {
     "name": "stdout",
     "output_type": "stream",
     "text": [
      " \n",
      "Проверка количества пропусков в процентах\n"
     ]
    },
    {
     "data": {
      "text/html": [
       "<style  type=\"text/css\" >\n",
       "#T_7db60_row0_col0,#T_7db60_row1_col0{\n",
       "            background-color:  #3b4cc0;\n",
       "            color:  #f1f1f1;\n",
       "        }</style><table id=\"T_7db60_\" ><thead>    <tr>        <th class=\"blank level0\" ></th>        <th class=\"col_heading level0 col0\" >0</th>    </tr></thead><tbody>\n",
       "                <tr>\n",
       "                        <th id=\"T_7db60_level0_row0\" class=\"row_heading level0 row0\" >author_id</th>\n",
       "                        <td id=\"T_7db60_row0_col0\" class=\"data row0 col0\" >0.000000</td>\n",
       "            </tr>\n",
       "            <tr>\n",
       "                        <th id=\"T_7db60_level0_row1\" class=\"row_heading level0 row1\" >author</th>\n",
       "                        <td id=\"T_7db60_row1_col0\" class=\"data row1 col0\" >0.000000</td>\n",
       "            </tr>\n",
       "    </tbody></table>"
      ],
      "text/plain": [
       "<pandas.io.formats.style.Styler at 0x7f03f3c647f0>"
      ]
     },
     "metadata": {},
     "output_type": "display_data"
    },
    {
     "name": "stdout",
     "output_type": "stream",
     "text": [
      " \n",
      "Подсчёт количества явных дубликатов\n"
     ]
    },
    {
     "data": {
      "text/plain": [
       "0"
      ]
     },
     "metadata": {},
     "output_type": "display_data"
    }
   ],
   "source": [
    "data_preprocessing(authors)"
   ]
  },
  {
   "cell_type": "markdown",
   "metadata": {},
   "source": [
    "**Вывод**  \n",
    "Пропусков и явных дубликатов нет. Типы данных верны."
   ]
  },
  {
   "cell_type": "code",
   "execution_count": 11,
   "metadata": {},
   "outputs": [],
   "source": [
    "# данные publishers\n",
    "publishers_dataset = '''\n",
    "            SELECT * FROM publishers\n",
    "        '''\n",
    "publishers = pd.io.sql.read_sql(sql=text(publishers_dataset), con = con)"
   ]
  },
  {
   "cell_type": "code",
   "execution_count": 12,
   "metadata": {},
   "outputs": [
    {
     "name": "stdout",
     "output_type": "stream",
     "text": [
      "Вывод первых 5 строк датафрейма на экран\n"
     ]
    },
    {
     "data": {
      "text/html": [
       "<div>\n",
       "<style scoped>\n",
       "    .dataframe tbody tr th:only-of-type {\n",
       "        vertical-align: middle;\n",
       "    }\n",
       "\n",
       "    .dataframe tbody tr th {\n",
       "        vertical-align: top;\n",
       "    }\n",
       "\n",
       "    .dataframe thead th {\n",
       "        text-align: right;\n",
       "    }\n",
       "</style>\n",
       "<table border=\"1\" class=\"dataframe\">\n",
       "  <thead>\n",
       "    <tr style=\"text-align: right;\">\n",
       "      <th></th>\n",
       "      <th>publisher_id</th>\n",
       "      <th>publisher</th>\n",
       "    </tr>\n",
       "  </thead>\n",
       "  <tbody>\n",
       "    <tr>\n",
       "      <th>0</th>\n",
       "      <td>1</td>\n",
       "      <td>Ace</td>\n",
       "    </tr>\n",
       "    <tr>\n",
       "      <th>1</th>\n",
       "      <td>2</td>\n",
       "      <td>Ace Book</td>\n",
       "    </tr>\n",
       "    <tr>\n",
       "      <th>2</th>\n",
       "      <td>3</td>\n",
       "      <td>Ace Books</td>\n",
       "    </tr>\n",
       "    <tr>\n",
       "      <th>3</th>\n",
       "      <td>4</td>\n",
       "      <td>Ace Hardcover</td>\n",
       "    </tr>\n",
       "    <tr>\n",
       "      <th>4</th>\n",
       "      <td>5</td>\n",
       "      <td>Addison Wesley Publishing Company</td>\n",
       "    </tr>\n",
       "  </tbody>\n",
       "</table>\n",
       "</div>"
      ],
      "text/plain": [
       "   publisher_id                          publisher\n",
       "0             1                                Ace\n",
       "1             2                           Ace Book\n",
       "2             3                          Ace Books\n",
       "3             4                      Ace Hardcover\n",
       "4             5  Addison Wesley Publishing Company"
      ]
     },
     "metadata": {},
     "output_type": "display_data"
    },
    {
     "name": "stdout",
     "output_type": "stream",
     "text": [
      " \n",
      "Вывод основной информации о датафрейме с помощью метода info()\n",
      "<class 'pandas.core.frame.DataFrame'>\n",
      "RangeIndex: 340 entries, 0 to 339\n",
      "Data columns (total 2 columns):\n",
      " #   Column        Non-Null Count  Dtype \n",
      "---  ------        --------------  ----- \n",
      " 0   publisher_id  340 non-null    int64 \n",
      " 1   publisher     340 non-null    object\n",
      "dtypes: int64(1), object(1)\n",
      "memory usage: 5.4+ KB\n"
     ]
    },
    {
     "data": {
      "text/plain": [
       "None"
      ]
     },
     "metadata": {},
     "output_type": "display_data"
    },
    {
     "name": "stdout",
     "output_type": "stream",
     "text": [
      " \n",
      "Вывод количества пропущенных значений для каждого столбца датафрейма\n"
     ]
    },
    {
     "data": {
      "text/plain": [
       "publisher_id    0\n",
       "publisher       0\n",
       "dtype: int64"
      ]
     },
     "metadata": {},
     "output_type": "display_data"
    },
    {
     "name": "stdout",
     "output_type": "stream",
     "text": [
      " \n",
      "Проверка количества пропусков в процентах\n"
     ]
    },
    {
     "data": {
      "text/html": [
       "<style  type=\"text/css\" >\n",
       "#T_d3bd5_row0_col0,#T_d3bd5_row1_col0{\n",
       "            background-color:  #3b4cc0;\n",
       "            color:  #f1f1f1;\n",
       "        }</style><table id=\"T_d3bd5_\" ><thead>    <tr>        <th class=\"blank level0\" ></th>        <th class=\"col_heading level0 col0\" >0</th>    </tr></thead><tbody>\n",
       "                <tr>\n",
       "                        <th id=\"T_d3bd5_level0_row0\" class=\"row_heading level0 row0\" >publisher_id</th>\n",
       "                        <td id=\"T_d3bd5_row0_col0\" class=\"data row0 col0\" >0.000000</td>\n",
       "            </tr>\n",
       "            <tr>\n",
       "                        <th id=\"T_d3bd5_level0_row1\" class=\"row_heading level0 row1\" >publisher</th>\n",
       "                        <td id=\"T_d3bd5_row1_col0\" class=\"data row1 col0\" >0.000000</td>\n",
       "            </tr>\n",
       "    </tbody></table>"
      ],
      "text/plain": [
       "<pandas.io.formats.style.Styler at 0x7f03f3c646a0>"
      ]
     },
     "metadata": {},
     "output_type": "display_data"
    },
    {
     "name": "stdout",
     "output_type": "stream",
     "text": [
      " \n",
      "Подсчёт количества явных дубликатов\n"
     ]
    },
    {
     "data": {
      "text/plain": [
       "0"
      ]
     },
     "metadata": {},
     "output_type": "display_data"
    }
   ],
   "source": [
    "data_preprocessing(publishers)"
   ]
  },
  {
   "cell_type": "markdown",
   "metadata": {},
   "source": [
    "**Вывод**  \n",
    "Пропусков и явных дубликатов нет. Типы данных верны."
   ]
  },
  {
   "cell_type": "code",
   "execution_count": 13,
   "metadata": {},
   "outputs": [],
   "source": [
    "# данные ratings\n",
    "ratings_dataset = '''\n",
    "            SELECT * FROM ratings\n",
    "        '''\n",
    "ratings = pd.io.sql.read_sql(sql=text(ratings_dataset), con = con)"
   ]
  },
  {
   "cell_type": "code",
   "execution_count": 14,
   "metadata": {},
   "outputs": [
    {
     "name": "stdout",
     "output_type": "stream",
     "text": [
      "Вывод первых 5 строк датафрейма на экран\n"
     ]
    },
    {
     "data": {
      "text/html": [
       "<div>\n",
       "<style scoped>\n",
       "    .dataframe tbody tr th:only-of-type {\n",
       "        vertical-align: middle;\n",
       "    }\n",
       "\n",
       "    .dataframe tbody tr th {\n",
       "        vertical-align: top;\n",
       "    }\n",
       "\n",
       "    .dataframe thead th {\n",
       "        text-align: right;\n",
       "    }\n",
       "</style>\n",
       "<table border=\"1\" class=\"dataframe\">\n",
       "  <thead>\n",
       "    <tr style=\"text-align: right;\">\n",
       "      <th></th>\n",
       "      <th>rating_id</th>\n",
       "      <th>book_id</th>\n",
       "      <th>username</th>\n",
       "      <th>rating</th>\n",
       "    </tr>\n",
       "  </thead>\n",
       "  <tbody>\n",
       "    <tr>\n",
       "      <th>0</th>\n",
       "      <td>1</td>\n",
       "      <td>1</td>\n",
       "      <td>ryanfranco</td>\n",
       "      <td>4</td>\n",
       "    </tr>\n",
       "    <tr>\n",
       "      <th>1</th>\n",
       "      <td>2</td>\n",
       "      <td>1</td>\n",
       "      <td>grantpatricia</td>\n",
       "      <td>2</td>\n",
       "    </tr>\n",
       "    <tr>\n",
       "      <th>2</th>\n",
       "      <td>3</td>\n",
       "      <td>1</td>\n",
       "      <td>brandtandrea</td>\n",
       "      <td>5</td>\n",
       "    </tr>\n",
       "    <tr>\n",
       "      <th>3</th>\n",
       "      <td>4</td>\n",
       "      <td>2</td>\n",
       "      <td>lorichen</td>\n",
       "      <td>3</td>\n",
       "    </tr>\n",
       "    <tr>\n",
       "      <th>4</th>\n",
       "      <td>5</td>\n",
       "      <td>2</td>\n",
       "      <td>mariokeller</td>\n",
       "      <td>2</td>\n",
       "    </tr>\n",
       "  </tbody>\n",
       "</table>\n",
       "</div>"
      ],
      "text/plain": [
       "   rating_id  book_id       username  rating\n",
       "0          1        1     ryanfranco       4\n",
       "1          2        1  grantpatricia       2\n",
       "2          3        1   brandtandrea       5\n",
       "3          4        2       lorichen       3\n",
       "4          5        2    mariokeller       2"
      ]
     },
     "metadata": {},
     "output_type": "display_data"
    },
    {
     "name": "stdout",
     "output_type": "stream",
     "text": [
      " \n",
      "Вывод основной информации о датафрейме с помощью метода info()\n",
      "<class 'pandas.core.frame.DataFrame'>\n",
      "RangeIndex: 6456 entries, 0 to 6455\n",
      "Data columns (total 4 columns):\n",
      " #   Column     Non-Null Count  Dtype \n",
      "---  ------     --------------  ----- \n",
      " 0   rating_id  6456 non-null   int64 \n",
      " 1   book_id    6456 non-null   int64 \n",
      " 2   username   6456 non-null   object\n",
      " 3   rating     6456 non-null   int64 \n",
      "dtypes: int64(3), object(1)\n",
      "memory usage: 201.9+ KB\n"
     ]
    },
    {
     "data": {
      "text/plain": [
       "None"
      ]
     },
     "metadata": {},
     "output_type": "display_data"
    },
    {
     "name": "stdout",
     "output_type": "stream",
     "text": [
      " \n",
      "Вывод количества пропущенных значений для каждого столбца датафрейма\n"
     ]
    },
    {
     "data": {
      "text/plain": [
       "rating_id    0\n",
       "book_id      0\n",
       "username     0\n",
       "rating       0\n",
       "dtype: int64"
      ]
     },
     "metadata": {},
     "output_type": "display_data"
    },
    {
     "name": "stdout",
     "output_type": "stream",
     "text": [
      " \n",
      "Проверка количества пропусков в процентах\n"
     ]
    },
    {
     "data": {
      "text/html": [
       "<style  type=\"text/css\" >\n",
       "#T_e52fb_row0_col0,#T_e52fb_row1_col0,#T_e52fb_row2_col0,#T_e52fb_row3_col0{\n",
       "            background-color:  #3b4cc0;\n",
       "            color:  #f1f1f1;\n",
       "        }</style><table id=\"T_e52fb_\" ><thead>    <tr>        <th class=\"blank level0\" ></th>        <th class=\"col_heading level0 col0\" >0</th>    </tr></thead><tbody>\n",
       "                <tr>\n",
       "                        <th id=\"T_e52fb_level0_row0\" class=\"row_heading level0 row0\" >rating_id</th>\n",
       "                        <td id=\"T_e52fb_row0_col0\" class=\"data row0 col0\" >0.000000</td>\n",
       "            </tr>\n",
       "            <tr>\n",
       "                        <th id=\"T_e52fb_level0_row1\" class=\"row_heading level0 row1\" >book_id</th>\n",
       "                        <td id=\"T_e52fb_row1_col0\" class=\"data row1 col0\" >0.000000</td>\n",
       "            </tr>\n",
       "            <tr>\n",
       "                        <th id=\"T_e52fb_level0_row2\" class=\"row_heading level0 row2\" >username</th>\n",
       "                        <td id=\"T_e52fb_row2_col0\" class=\"data row2 col0\" >0.000000</td>\n",
       "            </tr>\n",
       "            <tr>\n",
       "                        <th id=\"T_e52fb_level0_row3\" class=\"row_heading level0 row3\" >rating</th>\n",
       "                        <td id=\"T_e52fb_row3_col0\" class=\"data row3 col0\" >0.000000</td>\n",
       "            </tr>\n",
       "    </tbody></table>"
      ],
      "text/plain": [
       "<pandas.io.formats.style.Styler at 0x7f03f3c35be0>"
      ]
     },
     "metadata": {},
     "output_type": "display_data"
    },
    {
     "name": "stdout",
     "output_type": "stream",
     "text": [
      " \n",
      "Подсчёт количества явных дубликатов\n"
     ]
    },
    {
     "data": {
      "text/plain": [
       "0"
      ]
     },
     "metadata": {},
     "output_type": "display_data"
    }
   ],
   "source": [
    "data_preprocessing(ratings)"
   ]
  },
  {
   "cell_type": "markdown",
   "metadata": {},
   "source": [
    "**Вывод**  \n",
    "Пропусков и явных дубликатов нет. Типы данных верны."
   ]
  },
  {
   "cell_type": "code",
   "execution_count": 15,
   "metadata": {},
   "outputs": [],
   "source": [
    "# данные reviews\n",
    "reviews_dataset = '''\n",
    "            SELECT * FROM reviews\n",
    "        '''\n",
    "reviews = pd.io.sql.read_sql(sql=text(reviews_dataset), con = con)"
   ]
  },
  {
   "cell_type": "code",
   "execution_count": 16,
   "metadata": {},
   "outputs": [
    {
     "name": "stdout",
     "output_type": "stream",
     "text": [
      "Вывод первых 5 строк датафрейма на экран\n"
     ]
    },
    {
     "data": {
      "text/html": [
       "<div>\n",
       "<style scoped>\n",
       "    .dataframe tbody tr th:only-of-type {\n",
       "        vertical-align: middle;\n",
       "    }\n",
       "\n",
       "    .dataframe tbody tr th {\n",
       "        vertical-align: top;\n",
       "    }\n",
       "\n",
       "    .dataframe thead th {\n",
       "        text-align: right;\n",
       "    }\n",
       "</style>\n",
       "<table border=\"1\" class=\"dataframe\">\n",
       "  <thead>\n",
       "    <tr style=\"text-align: right;\">\n",
       "      <th></th>\n",
       "      <th>review_id</th>\n",
       "      <th>book_id</th>\n",
       "      <th>username</th>\n",
       "      <th>text</th>\n",
       "    </tr>\n",
       "  </thead>\n",
       "  <tbody>\n",
       "    <tr>\n",
       "      <th>0</th>\n",
       "      <td>1</td>\n",
       "      <td>1</td>\n",
       "      <td>brandtandrea</td>\n",
       "      <td>Mention society tell send professor analysis. Over provide race technology continue these.</td>\n",
       "    </tr>\n",
       "    <tr>\n",
       "      <th>1</th>\n",
       "      <td>2</td>\n",
       "      <td>1</td>\n",
       "      <td>ryanfranco</td>\n",
       "      <td>Foot glass pretty audience hit themselves. Among admit investment argue security.</td>\n",
       "    </tr>\n",
       "    <tr>\n",
       "      <th>2</th>\n",
       "      <td>3</td>\n",
       "      <td>2</td>\n",
       "      <td>lorichen</td>\n",
       "      <td>Listen treat keep worry. Miss husband tax but person sport treatment industry. Kitchen decision deep the. Social party body the.</td>\n",
       "    </tr>\n",
       "    <tr>\n",
       "      <th>3</th>\n",
       "      <td>4</td>\n",
       "      <td>3</td>\n",
       "      <td>johnsonamanda</td>\n",
       "      <td>Finally month interesting blue could nature cultural bit. Prepare beat finish grow that smile teach. Dream me play near.</td>\n",
       "    </tr>\n",
       "    <tr>\n",
       "      <th>4</th>\n",
       "      <td>5</td>\n",
       "      <td>3</td>\n",
       "      <td>scotttamara</td>\n",
       "      <td>Nation purpose heavy give wait song will. List dinner another whole positive radio fast. Music staff many green.</td>\n",
       "    </tr>\n",
       "  </tbody>\n",
       "</table>\n",
       "</div>"
      ],
      "text/plain": [
       "   review_id  book_id       username  \\\n",
       "0          1        1   brandtandrea   \n",
       "1          2        1     ryanfranco   \n",
       "2          3        2       lorichen   \n",
       "3          4        3  johnsonamanda   \n",
       "4          5        3    scotttamara   \n",
       "\n",
       "                                                                                                                               text  \n",
       "0                                        Mention society tell send professor analysis. Over provide race technology continue these.  \n",
       "1                                                 Foot glass pretty audience hit themselves. Among admit investment argue security.  \n",
       "2  Listen treat keep worry. Miss husband tax but person sport treatment industry. Kitchen decision deep the. Social party body the.  \n",
       "3          Finally month interesting blue could nature cultural bit. Prepare beat finish grow that smile teach. Dream me play near.  \n",
       "4                  Nation purpose heavy give wait song will. List dinner another whole positive radio fast. Music staff many green.  "
      ]
     },
     "metadata": {},
     "output_type": "display_data"
    },
    {
     "name": "stdout",
     "output_type": "stream",
     "text": [
      " \n",
      "Вывод основной информации о датафрейме с помощью метода info()\n",
      "<class 'pandas.core.frame.DataFrame'>\n",
      "RangeIndex: 2793 entries, 0 to 2792\n",
      "Data columns (total 4 columns):\n",
      " #   Column     Non-Null Count  Dtype \n",
      "---  ------     --------------  ----- \n",
      " 0   review_id  2793 non-null   int64 \n",
      " 1   book_id    2793 non-null   int64 \n",
      " 2   username   2793 non-null   object\n",
      " 3   text       2793 non-null   object\n",
      "dtypes: int64(2), object(2)\n",
      "memory usage: 87.4+ KB\n"
     ]
    },
    {
     "data": {
      "text/plain": [
       "None"
      ]
     },
     "metadata": {},
     "output_type": "display_data"
    },
    {
     "name": "stdout",
     "output_type": "stream",
     "text": [
      " \n",
      "Вывод количества пропущенных значений для каждого столбца датафрейма\n"
     ]
    },
    {
     "data": {
      "text/plain": [
       "review_id    0\n",
       "book_id      0\n",
       "username     0\n",
       "text         0\n",
       "dtype: int64"
      ]
     },
     "metadata": {},
     "output_type": "display_data"
    },
    {
     "name": "stdout",
     "output_type": "stream",
     "text": [
      " \n",
      "Проверка количества пропусков в процентах\n"
     ]
    },
    {
     "data": {
      "text/html": [
       "<style  type=\"text/css\" >\n",
       "#T_c71ef_row0_col0,#T_c71ef_row1_col0,#T_c71ef_row2_col0,#T_c71ef_row3_col0{\n",
       "            background-color:  #3b4cc0;\n",
       "            color:  #f1f1f1;\n",
       "        }</style><table id=\"T_c71ef_\" ><thead>    <tr>        <th class=\"blank level0\" ></th>        <th class=\"col_heading level0 col0\" >0</th>    </tr></thead><tbody>\n",
       "                <tr>\n",
       "                        <th id=\"T_c71ef_level0_row0\" class=\"row_heading level0 row0\" >review_id</th>\n",
       "                        <td id=\"T_c71ef_row0_col0\" class=\"data row0 col0\" >0.000000</td>\n",
       "            </tr>\n",
       "            <tr>\n",
       "                        <th id=\"T_c71ef_level0_row1\" class=\"row_heading level0 row1\" >book_id</th>\n",
       "                        <td id=\"T_c71ef_row1_col0\" class=\"data row1 col0\" >0.000000</td>\n",
       "            </tr>\n",
       "            <tr>\n",
       "                        <th id=\"T_c71ef_level0_row2\" class=\"row_heading level0 row2\" >username</th>\n",
       "                        <td id=\"T_c71ef_row2_col0\" class=\"data row2 col0\" >0.000000</td>\n",
       "            </tr>\n",
       "            <tr>\n",
       "                        <th id=\"T_c71ef_level0_row3\" class=\"row_heading level0 row3\" >text</th>\n",
       "                        <td id=\"T_c71ef_row3_col0\" class=\"data row3 col0\" >0.000000</td>\n",
       "            </tr>\n",
       "    </tbody></table>"
      ],
      "text/plain": [
       "<pandas.io.formats.style.Styler at 0x7f03f3c32250>"
      ]
     },
     "metadata": {},
     "output_type": "display_data"
    },
    {
     "name": "stdout",
     "output_type": "stream",
     "text": [
      " \n",
      "Подсчёт количества явных дубликатов\n"
     ]
    },
    {
     "data": {
      "text/plain": [
       "0"
      ]
     },
     "metadata": {},
     "output_type": "display_data"
    }
   ],
   "source": [
    "data_preprocessing(reviews)"
   ]
  },
  {
   "cell_type": "markdown",
   "metadata": {},
   "source": [
    "**Вывод**  \n",
    "Пропусков и явных дубликатов нет. Типы данных верны."
   ]
  },
  {
   "cell_type": "code",
   "execution_count": 17,
   "metadata": {},
   "outputs": [],
   "source": [
    "# функция для того, чтобы делать запросы\n",
    "def request(goal):\n",
    "    return pd.io.sql.read_sql(sql=text(goal), con = con)"
   ]
  },
  {
   "cell_type": "markdown",
   "metadata": {},
   "source": [
    "## Количество книг, вышедших после 1 января 2000 года <a id=\"books\"></a> "
   ]
  },
  {
   "cell_type": "code",
   "execution_count": 18,
   "metadata": {},
   "outputs": [
    {
     "data": {
      "text/html": [
       "<div>\n",
       "<style scoped>\n",
       "    .dataframe tbody tr th:only-of-type {\n",
       "        vertical-align: middle;\n",
       "    }\n",
       "\n",
       "    .dataframe tbody tr th {\n",
       "        vertical-align: top;\n",
       "    }\n",
       "\n",
       "    .dataframe thead th {\n",
       "        text-align: right;\n",
       "    }\n",
       "</style>\n",
       "<table border=\"1\" class=\"dataframe\">\n",
       "  <thead>\n",
       "    <tr style=\"text-align: right;\">\n",
       "      <th></th>\n",
       "      <th>count_books</th>\n",
       "    </tr>\n",
       "  </thead>\n",
       "  <tbody>\n",
       "    <tr>\n",
       "      <th>0</th>\n",
       "      <td>819</td>\n",
       "    </tr>\n",
       "  </tbody>\n",
       "</table>\n",
       "</div>"
      ],
      "text/plain": [
       "   count_books\n",
       "0          819"
      ]
     },
     "execution_count": 18,
     "metadata": {},
     "output_type": "execute_result"
    }
   ],
   "source": [
    "task_1 = '''                \n",
    "             SELECT COUNT(title) AS count_books\n",
    "                \n",
    "             FROM books\n",
    "                \n",
    "             WHERE publication_date > '2000-01-01';\n",
    "         ''' \n",
    "\n",
    "request(task_1)"
   ]
  },
  {
   "cell_type": "markdown",
   "metadata": {},
   "source": [
    "**Вывод**  \n",
    "После 1 января 2000 года вышло 819 книг."
   ]
  },
  {
   "cell_type": "markdown",
   "metadata": {},
   "source": [
    "## Количество обзоров и средняя оценка для каждой книги <a id=\"rating\"></a> "
   ]
  },
  {
   "cell_type": "code",
   "execution_count": 19,
   "metadata": {},
   "outputs": [
    {
     "data": {
      "text/html": [
       "<div>\n",
       "<style scoped>\n",
       "    .dataframe tbody tr th:only-of-type {\n",
       "        vertical-align: middle;\n",
       "    }\n",
       "\n",
       "    .dataframe tbody tr th {\n",
       "        vertical-align: top;\n",
       "    }\n",
       "\n",
       "    .dataframe thead th {\n",
       "        text-align: right;\n",
       "    }\n",
       "</style>\n",
       "<table border=\"1\" class=\"dataframe\">\n",
       "  <thead>\n",
       "    <tr style=\"text-align: right;\">\n",
       "      <th></th>\n",
       "      <th>book_id</th>\n",
       "      <th>book_title</th>\n",
       "      <th>count_review</th>\n",
       "      <th>avg_rating</th>\n",
       "    </tr>\n",
       "  </thead>\n",
       "  <tbody>\n",
       "    <tr>\n",
       "      <th>0</th>\n",
       "      <td>303</td>\n",
       "      <td>Harvesting the Heart</td>\n",
       "      <td>2</td>\n",
       "      <td>1.50</td>\n",
       "    </tr>\n",
       "    <tr>\n",
       "      <th>1</th>\n",
       "      <td>371</td>\n",
       "      <td>Junky</td>\n",
       "      <td>2</td>\n",
       "      <td>2.00</td>\n",
       "    </tr>\n",
       "    <tr>\n",
       "      <th>2</th>\n",
       "      <td>316</td>\n",
       "      <td>His Excellency: George Washington</td>\n",
       "      <td>2</td>\n",
       "      <td>2.00</td>\n",
       "    </tr>\n",
       "    <tr>\n",
       "      <th>3</th>\n",
       "      <td>202</td>\n",
       "      <td>Drowning Ruth</td>\n",
       "      <td>3</td>\n",
       "      <td>2.00</td>\n",
       "    </tr>\n",
       "    <tr>\n",
       "      <th>4</th>\n",
       "      <td>915</td>\n",
       "      <td>The World Is Flat: A Brief History of the Twenty-first Century</td>\n",
       "      <td>3</td>\n",
       "      <td>2.25</td>\n",
       "    </tr>\n",
       "    <tr>\n",
       "      <th>...</th>\n",
       "      <td>...</td>\n",
       "      <td>...</td>\n",
       "      <td>...</td>\n",
       "      <td>...</td>\n",
       "    </tr>\n",
       "    <tr>\n",
       "      <th>995</th>\n",
       "      <td>421</td>\n",
       "      <td>Marvel 1602</td>\n",
       "      <td>2</td>\n",
       "      <td>5.00</td>\n",
       "    </tr>\n",
       "    <tr>\n",
       "      <th>996</th>\n",
       "      <td>418</td>\n",
       "      <td>March</td>\n",
       "      <td>2</td>\n",
       "      <td>5.00</td>\n",
       "    </tr>\n",
       "    <tr>\n",
       "      <th>997</th>\n",
       "      <td>169</td>\n",
       "      <td>Crucial Conversations: Tools for Talking When Stakes Are High</td>\n",
       "      <td>2</td>\n",
       "      <td>5.00</td>\n",
       "    </tr>\n",
       "    <tr>\n",
       "      <th>998</th>\n",
       "      <td>901</td>\n",
       "      <td>The Walking Dead  Book One (The Walking Dead #1-12)</td>\n",
       "      <td>2</td>\n",
       "      <td>5.00</td>\n",
       "    </tr>\n",
       "    <tr>\n",
       "      <th>999</th>\n",
       "      <td>902</td>\n",
       "      <td>The War of Art: Break Through the Blocks &amp; Win Your Inner Creative Battles</td>\n",
       "      <td>2</td>\n",
       "      <td>5.00</td>\n",
       "    </tr>\n",
       "  </tbody>\n",
       "</table>\n",
       "<p>1000 rows × 4 columns</p>\n",
       "</div>"
      ],
      "text/plain": [
       "     book_id  \\\n",
       "0        303   \n",
       "1        371   \n",
       "2        316   \n",
       "3        202   \n",
       "4        915   \n",
       "..       ...   \n",
       "995      421   \n",
       "996      418   \n",
       "997      169   \n",
       "998      901   \n",
       "999      902   \n",
       "\n",
       "                                                                     book_title  \\\n",
       "0                                                          Harvesting the Heart   \n",
       "1                                                                         Junky   \n",
       "2                                             His Excellency: George Washington   \n",
       "3                                                                 Drowning Ruth   \n",
       "4                The World Is Flat: A Brief History of the Twenty-first Century   \n",
       "..                                                                          ...   \n",
       "995                                                                 Marvel 1602   \n",
       "996                                                                       March   \n",
       "997               Crucial Conversations: Tools for Talking When Stakes Are High   \n",
       "998                         The Walking Dead  Book One (The Walking Dead #1-12)   \n",
       "999  The War of Art: Break Through the Blocks & Win Your Inner Creative Battles   \n",
       "\n",
       "     count_review  avg_rating  \n",
       "0               2        1.50  \n",
       "1               2        2.00  \n",
       "2               2        2.00  \n",
       "3               3        2.00  \n",
       "4               3        2.25  \n",
       "..            ...         ...  \n",
       "995             2        5.00  \n",
       "996             2        5.00  \n",
       "997             2        5.00  \n",
       "998             2        5.00  \n",
       "999             2        5.00  \n",
       "\n",
       "[1000 rows x 4 columns]"
      ]
     },
     "execution_count": 19,
     "metadata": {},
     "output_type": "execute_result"
    }
   ],
   "source": [
    "task_2 = '''                \n",
    "             SELECT b.book_id AS book_id,\n",
    "                    b.title AS book_title,\n",
    "                    COUNT(DISTINCT rew.review_id) AS count_review,\n",
    "                    AVG(rat.rating) AS avg_rating\n",
    "                       \n",
    "             FROM books AS b\n",
    "             \n",
    "             LEFT JOIN reviews AS rew ON rew.book_id = b.book_id\n",
    "             LEFT JOIN ratings AS rat ON rat.book_id = b.book_id\n",
    "                \n",
    "             GROUP BY b.title, b.book_id\n",
    "                \n",
    "             ORDER BY avg_rating;   \n",
    "         ''' \n",
    "\n",
    "request(task_2)"
   ]
  },
  {
   "cell_type": "code",
   "execution_count": 20,
   "metadata": {},
   "outputs": [
    {
     "data": {
      "text/html": [
       "<div>\n",
       "<style scoped>\n",
       "    .dataframe tbody tr th:only-of-type {\n",
       "        vertical-align: middle;\n",
       "    }\n",
       "\n",
       "    .dataframe tbody tr th {\n",
       "        vertical-align: top;\n",
       "    }\n",
       "\n",
       "    .dataframe thead th {\n",
       "        text-align: right;\n",
       "    }\n",
       "</style>\n",
       "<table border=\"1\" class=\"dataframe\">\n",
       "  <thead>\n",
       "    <tr style=\"text-align: right;\">\n",
       "      <th></th>\n",
       "      <th>book_id</th>\n",
       "      <th>book_title</th>\n",
       "      <th>count_review</th>\n",
       "      <th>avg_rating</th>\n",
       "    </tr>\n",
       "  </thead>\n",
       "  <tbody>\n",
       "    <tr>\n",
       "      <th>0</th>\n",
       "      <td>83</td>\n",
       "      <td>Anne Rice's The Vampire Lestat: A Graphic Novel</td>\n",
       "      <td>0</td>\n",
       "      <td>3.666667</td>\n",
       "    </tr>\n",
       "    <tr>\n",
       "      <th>1</th>\n",
       "      <td>672</td>\n",
       "      <td>The Cat in the Hat and Other Dr. Seuss Favorites</td>\n",
       "      <td>0</td>\n",
       "      <td>5.000000</td>\n",
       "    </tr>\n",
       "    <tr>\n",
       "      <th>2</th>\n",
       "      <td>221</td>\n",
       "      <td>Essential Tales and Poems</td>\n",
       "      <td>0</td>\n",
       "      <td>4.000000</td>\n",
       "    </tr>\n",
       "    <tr>\n",
       "      <th>3</th>\n",
       "      <td>808</td>\n",
       "      <td>The Natural Way to Draw</td>\n",
       "      <td>0</td>\n",
       "      <td>3.000000</td>\n",
       "    </tr>\n",
       "    <tr>\n",
       "      <th>4</th>\n",
       "      <td>191</td>\n",
       "      <td>Disney's Beauty and the Beast (A Little Golden Book)</td>\n",
       "      <td>0</td>\n",
       "      <td>4.000000</td>\n",
       "    </tr>\n",
       "    <tr>\n",
       "      <th>...</th>\n",
       "      <td>...</td>\n",
       "      <td>...</td>\n",
       "      <td>...</td>\n",
       "      <td>...</td>\n",
       "    </tr>\n",
       "    <tr>\n",
       "      <th>995</th>\n",
       "      <td>733</td>\n",
       "      <td>The Giver (The Giver  #1)</td>\n",
       "      <td>6</td>\n",
       "      <td>3.750000</td>\n",
       "    </tr>\n",
       "    <tr>\n",
       "      <th>996</th>\n",
       "      <td>854</td>\n",
       "      <td>The Road</td>\n",
       "      <td>6</td>\n",
       "      <td>3.772727</td>\n",
       "    </tr>\n",
       "    <tr>\n",
       "      <th>997</th>\n",
       "      <td>695</td>\n",
       "      <td>The Curious Incident of the Dog in the Night-Time</td>\n",
       "      <td>6</td>\n",
       "      <td>4.081081</td>\n",
       "    </tr>\n",
       "    <tr>\n",
       "      <th>998</th>\n",
       "      <td>696</td>\n",
       "      <td>The Da Vinci Code (Robert Langdon  #2)</td>\n",
       "      <td>6</td>\n",
       "      <td>3.830508</td>\n",
       "    </tr>\n",
       "    <tr>\n",
       "      <th>999</th>\n",
       "      <td>948</td>\n",
       "      <td>Twilight (Twilight  #1)</td>\n",
       "      <td>7</td>\n",
       "      <td>3.662500</td>\n",
       "    </tr>\n",
       "  </tbody>\n",
       "</table>\n",
       "<p>1000 rows × 4 columns</p>\n",
       "</div>"
      ],
      "text/plain": [
       "     book_id                                            book_title  \\\n",
       "0         83       Anne Rice's The Vampire Lestat: A Graphic Novel   \n",
       "1        672      The Cat in the Hat and Other Dr. Seuss Favorites   \n",
       "2        221                             Essential Tales and Poems   \n",
       "3        808                               The Natural Way to Draw   \n",
       "4        191  Disney's Beauty and the Beast (A Little Golden Book)   \n",
       "..       ...                                                   ...   \n",
       "995      733                             The Giver (The Giver  #1)   \n",
       "996      854                                              The Road   \n",
       "997      695     The Curious Incident of the Dog in the Night-Time   \n",
       "998      696                The Da Vinci Code (Robert Langdon  #2)   \n",
       "999      948                               Twilight (Twilight  #1)   \n",
       "\n",
       "     count_review  avg_rating  \n",
       "0               0    3.666667  \n",
       "1               0    5.000000  \n",
       "2               0    4.000000  \n",
       "3               0    3.000000  \n",
       "4               0    4.000000  \n",
       "..            ...         ...  \n",
       "995             6    3.750000  \n",
       "996             6    3.772727  \n",
       "997             6    4.081081  \n",
       "998             6    3.830508  \n",
       "999             7    3.662500  \n",
       "\n",
       "[1000 rows x 4 columns]"
      ]
     },
     "execution_count": 20,
     "metadata": {},
     "output_type": "execute_result"
    }
   ],
   "source": [
    "task_2 = '''                \n",
    "             SELECT b.book_id AS book_id,\n",
    "                    b.title AS book_title,\n",
    "                    COUNT(DISTINCT rew.review_id) AS count_review,\n",
    "                    AVG(rat.rating) AS avg_rating\n",
    "                       \n",
    "             FROM books AS b\n",
    "             \n",
    "             LEFT JOIN reviews AS rew ON rew.book_id = b.book_id\n",
    "             LEFT JOIN ratings AS rat ON rat.book_id = b.book_id\n",
    "                \n",
    "             GROUP BY b.title, b.book_id\n",
    "                \n",
    "             ORDER BY count_review;   \n",
    "         ''' \n",
    "\n",
    "request(task_2)"
   ]
  },
  {
   "cell_type": "markdown",
   "metadata": {},
   "source": [
    "**Вывод**  \n",
    "Средний рейтинг книг варьируется от 1.5 до 5, а количество обзоров от 0 до 7."
   ]
  },
  {
   "cell_type": "code",
   "execution_count": 21,
   "metadata": {},
   "outputs": [
    {
     "data": {
      "text/plain": [
       "2793"
      ]
     },
     "execution_count": 21,
     "metadata": {},
     "output_type": "execute_result"
    }
   ],
   "source": [
    "# подсчет количества ревью\n",
    "reviews['review_id'].nunique()"
   ]
  },
  {
   "cell_type": "code",
   "execution_count": 22,
   "metadata": {},
   "outputs": [
    {
     "data": {
      "text/html": [
       "<div>\n",
       "<style scoped>\n",
       "    .dataframe tbody tr th:only-of-type {\n",
       "        vertical-align: middle;\n",
       "    }\n",
       "\n",
       "    .dataframe tbody tr th {\n",
       "        vertical-align: top;\n",
       "    }\n",
       "\n",
       "    .dataframe thead th {\n",
       "        text-align: right;\n",
       "    }\n",
       "</style>\n",
       "<table border=\"1\" class=\"dataframe\">\n",
       "  <thead>\n",
       "    <tr style=\"text-align: right;\">\n",
       "      <th></th>\n",
       "      <th>count_review</th>\n",
       "    </tr>\n",
       "  </thead>\n",
       "  <tbody>\n",
       "    <tr>\n",
       "      <th>0</th>\n",
       "      <td>2793</td>\n",
       "    </tr>\n",
       "  </tbody>\n",
       "</table>\n",
       "</div>"
      ],
      "text/plain": [
       "   count_review\n",
       "0          2793"
      ]
     },
     "execution_count": 22,
     "metadata": {},
     "output_type": "execute_result"
    }
   ],
   "source": [
    "task_2_1 = '''                \n",
    "             SELECT COUNT(DISTINCT review_id) AS count_review\n",
    "                       \n",
    "             FROM reviews;\n",
    "         ''' \n",
    "\n",
    "request(task_2_1)"
   ]
  },
  {
   "cell_type": "markdown",
   "metadata": {},
   "source": [
    "## Издательство, которое выпустило наибольшее число книг толще 50 страниц (исключение из анализа брошюр) <a id=\"publisher\"></a> "
   ]
  },
  {
   "cell_type": "code",
   "execution_count": 23,
   "metadata": {},
   "outputs": [
    {
     "data": {
      "text/html": [
       "<div>\n",
       "<style scoped>\n",
       "    .dataframe tbody tr th:only-of-type {\n",
       "        vertical-align: middle;\n",
       "    }\n",
       "\n",
       "    .dataframe tbody tr th {\n",
       "        vertical-align: top;\n",
       "    }\n",
       "\n",
       "    .dataframe thead th {\n",
       "        text-align: right;\n",
       "    }\n",
       "</style>\n",
       "<table border=\"1\" class=\"dataframe\">\n",
       "  <thead>\n",
       "    <tr style=\"text-align: right;\">\n",
       "      <th></th>\n",
       "      <th>publisher_id</th>\n",
       "      <th>name_publisher</th>\n",
       "      <th>count_books</th>\n",
       "    </tr>\n",
       "  </thead>\n",
       "  <tbody>\n",
       "    <tr>\n",
       "      <th>0</th>\n",
       "      <td>212</td>\n",
       "      <td>Penguin Books</td>\n",
       "      <td>42</td>\n",
       "    </tr>\n",
       "  </tbody>\n",
       "</table>\n",
       "</div>"
      ],
      "text/plain": [
       "   publisher_id name_publisher  count_books\n",
       "0           212  Penguin Books           42"
      ]
     },
     "execution_count": 23,
     "metadata": {},
     "output_type": "execute_result"
    }
   ],
   "source": [
    "task_3 = '''                \n",
    "            SELECT p.publisher_id AS publisher_id, \n",
    "                   p.publisher AS name_publisher,\n",
    "                   COUNT(b.book_id) AS count_books\n",
    "                       \n",
    "            FROM publishers AS p\n",
    "                \n",
    "            INNER JOIN books AS b ON b.publisher_id = p.publisher_id\n",
    "                \n",
    "            WHERE b.num_pages > 50\n",
    "                \n",
    "            GROUP BY p.publisher_id\n",
    "                \n",
    "            ORDER BY count_books DESC\n",
    "                \n",
    "            LIMIT 1;\n",
    "         ''' \n",
    "\n",
    "request(task_3)"
   ]
  },
  {
   "cell_type": "markdown",
   "metadata": {},
   "source": [
    "**Вывод**  \n",
    "Наибольшее количество книг выпустило издательство Penguin Books — 42 книги. Данное издательство выпустило наибольшее количество книг толще 50 страниц."
   ]
  },
  {
   "cell_type": "markdown",
   "metadata": {},
   "source": [
    "## Автор с самой высокой средней оценкой книг (только книги с 50 и более оценками) <a id=\"authors\"></a> "
   ]
  },
  {
   "cell_type": "code",
   "execution_count": 24,
   "metadata": {},
   "outputs": [
    {
     "data": {
      "text/html": [
       "<div>\n",
       "<style scoped>\n",
       "    .dataframe tbody tr th:only-of-type {\n",
       "        vertical-align: middle;\n",
       "    }\n",
       "\n",
       "    .dataframe tbody tr th {\n",
       "        vertical-align: top;\n",
       "    }\n",
       "\n",
       "    .dataframe thead th {\n",
       "        text-align: right;\n",
       "    }\n",
       "</style>\n",
       "<table border=\"1\" class=\"dataframe\">\n",
       "  <thead>\n",
       "    <tr style=\"text-align: right;\">\n",
       "      <th></th>\n",
       "      <th>author_id</th>\n",
       "      <th>name_author</th>\n",
       "      <th>avg_rating</th>\n",
       "      <th>count_ratings</th>\n",
       "    </tr>\n",
       "  </thead>\n",
       "  <tbody>\n",
       "    <tr>\n",
       "      <th>0</th>\n",
       "      <td>236</td>\n",
       "      <td>J.K. Rowling/Mary GrandPré</td>\n",
       "      <td>4.287097</td>\n",
       "      <td>310</td>\n",
       "    </tr>\n",
       "  </tbody>\n",
       "</table>\n",
       "</div>"
      ],
      "text/plain": [
       "   author_id                 name_author  avg_rating  count_ratings\n",
       "0        236  J.K. Rowling/Mary GrandPré    4.287097            310"
      ]
     },
     "execution_count": 24,
     "metadata": {},
     "output_type": "execute_result"
    }
   ],
   "source": [
    "task_4 = '''                \n",
    "            SELECT a.author_id AS author_id, \n",
    "                   a.author AS name_author,\n",
    "                   AVG(rat.rating) AS avg_rating,\n",
    "                   COUNT(rat.rating_id) AS count_ratings\n",
    "                       \n",
    "            FROM authors AS a\n",
    "                \n",
    "            INNER JOIN books AS b ON b.author_id = a.author_id\n",
    "            INNER JOIN ratings AS rat ON rat.book_id = b.book_id\n",
    "            \n",
    "            WHERE b.book_id IN (\n",
    "                                 SELECT b.book_id\n",
    "                              \n",
    "                                 FROM books AS b\n",
    "                              \n",
    "                                 INNER JOIN ratings AS rat ON b.book_id = rat.book_id\n",
    "                              \n",
    "                                 GROUP BY b.book_id\n",
    "                              \n",
    "                                 HAVING COUNT(rat.rating_id) >= 50\n",
    "                                )\n",
    "            \n",
    "            GROUP BY a.author_id\n",
    "                    \n",
    "            ORDER BY avg_rating DESC\n",
    "                \n",
    "            LIMIT 1;\n",
    "         ''' \n",
    "\n",
    "request(task_4)"
   ]
  },
  {
   "cell_type": "markdown",
   "metadata": {},
   "source": [
    "**Вывод**  \n",
    "Автор с самой высокой средней оценкой книг — J.K. Rowling/Mary GrandPré. Самый высокий средний рейтинг — 4.287097."
   ]
  },
  {
   "cell_type": "markdown",
   "metadata": {},
   "source": [
    "## Среднее количество обзоров от пользователей, которые поставили больше 48 оценок <a id=\"48_rat\"></a> "
   ]
  },
  {
   "cell_type": "code",
   "execution_count": 25,
   "metadata": {},
   "outputs": [
    {
     "data": {
      "text/html": [
       "<div>\n",
       "<style scoped>\n",
       "    .dataframe tbody tr th:only-of-type {\n",
       "        vertical-align: middle;\n",
       "    }\n",
       "\n",
       "    .dataframe tbody tr th {\n",
       "        vertical-align: top;\n",
       "    }\n",
       "\n",
       "    .dataframe thead th {\n",
       "        text-align: right;\n",
       "    }\n",
       "</style>\n",
       "<table border=\"1\" class=\"dataframe\">\n",
       "  <thead>\n",
       "    <tr style=\"text-align: right;\">\n",
       "      <th></th>\n",
       "      <th>avg_review</th>\n",
       "    </tr>\n",
       "  </thead>\n",
       "  <tbody>\n",
       "    <tr>\n",
       "      <th>0</th>\n",
       "      <td>24.0</td>\n",
       "    </tr>\n",
       "  </tbody>\n",
       "</table>\n",
       "</div>"
      ],
      "text/plain": [
       "   avg_review\n",
       "0        24.0"
      ]
     },
     "execution_count": 25,
     "metadata": {},
     "output_type": "execute_result"
    }
   ],
   "source": [
    "task_5 = '''                \n",
    "            WITH av AS (\n",
    "                         SELECT rew.username,\n",
    "                         \n",
    "                         COUNT(rew.review_id) AS count_reviews\n",
    "                         \n",
    "                         FROM reviews AS rew\n",
    "                        \n",
    "                         WHERE username IN (\n",
    "                                             SELECT username\n",
    "                                             \n",
    "                                             FROM ratings\n",
    "                                             \n",
    "                                             GROUP BY username\n",
    "                                             \n",
    "                                             HAVING COUNT(rating_id) > 48\n",
    "                                            )\n",
    "                        \n",
    "                         GROUP BY username\n",
    "                        )\n",
    "                        \n",
    "            SELECT AVG(av.count_reviews) AS avg_review\n",
    "                       \n",
    "            FROM av\n",
    "         ''' \n",
    "\n",
    "request(task_5)"
   ]
  },
  {
   "cell_type": "markdown",
   "metadata": {},
   "source": [
    "**Вывод**  \n",
    "В среднем пользователи оставляют 24 обзора (из пользователей, которые поставили более 48 оценок)"
   ]
  },
  {
   "cell_type": "markdown",
   "metadata": {},
   "source": [
    "## Таблица по году публикации <a id=\"year\"></a> "
   ]
  },
  {
   "cell_type": "markdown",
   "metadata": {},
   "source": [
    "Таблица, которая содержит по году публикации:\n",
    "* количество издательств;  \n",
    "* выпущенных книг;  \n",
    "* сколько всего тысяч страниц было в изданных книгах;  \n",
    "* использовать года, в которых издано более 30 книг.  "
   ]
  },
  {
   "cell_type": "code",
   "execution_count": 26,
   "metadata": {},
   "outputs": [
    {
     "data": {
      "text/html": [
       "<div>\n",
       "<style scoped>\n",
       "    .dataframe tbody tr th:only-of-type {\n",
       "        vertical-align: middle;\n",
       "    }\n",
       "\n",
       "    .dataframe tbody tr th {\n",
       "        vertical-align: top;\n",
       "    }\n",
       "\n",
       "    .dataframe thead th {\n",
       "        text-align: right;\n",
       "    }\n",
       "</style>\n",
       "<table border=\"1\" class=\"dataframe\">\n",
       "  <thead>\n",
       "    <tr style=\"text-align: right;\">\n",
       "      <th></th>\n",
       "      <th>count_publishers</th>\n",
       "      <th>count_books</th>\n",
       "      <th>thousand_pages</th>\n",
       "      <th>publication_year</th>\n",
       "    </tr>\n",
       "  </thead>\n",
       "  <tbody>\n",
       "    <tr>\n",
       "      <th>0</th>\n",
       "      <td>26</td>\n",
       "      <td>41</td>\n",
       "      <td>15</td>\n",
       "      <td>1999.0</td>\n",
       "    </tr>\n",
       "    <tr>\n",
       "      <th>1</th>\n",
       "      <td>35</td>\n",
       "      <td>38</td>\n",
       "      <td>13</td>\n",
       "      <td>2000.0</td>\n",
       "    </tr>\n",
       "    <tr>\n",
       "      <th>2</th>\n",
       "      <td>41</td>\n",
       "      <td>60</td>\n",
       "      <td>21</td>\n",
       "      <td>2001.0</td>\n",
       "    </tr>\n",
       "    <tr>\n",
       "      <th>3</th>\n",
       "      <td>62</td>\n",
       "      <td>94</td>\n",
       "      <td>38</td>\n",
       "      <td>2002.0</td>\n",
       "    </tr>\n",
       "    <tr>\n",
       "      <th>4</th>\n",
       "      <td>65</td>\n",
       "      <td>105</td>\n",
       "      <td>41</td>\n",
       "      <td>2003.0</td>\n",
       "    </tr>\n",
       "    <tr>\n",
       "      <th>5</th>\n",
       "      <td>88</td>\n",
       "      <td>124</td>\n",
       "      <td>46</td>\n",
       "      <td>2004.0</td>\n",
       "    </tr>\n",
       "    <tr>\n",
       "      <th>6</th>\n",
       "      <td>89</td>\n",
       "      <td>139</td>\n",
       "      <td>55</td>\n",
       "      <td>2005.0</td>\n",
       "    </tr>\n",
       "    <tr>\n",
       "      <th>7</th>\n",
       "      <td>109</td>\n",
       "      <td>184</td>\n",
       "      <td>68</td>\n",
       "      <td>2006.0</td>\n",
       "    </tr>\n",
       "    <tr>\n",
       "      <th>8</th>\n",
       "      <td>38</td>\n",
       "      <td>50</td>\n",
       "      <td>18</td>\n",
       "      <td>2007.0</td>\n",
       "    </tr>\n",
       "  </tbody>\n",
       "</table>\n",
       "</div>"
      ],
      "text/plain": [
       "   count_publishers  count_books  thousand_pages  publication_year\n",
       "0                26           41              15            1999.0\n",
       "1                35           38              13            2000.0\n",
       "2                41           60              21            2001.0\n",
       "3                62           94              38            2002.0\n",
       "4                65          105              41            2003.0\n",
       "5                88          124              46            2004.0\n",
       "6                89          139              55            2005.0\n",
       "7               109          184              68            2006.0\n",
       "8                38           50              18            2007.0"
      ]
     },
     "execution_count": 26,
     "metadata": {},
     "output_type": "execute_result"
    }
   ],
   "source": [
    "task_6 = '''\n",
    "             SELECT COUNT(DISTINCT publisher_id) AS count_publishers,\n",
    "                    COUNT(book_id) AS count_books,\n",
    "                    SUM(num_pages) / 1000 AS thousand_pages,\n",
    "                    EXTRACT(YEAR FROM CAST(publication_date AS date)) AS publication_year\n",
    "             \n",
    "             FROM books\n",
    "             \n",
    "             GROUP BY publication_year\n",
    "             \n",
    "             HAVING COUNT(book_id) > 30\n",
    "             \n",
    "             ORDER BY publication_year;\n",
    "         ''' \n",
    "\n",
    "request(task_6)"
   ]
  },
  {
   "cell_type": "markdown",
   "metadata": {},
   "source": [
    "**Вывод**  \n",
    "Публикация более 30 книг проходила с 1999 по 2007 года.  Наибольшее количество книг было издано в 2006 году, а наименьшее — 2000 году.  \n",
    "Наибольшее количество издательств приходится на 2006 год."
   ]
  },
  {
   "cell_type": "markdown",
   "metadata": {},
   "source": [
    "## Таблица со средней оценкой  <a id=\"count_rating\"></a> "
   ]
  },
  {
   "cell_type": "markdown",
   "metadata": {},
   "source": [
    "В одной таблице два числа:  \n",
    "* средняя оценка тех книг, на которые написало отзывов более 3 человек;  \n",
    "* средняя оценка остальных книг;  \n",
    "* выводы какой рейтинг больше.\n"
   ]
  },
  {
   "cell_type": "code",
   "execution_count": 28,
   "metadata": {},
   "outputs": [
    {
     "data": {
      "text/html": [
       "<div>\n",
       "<style scoped>\n",
       "    .dataframe tbody tr th:only-of-type {\n",
       "        vertical-align: middle;\n",
       "    }\n",
       "\n",
       "    .dataframe tbody tr th {\n",
       "        vertical-align: top;\n",
       "    }\n",
       "\n",
       "    .dataframe thead th {\n",
       "        text-align: right;\n",
       "    }\n",
       "</style>\n",
       "<table border=\"1\" class=\"dataframe\">\n",
       "  <thead>\n",
       "    <tr style=\"text-align: right;\">\n",
       "      <th></th>\n",
       "      <th>avg_rating</th>\n",
       "    </tr>\n",
       "  </thead>\n",
       "  <tbody>\n",
       "    <tr>\n",
       "      <th>0</th>\n",
       "      <td>3.890496</td>\n",
       "    </tr>\n",
       "    <tr>\n",
       "      <th>1</th>\n",
       "      <td>3.925045</td>\n",
       "    </tr>\n",
       "  </tbody>\n",
       "</table>\n",
       "</div>"
      ],
      "text/plain": [
       "   avg_rating\n",
       "0    3.890496\n",
       "1    3.925045"
      ]
     },
     "execution_count": 28,
     "metadata": {},
     "output_type": "execute_result"
    }
   ],
   "source": [
    "task_7 = '''\n",
    "            (WITH av_up AS (\n",
    "                         SELECT rat.book_id,\n",
    "                         \n",
    "                         AVG(rat.rating) AS count_rating\n",
    "                         \n",
    "                         FROM ratings AS rat\n",
    "                        \n",
    "                         WHERE book_id IN (\n",
    "                                             SELECT book_id\n",
    "                                             \n",
    "                                             FROM reviews\n",
    "                                             \n",
    "                                             GROUP BY book_id\n",
    "                                             \n",
    "                                             HAVING COUNT(book_id) <= 3 \n",
    "                                            )\n",
    "                        \n",
    "                         GROUP BY book_id\n",
    "                        )\n",
    "            \n",
    "            \n",
    "            \n",
    "            \n",
    "            SELECT AVG(av_up.count_rating) AS avg_rating\n",
    "                       \n",
    "            FROM av_up)           \n",
    "            \n",
    "            \n",
    "            UNION \n",
    "            \n",
    "            \n",
    "            (WITH av AS (\n",
    "                         SELECT rat.book_id,\n",
    "                         \n",
    "                         AVG(rat.rating) AS count_rating\n",
    "                         \n",
    "                         FROM ratings AS rat\n",
    "                        \n",
    "                         WHERE book_id IN (\n",
    "                                             SELECT book_id\n",
    "                                             \n",
    "                                             FROM reviews\n",
    "                                             \n",
    "                                             GROUP BY book_id\n",
    "                                             \n",
    "                                             HAVING COUNT(book_id) > 3 \n",
    "                                            )\n",
    "                        \n",
    "                         GROUP BY book_id\n",
    "                        )\n",
    "            \n",
    "            \n",
    "            \n",
    "            \n",
    "            SELECT AVG(av.count_rating) AS avg_rating\n",
    "                       \n",
    "            FROM av)           \n",
    "         '''\n",
    "\n",
    "request(task_7)"
   ]
  },
  {
   "cell_type": "markdown",
   "metadata": {},
   "source": [
    "**Вывод**  \n",
    "Таким образом, средняя оценка книг, которые оценили более 3 человек чуть ниже (3.890496), чем средний рейтинг книг, которые оценили менее 3 человека и менее (3.925045)."
   ]
  },
  {
   "cell_type": "markdown",
   "metadata": {},
   "source": [
    "## Общий вывод  <a id=\"done\"></a> "
   ]
  },
  {
   "cell_type": "markdown",
   "metadata": {},
   "source": [
    "* в исследовании представлены 5 датасетов. \n",
    "* после 1 января 2000 года вышло 819 книг.  \n",
    "* средний рейтинг книг варьируется от 1.5 до 5.  \n",
    "* количество обзоров книг варьируется от 0 до 7.\n",
    "* если рассматривать издательства, которые выпустили книги более 50 страниц, то можно сделать вывод, что наибольшее количество книг выпустило издательство Penguin Books (42 книги).  \n",
    "* J.K. Rowling/Mary GrandPré является автором с самой высокой средней оценкой книг (4.287097).  \n",
    "* если рассматривать пользователей, которые поставили более 48 оценок, то можно сделать вывод, что в среднем пользователи оставляют 24 обзора.   \n",
    "* публикация более 30 книг в году проходила с 1999 по 2007 года.   \n",
    "* издательство наибольшего количества книг приходится на 2006 год, а наименьшее на 2000.  \n",
    "* наименьшее количество издательств приходится на тот же год, что и издательство наименьшего кольчества книг — 2000 год.  \n",
    "* средняя оценка книг, которые оценили более 3 человек чуть ниже (3.890496), чем средний рейтинг книг, которые оценили менее 3 человека и менее (3.925045).\n"
   ]
  }
 ],
 "metadata": {
  "ExecuteTimeLog": [
   {
    "duration": 551,
    "start_time": "2023-07-20T14:18:06.889Z"
   },
   {
    "duration": 3,
    "start_time": "2023-07-20T14:18:13.589Z"
   },
   {
    "duration": 14428,
    "start_time": "2023-07-20T14:19:17.478Z"
   },
   {
    "duration": 6,
    "start_time": "2023-07-20T14:19:41.664Z"
   },
   {
    "duration": 65,
    "start_time": "2023-07-20T14:19:46.749Z"
   },
   {
    "duration": 636,
    "start_time": "2023-07-20T14:19:51.075Z"
   },
   {
    "duration": 5,
    "start_time": "2023-07-20T14:20:08.437Z"
   },
   {
    "duration": 15,
    "start_time": "2023-07-20T14:20:13.072Z"
   },
   {
    "duration": 12,
    "start_time": "2023-07-20T14:20:25.607Z"
   },
   {
    "duration": 35,
    "start_time": "2023-07-20T14:20:30.171Z"
   },
   {
    "duration": 9,
    "start_time": "2023-07-20T14:20:48.156Z"
   },
   {
    "duration": 33,
    "start_time": "2023-07-20T14:20:52.490Z"
   },
   {
    "duration": 31,
    "start_time": "2023-07-20T14:21:05.858Z"
   },
   {
    "duration": 40,
    "start_time": "2023-07-20T14:21:09.410Z"
   },
   {
    "duration": 22,
    "start_time": "2023-07-20T14:21:22.591Z"
   },
   {
    "duration": 35,
    "start_time": "2023-07-20T14:21:26.429Z"
   },
   {
    "duration": 4,
    "start_time": "2023-07-20T14:21:40.961Z"
   },
   {
    "duration": 15,
    "start_time": "2023-07-20T14:21:53.256Z"
   },
   {
    "duration": 35,
    "start_time": "2023-07-20T14:22:14.042Z"
   },
   {
    "duration": 14,
    "start_time": "2023-07-20T14:22:39.090Z"
   },
   {
    "duration": 21,
    "start_time": "2023-07-20T14:23:00.557Z"
   },
   {
    "duration": 16,
    "start_time": "2023-07-20T14:23:27.443Z"
   },
   {
    "duration": 522,
    "start_time": "2023-07-20T14:24:11.091Z"
   },
   {
    "duration": 2,
    "start_time": "2023-07-20T14:24:11.615Z"
   },
   {
    "duration": 15297,
    "start_time": "2023-07-20T14:24:11.618Z"
   },
   {
    "duration": 6,
    "start_time": "2023-07-20T14:24:26.917Z"
   },
   {
    "duration": 82,
    "start_time": "2023-07-20T14:24:26.924Z"
   },
   {
    "duration": 389,
    "start_time": "2023-07-20T14:24:27.008Z"
   },
   {
    "duration": 5,
    "start_time": "2023-07-20T14:24:27.398Z"
   },
   {
    "duration": 24,
    "start_time": "2023-07-20T14:24:27.405Z"
   },
   {
    "duration": 18,
    "start_time": "2023-07-20T14:24:27.431Z"
   },
   {
    "duration": 45,
    "start_time": "2023-07-20T14:24:27.452Z"
   },
   {
    "duration": 9,
    "start_time": "2023-07-20T14:24:27.499Z"
   },
   {
    "duration": 69,
    "start_time": "2023-07-20T14:24:27.510Z"
   },
   {
    "duration": 25,
    "start_time": "2023-07-20T14:24:27.581Z"
   },
   {
    "duration": 68,
    "start_time": "2023-07-20T14:24:27.607Z"
   },
   {
    "duration": 17,
    "start_time": "2023-07-20T14:24:27.676Z"
   },
   {
    "duration": 41,
    "start_time": "2023-07-20T14:24:27.695Z"
   },
   {
    "duration": 14,
    "start_time": "2023-07-20T14:24:27.762Z"
   },
   {
    "duration": 37,
    "start_time": "2023-07-20T14:24:27.778Z"
   },
   {
    "duration": 41,
    "start_time": "2023-07-20T14:24:27.816Z"
   },
   {
    "duration": 25,
    "start_time": "2023-07-20T14:24:27.859Z"
   },
   {
    "duration": 17,
    "start_time": "2023-07-20T14:24:27.885Z"
   },
   {
    "duration": 16,
    "start_time": "2023-07-20T14:24:27.904Z"
   },
   {
    "duration": 3,
    "start_time": "2023-07-20T14:30:24.925Z"
   },
   {
    "duration": 563,
    "start_time": "2023-07-20T14:30:30.656Z"
   },
   {
    "duration": 3,
    "start_time": "2023-07-20T14:30:31.222Z"
   },
   {
    "duration": 14232,
    "start_time": "2023-07-20T14:30:31.227Z"
   },
   {
    "duration": 6,
    "start_time": "2023-07-20T14:30:45.462Z"
   },
   {
    "duration": 95,
    "start_time": "2023-07-20T14:30:45.470Z"
   },
   {
    "duration": 393,
    "start_time": "2023-07-20T14:30:45.567Z"
   },
   {
    "duration": 6,
    "start_time": "2023-07-20T14:30:45.962Z"
   },
   {
    "duration": 18,
    "start_time": "2023-07-20T14:30:45.970Z"
   },
   {
    "duration": 18,
    "start_time": "2023-07-20T14:30:45.991Z"
   },
   {
    "duration": 56,
    "start_time": "2023-07-20T14:30:46.012Z"
   },
   {
    "duration": 13,
    "start_time": "2023-07-20T14:30:46.070Z"
   },
   {
    "duration": 38,
    "start_time": "2023-07-20T14:30:46.084Z"
   },
   {
    "duration": 57,
    "start_time": "2023-07-20T14:30:46.124Z"
   },
   {
    "duration": 41,
    "start_time": "2023-07-20T14:30:46.183Z"
   },
   {
    "duration": 44,
    "start_time": "2023-07-20T14:30:46.226Z"
   },
   {
    "duration": 32,
    "start_time": "2023-07-20T14:30:46.272Z"
   },
   {
    "duration": 3,
    "start_time": "2023-07-20T14:30:46.306Z"
   },
   {
    "duration": 47,
    "start_time": "2023-07-20T14:30:46.312Z"
   },
   {
    "duration": 35,
    "start_time": "2023-07-20T14:30:46.361Z"
   },
   {
    "duration": 14,
    "start_time": "2023-07-20T14:30:46.397Z"
   },
   {
    "duration": 19,
    "start_time": "2023-07-20T14:30:46.412Z"
   },
   {
    "duration": 15,
    "start_time": "2023-07-20T14:30:46.433Z"
   },
   {
    "duration": 555,
    "start_time": "2023-07-20T14:32:49.943Z"
   },
   {
    "duration": 3,
    "start_time": "2023-07-20T14:32:50.500Z"
   },
   {
    "duration": 17288,
    "start_time": "2023-07-20T14:32:50.505Z"
   },
   {
    "duration": 6,
    "start_time": "2023-07-20T14:33:07.794Z"
   },
   {
    "duration": 54,
    "start_time": "2023-07-20T14:33:07.802Z"
   },
   {
    "duration": 495,
    "start_time": "2023-07-20T14:33:07.857Z"
   },
   {
    "duration": 6,
    "start_time": "2023-07-20T14:33:08.358Z"
   },
   {
    "duration": 24,
    "start_time": "2023-07-20T14:33:08.366Z"
   },
   {
    "duration": 18,
    "start_time": "2023-07-20T14:33:08.393Z"
   },
   {
    "duration": 64,
    "start_time": "2023-07-20T14:33:08.414Z"
   },
   {
    "duration": 20,
    "start_time": "2023-07-20T14:33:08.480Z"
   },
   {
    "duration": 65,
    "start_time": "2023-07-20T14:33:08.503Z"
   },
   {
    "duration": 32,
    "start_time": "2023-07-20T14:33:08.570Z"
   },
   {
    "duration": 65,
    "start_time": "2023-07-20T14:33:08.606Z"
   },
   {
    "duration": 15,
    "start_time": "2023-07-20T14:33:08.672Z"
   },
   {
    "duration": 80,
    "start_time": "2023-07-20T14:33:08.689Z"
   },
   {
    "duration": 4,
    "start_time": "2023-07-20T14:33:08.772Z"
   },
   {
    "duration": 20,
    "start_time": "2023-07-20T14:33:08.777Z"
   },
   {
    "duration": 53,
    "start_time": "2023-07-20T14:33:08.799Z"
   },
   {
    "duration": 18,
    "start_time": "2023-07-20T14:33:08.855Z"
   },
   {
    "duration": 39,
    "start_time": "2023-07-20T14:33:08.874Z"
   },
   {
    "duration": 15,
    "start_time": "2023-07-20T14:33:08.916Z"
   },
   {
    "duration": 13,
    "start_time": "2023-07-20T14:36:46.864Z"
   },
   {
    "duration": 35,
    "start_time": "2023-07-20T14:37:57.078Z"
   },
   {
    "duration": 37,
    "start_time": "2023-07-20T14:45:21.788Z"
   },
   {
    "duration": 33,
    "start_time": "2023-07-20T14:48:10.241Z"
   },
   {
    "duration": 29,
    "start_time": "2023-07-20T14:48:18.620Z"
   },
   {
    "duration": 31,
    "start_time": "2023-07-20T14:48:41.663Z"
   },
   {
    "duration": 239,
    "start_time": "2023-07-20T14:49:25.785Z"
   },
   {
    "duration": 15,
    "start_time": "2023-07-20T14:49:41.554Z"
   },
   {
    "duration": 30,
    "start_time": "2023-07-20T15:02:44.728Z"
   },
   {
    "duration": 35,
    "start_time": "2023-07-20T15:03:47.223Z"
   },
   {
    "duration": 31,
    "start_time": "2023-07-20T15:03:51.811Z"
   },
   {
    "duration": 32,
    "start_time": "2023-07-20T15:03:52.222Z"
   },
   {
    "duration": 182,
    "start_time": "2023-07-20T15:06:54.753Z"
   },
   {
    "duration": 161,
    "start_time": "2023-07-20T15:07:05.991Z"
   },
   {
    "duration": 18,
    "start_time": "2023-07-20T15:08:49.429Z"
   },
   {
    "duration": 158,
    "start_time": "2023-07-20T15:13:39.274Z"
   },
   {
    "duration": 159,
    "start_time": "2023-07-20T15:13:50.753Z"
   },
   {
    "duration": 186,
    "start_time": "2023-07-20T15:14:19.951Z"
   },
   {
    "duration": 180,
    "start_time": "2023-07-20T15:15:50.096Z"
   },
   {
    "duration": 170,
    "start_time": "2023-07-20T15:16:33.334Z"
   },
   {
    "duration": 192,
    "start_time": "2023-07-20T15:16:52.033Z"
   },
   {
    "duration": 164,
    "start_time": "2023-07-20T15:17:01.422Z"
   },
   {
    "duration": 179,
    "start_time": "2023-07-20T15:17:15.373Z"
   },
   {
    "duration": 171,
    "start_time": "2023-07-20T15:18:01.840Z"
   },
   {
    "duration": 154,
    "start_time": "2023-07-20T15:19:16.972Z"
   },
   {
    "duration": 158,
    "start_time": "2023-07-20T15:19:25.304Z"
   },
   {
    "duration": 162,
    "start_time": "2023-07-20T15:19:57.777Z"
   },
   {
    "duration": 146,
    "start_time": "2023-07-20T15:20:40.998Z"
   },
   {
    "duration": 171,
    "start_time": "2023-07-20T15:20:51.085Z"
   },
   {
    "duration": 21,
    "start_time": "2023-07-20T15:22:22.976Z"
   },
   {
    "duration": 19,
    "start_time": "2023-07-20T15:32:15.303Z"
   },
   {
    "duration": 626,
    "start_time": "2023-07-20T15:36:29.066Z"
   },
   {
    "duration": 2,
    "start_time": "2023-07-20T15:36:29.694Z"
   },
   {
    "duration": 13859,
    "start_time": "2023-07-20T15:36:29.698Z"
   },
   {
    "duration": 5,
    "start_time": "2023-07-20T15:36:43.559Z"
   },
   {
    "duration": 85,
    "start_time": "2023-07-20T15:36:43.565Z"
   },
   {
    "duration": 367,
    "start_time": "2023-07-20T15:36:43.651Z"
   },
   {
    "duration": 4,
    "start_time": "2023-07-20T15:36:44.019Z"
   },
   {
    "duration": 32,
    "start_time": "2023-07-20T15:36:44.025Z"
   },
   {
    "duration": 16,
    "start_time": "2023-07-20T15:36:44.059Z"
   },
   {
    "duration": 34,
    "start_time": "2023-07-20T15:36:44.079Z"
   },
   {
    "duration": 8,
    "start_time": "2023-07-20T15:36:44.115Z"
   },
   {
    "duration": 54,
    "start_time": "2023-07-20T15:36:44.124Z"
   },
   {
    "duration": 29,
    "start_time": "2023-07-20T15:36:44.180Z"
   },
   {
    "duration": 67,
    "start_time": "2023-07-20T15:36:44.212Z"
   },
   {
    "duration": 20,
    "start_time": "2023-07-20T15:36:44.281Z"
   },
   {
    "duration": 70,
    "start_time": "2023-07-20T15:36:44.304Z"
   },
   {
    "duration": 4,
    "start_time": "2023-07-20T15:36:44.376Z"
   },
   {
    "duration": 24,
    "start_time": "2023-07-20T15:36:44.381Z"
   },
   {
    "duration": 28,
    "start_time": "2023-07-20T15:36:44.407Z"
   },
   {
    "duration": 27,
    "start_time": "2023-07-20T15:36:44.437Z"
   },
   {
    "duration": 24,
    "start_time": "2023-07-20T15:36:44.466Z"
   },
   {
    "duration": 17,
    "start_time": "2023-07-20T15:36:44.492Z"
   },
   {
    "duration": 13,
    "start_time": "2023-07-20T15:36:44.510Z"
   },
   {
    "duration": 448,
    "start_time": "2023-07-20T18:42:56.947Z"
   },
   {
    "duration": 5,
    "start_time": "2023-07-20T18:42:57.396Z"
   },
   {
    "duration": 13439,
    "start_time": "2023-07-20T18:42:57.402Z"
   },
   {
    "duration": 5,
    "start_time": "2023-07-20T18:43:10.842Z"
   },
   {
    "duration": 301,
    "start_time": "2023-07-20T18:43:10.848Z"
   },
   {
    "duration": 289,
    "start_time": "2023-07-20T18:43:11.150Z"
   },
   {
    "duration": 4,
    "start_time": "2023-07-20T18:43:11.440Z"
   },
   {
    "duration": 36,
    "start_time": "2023-07-20T18:43:11.445Z"
   },
   {
    "duration": 92,
    "start_time": "2023-07-20T18:43:11.483Z"
   },
   {
    "duration": 23,
    "start_time": "2023-07-20T18:43:11.577Z"
   },
   {
    "duration": 69,
    "start_time": "2023-07-20T18:43:11.602Z"
   },
   {
    "duration": 30,
    "start_time": "2023-07-20T18:43:11.673Z"
   },
   {
    "duration": 99,
    "start_time": "2023-07-20T18:43:11.705Z"
   },
   {
    "duration": 27,
    "start_time": "2023-07-20T18:43:11.805Z"
   },
   {
    "duration": 82,
    "start_time": "2023-07-20T18:43:11.833Z"
   },
   {
    "duration": 28,
    "start_time": "2023-07-20T18:43:11.916Z"
   },
   {
    "duration": 3,
    "start_time": "2023-07-20T18:43:11.945Z"
   },
   {
    "duration": 83,
    "start_time": "2023-07-20T18:43:11.949Z"
   },
   {
    "duration": 86,
    "start_time": "2023-07-20T18:43:12.033Z"
   },
   {
    "duration": 86,
    "start_time": "2023-07-20T18:43:12.120Z"
   },
   {
    "duration": 71,
    "start_time": "2023-07-20T18:43:12.207Z"
   },
   {
    "duration": 79,
    "start_time": "2023-07-20T18:43:12.280Z"
   },
   {
    "duration": 73,
    "start_time": "2023-07-20T18:43:12.360Z"
   },
   {
    "duration": 106,
    "start_time": "2023-07-20T18:49:26.657Z"
   },
   {
    "duration": 99,
    "start_time": "2023-07-20T18:49:35.569Z"
   },
   {
    "duration": 525,
    "start_time": "2023-07-20T19:11:36.628Z"
   },
   {
    "duration": 3,
    "start_time": "2023-07-20T19:11:37.155Z"
   },
   {
    "duration": 9495,
    "start_time": "2023-07-20T19:11:37.159Z"
   },
   {
    "duration": 6,
    "start_time": "2023-07-20T19:11:46.656Z"
   },
   {
    "duration": 341,
    "start_time": "2023-07-20T19:11:46.664Z"
   },
   {
    "duration": 473,
    "start_time": "2023-07-20T19:11:47.007Z"
   },
   {
    "duration": 5,
    "start_time": "2023-07-20T19:11:47.481Z"
   },
   {
    "duration": 33,
    "start_time": "2023-07-20T19:11:47.488Z"
   },
   {
    "duration": 90,
    "start_time": "2023-07-20T19:11:47.523Z"
   },
   {
    "duration": 29,
    "start_time": "2023-07-20T19:11:47.615Z"
   },
   {
    "duration": 73,
    "start_time": "2023-07-20T19:11:47.646Z"
   },
   {
    "duration": 27,
    "start_time": "2023-07-20T19:11:47.720Z"
   },
   {
    "duration": 109,
    "start_time": "2023-07-20T19:11:47.748Z"
   },
   {
    "duration": 31,
    "start_time": "2023-07-20T19:11:47.858Z"
   },
   {
    "duration": 88,
    "start_time": "2023-07-20T19:11:47.890Z"
   },
   {
    "duration": 0,
    "start_time": "2023-07-20T19:11:47.979Z"
   },
   {
    "duration": 0,
    "start_time": "2023-07-20T19:11:47.981Z"
   },
   {
    "duration": 0,
    "start_time": "2023-07-20T19:11:47.982Z"
   },
   {
    "duration": 0,
    "start_time": "2023-07-20T19:11:47.984Z"
   },
   {
    "duration": 0,
    "start_time": "2023-07-20T19:11:47.985Z"
   },
   {
    "duration": 0,
    "start_time": "2023-07-20T19:11:47.985Z"
   },
   {
    "duration": 0,
    "start_time": "2023-07-20T19:11:47.987Z"
   },
   {
    "duration": 0,
    "start_time": "2023-07-20T19:11:47.988Z"
   },
   {
    "duration": 4,
    "start_time": "2023-07-20T19:14:15.065Z"
   },
   {
    "duration": 3,
    "start_time": "2023-07-20T19:14:43.217Z"
   },
   {
    "duration": 497,
    "start_time": "2023-07-20T19:14:55.931Z"
   },
   {
    "duration": 2,
    "start_time": "2023-07-20T19:14:56.432Z"
   },
   {
    "duration": 9860,
    "start_time": "2023-07-20T19:14:56.436Z"
   },
   {
    "duration": 6,
    "start_time": "2023-07-20T19:15:06.298Z"
   },
   {
    "duration": 331,
    "start_time": "2023-07-20T19:15:06.306Z"
   },
   {
    "duration": 333,
    "start_time": "2023-07-20T19:15:06.640Z"
   },
   {
    "duration": 4,
    "start_time": "2023-07-20T19:15:06.974Z"
   },
   {
    "duration": 27,
    "start_time": "2023-07-20T19:15:06.980Z"
   },
   {
    "duration": 85,
    "start_time": "2023-07-20T19:15:07.009Z"
   },
   {
    "duration": 31,
    "start_time": "2023-07-20T19:15:07.097Z"
   },
   {
    "duration": 74,
    "start_time": "2023-07-20T19:15:07.130Z"
   },
   {
    "duration": 32,
    "start_time": "2023-07-20T19:15:07.206Z"
   },
   {
    "duration": 127,
    "start_time": "2023-07-20T19:15:07.240Z"
   },
   {
    "duration": 36,
    "start_time": "2023-07-20T19:15:07.369Z"
   },
   {
    "duration": 90,
    "start_time": "2023-07-20T19:15:07.406Z"
   },
   {
    "duration": 0,
    "start_time": "2023-07-20T19:15:07.498Z"
   },
   {
    "duration": 0,
    "start_time": "2023-07-20T19:15:07.500Z"
   },
   {
    "duration": 0,
    "start_time": "2023-07-20T19:15:07.501Z"
   },
   {
    "duration": 0,
    "start_time": "2023-07-20T19:15:07.503Z"
   },
   {
    "duration": 0,
    "start_time": "2023-07-20T19:15:07.505Z"
   },
   {
    "duration": 0,
    "start_time": "2023-07-20T19:15:07.506Z"
   },
   {
    "duration": 0,
    "start_time": "2023-07-20T19:15:07.507Z"
   },
   {
    "duration": 0,
    "start_time": "2023-07-20T19:15:07.509Z"
   },
   {
    "duration": 10,
    "start_time": "2023-07-20T19:16:30.111Z"
   },
   {
    "duration": 10,
    "start_time": "2023-07-20T19:16:36.457Z"
   },
   {
    "duration": 33,
    "start_time": "2023-07-20T19:16:37.241Z"
   },
   {
    "duration": 9,
    "start_time": "2023-07-20T19:16:41.770Z"
   },
   {
    "duration": 3,
    "start_time": "2023-07-20T19:17:00.689Z"
   },
   {
    "duration": 485,
    "start_time": "2023-07-20T19:17:17.385Z"
   },
   {
    "duration": 2,
    "start_time": "2023-07-20T19:17:17.872Z"
   },
   {
    "duration": 7993,
    "start_time": "2023-07-20T19:17:17.875Z"
   },
   {
    "duration": 5,
    "start_time": "2023-07-20T19:17:25.870Z"
   },
   {
    "duration": 83,
    "start_time": "2023-07-20T19:17:25.877Z"
   },
   {
    "duration": 0,
    "start_time": "2023-07-20T19:17:25.962Z"
   },
   {
    "duration": 0,
    "start_time": "2023-07-20T19:17:25.964Z"
   },
   {
    "duration": 0,
    "start_time": "2023-07-20T19:17:25.965Z"
   },
   {
    "duration": 0,
    "start_time": "2023-07-20T19:17:25.966Z"
   },
   {
    "duration": 0,
    "start_time": "2023-07-20T19:17:25.967Z"
   },
   {
    "duration": 0,
    "start_time": "2023-07-20T19:17:25.968Z"
   },
   {
    "duration": 0,
    "start_time": "2023-07-20T19:17:25.969Z"
   },
   {
    "duration": 0,
    "start_time": "2023-07-20T19:17:25.970Z"
   },
   {
    "duration": 0,
    "start_time": "2023-07-20T19:17:25.971Z"
   },
   {
    "duration": 0,
    "start_time": "2023-07-20T19:17:25.972Z"
   },
   {
    "duration": 0,
    "start_time": "2023-07-20T19:17:25.973Z"
   },
   {
    "duration": 0,
    "start_time": "2023-07-20T19:17:25.974Z"
   },
   {
    "duration": 0,
    "start_time": "2023-07-20T19:17:25.975Z"
   },
   {
    "duration": 0,
    "start_time": "2023-07-20T19:17:25.976Z"
   },
   {
    "duration": 0,
    "start_time": "2023-07-20T19:17:25.977Z"
   },
   {
    "duration": 0,
    "start_time": "2023-07-20T19:17:25.978Z"
   },
   {
    "duration": 0,
    "start_time": "2023-07-20T19:17:25.978Z"
   },
   {
    "duration": 0,
    "start_time": "2023-07-20T19:17:25.980Z"
   },
   {
    "duration": 271,
    "start_time": "2023-07-20T19:18:03.417Z"
   },
   {
    "duration": 216,
    "start_time": "2023-07-20T19:18:16.497Z"
   },
   {
    "duration": 51,
    "start_time": "2023-07-20T19:18:19.589Z"
   },
   {
    "duration": 488,
    "start_time": "2023-07-20T19:18:27.686Z"
   },
   {
    "duration": 3,
    "start_time": "2023-07-20T19:18:28.176Z"
   },
   {
    "duration": 8272,
    "start_time": "2023-07-20T19:18:28.181Z"
   },
   {
    "duration": 5,
    "start_time": "2023-07-20T19:18:36.455Z"
   },
   {
    "duration": 83,
    "start_time": "2023-07-20T19:18:36.462Z"
   },
   {
    "duration": 325,
    "start_time": "2023-07-20T19:18:36.548Z"
   },
   {
    "duration": 5,
    "start_time": "2023-07-20T19:18:36.875Z"
   },
   {
    "duration": 33,
    "start_time": "2023-07-20T19:18:36.882Z"
   },
   {
    "duration": 51,
    "start_time": "2023-07-20T19:18:36.917Z"
   },
   {
    "duration": 37,
    "start_time": "2023-07-20T19:18:36.971Z"
   },
   {
    "duration": 199,
    "start_time": "2023-07-20T19:18:37.009Z"
   },
   {
    "duration": 29,
    "start_time": "2023-07-20T19:18:37.210Z"
   },
   {
    "duration": 72,
    "start_time": "2023-07-20T19:18:37.241Z"
   },
   {
    "duration": 28,
    "start_time": "2023-07-20T19:18:37.315Z"
   },
   {
    "duration": 45,
    "start_time": "2023-07-20T19:18:37.344Z"
   },
   {
    "duration": 29,
    "start_time": "2023-07-20T19:18:37.391Z"
   },
   {
    "duration": 2,
    "start_time": "2023-07-20T19:18:37.422Z"
   },
   {
    "duration": 59,
    "start_time": "2023-07-20T19:18:37.426Z"
   },
   {
    "duration": 49,
    "start_time": "2023-07-20T19:18:37.487Z"
   },
   {
    "duration": 50,
    "start_time": "2023-07-20T19:18:37.538Z"
   },
   {
    "duration": 44,
    "start_time": "2023-07-20T19:18:37.590Z"
   },
   {
    "duration": 44,
    "start_time": "2023-07-20T19:18:37.635Z"
   },
   {
    "duration": 43,
    "start_time": "2023-07-20T19:18:37.681Z"
   },
   {
    "duration": 51,
    "start_time": "2023-07-20T19:21:18.337Z"
   },
   {
    "duration": 33,
    "start_time": "2023-07-20T19:21:21.910Z"
   },
   {
    "duration": 39,
    "start_time": "2023-07-20T19:21:48.418Z"
   },
   {
    "duration": 74,
    "start_time": "2023-07-20T19:22:03.690Z"
   },
   {
    "duration": 28,
    "start_time": "2023-07-20T19:22:19.871Z"
   },
   {
    "duration": 27,
    "start_time": "2023-07-20T19:22:21.249Z"
   },
   {
    "duration": 28,
    "start_time": "2023-07-20T19:22:29.894Z"
   },
   {
    "duration": 30,
    "start_time": "2023-07-20T19:22:31.805Z"
   },
   {
    "duration": 81,
    "start_time": "2023-07-20T19:22:43.254Z"
   },
   {
    "duration": 31,
    "start_time": "2023-07-20T19:22:44.290Z"
   },
   {
    "duration": 79,
    "start_time": "2023-07-20T19:22:53.293Z"
   },
   {
    "duration": 41,
    "start_time": "2023-07-20T19:22:54.214Z"
   },
   {
    "duration": 4,
    "start_time": "2023-07-20T19:23:02.481Z"
   },
   {
    "duration": 31,
    "start_time": "2023-07-20T19:23:09.544Z"
   },
   {
    "duration": 481,
    "start_time": "2023-07-20T19:23:16.368Z"
   },
   {
    "duration": 2,
    "start_time": "2023-07-20T19:23:16.851Z"
   },
   {
    "duration": 7651,
    "start_time": "2023-07-20T19:23:16.855Z"
   },
   {
    "duration": 5,
    "start_time": "2023-07-20T19:23:24.509Z"
   },
   {
    "duration": 74,
    "start_time": "2023-07-20T19:23:24.515Z"
   },
   {
    "duration": 310,
    "start_time": "2023-07-20T19:23:24.590Z"
   },
   {
    "duration": 5,
    "start_time": "2023-07-20T19:23:24.901Z"
   },
   {
    "duration": 29,
    "start_time": "2023-07-20T19:23:24.908Z"
   },
   {
    "duration": 39,
    "start_time": "2023-07-20T19:23:24.939Z"
   },
   {
    "duration": 36,
    "start_time": "2023-07-20T19:23:24.981Z"
   },
   {
    "duration": 30,
    "start_time": "2023-07-20T19:23:25.019Z"
   },
   {
    "duration": 34,
    "start_time": "2023-07-20T19:23:25.051Z"
   },
   {
    "duration": 108,
    "start_time": "2023-07-20T19:23:25.088Z"
   },
   {
    "duration": 35,
    "start_time": "2023-07-20T19:23:25.198Z"
   },
   {
    "duration": 47,
    "start_time": "2023-07-20T19:23:25.235Z"
   },
   {
    "duration": 37,
    "start_time": "2023-07-20T19:23:25.284Z"
   },
   {
    "duration": 3,
    "start_time": "2023-07-20T19:23:25.322Z"
   },
   {
    "duration": 40,
    "start_time": "2023-07-20T19:23:25.326Z"
   },
   {
    "duration": 46,
    "start_time": "2023-07-20T19:23:25.368Z"
   },
   {
    "duration": 52,
    "start_time": "2023-07-20T19:23:25.416Z"
   },
   {
    "duration": 34,
    "start_time": "2023-07-20T19:23:25.470Z"
   },
   {
    "duration": 41,
    "start_time": "2023-07-20T19:23:25.506Z"
   },
   {
    "duration": 32,
    "start_time": "2023-07-20T19:23:25.548Z"
   },
   {
    "duration": 73,
    "start_time": "2023-07-20T19:26:20.380Z"
   },
   {
    "duration": 4,
    "start_time": "2023-07-20T19:26:35.739Z"
   },
   {
    "duration": 30,
    "start_time": "2023-07-20T19:28:04.154Z"
   },
   {
    "duration": 70,
    "start_time": "2023-07-20T19:29:18.629Z"
   },
   {
    "duration": 82,
    "start_time": "2023-07-20T19:29:34.488Z"
   },
   {
    "duration": 53,
    "start_time": "2023-07-20T19:29:50.713Z"
   },
   {
    "duration": 90,
    "start_time": "2023-07-20T19:31:01.306Z"
   },
   {
    "duration": 67,
    "start_time": "2023-07-20T19:31:14.235Z"
   },
   {
    "duration": 65,
    "start_time": "2023-07-20T19:31:30.692Z"
   },
   {
    "duration": 65,
    "start_time": "2023-07-20T19:32:22.861Z"
   },
   {
    "duration": 81,
    "start_time": "2023-07-20T19:32:36.451Z"
   },
   {
    "duration": 63,
    "start_time": "2023-07-20T19:32:52.873Z"
   },
   {
    "duration": 89,
    "start_time": "2023-07-20T19:33:07.343Z"
   },
   {
    "duration": 4,
    "start_time": "2023-07-20T19:33:16.781Z"
   },
   {
    "duration": 59,
    "start_time": "2023-07-20T19:36:53.384Z"
   },
   {
    "duration": 79,
    "start_time": "2023-07-20T19:40:46.759Z"
   },
   {
    "duration": 4,
    "start_time": "2023-07-20T19:41:11.339Z"
   },
   {
    "duration": 10,
    "start_time": "2023-07-20T19:41:17.158Z"
   },
   {
    "duration": 5,
    "start_time": "2023-07-20T19:41:21.576Z"
   },
   {
    "duration": 30,
    "start_time": "2023-07-20T19:41:25.880Z"
   },
   {
    "duration": 31,
    "start_time": "2023-07-20T19:41:29.082Z"
   },
   {
    "duration": 69,
    "start_time": "2023-07-20T19:43:51.406Z"
   },
   {
    "duration": 73,
    "start_time": "2023-07-20T19:43:54.944Z"
   },
   {
    "duration": 68,
    "start_time": "2023-07-20T19:43:56.359Z"
   },
   {
    "duration": 67,
    "start_time": "2023-07-20T19:44:22.997Z"
   },
   {
    "duration": 68,
    "start_time": "2023-07-20T19:44:34.217Z"
   },
   {
    "duration": 64,
    "start_time": "2023-07-20T20:02:57.946Z"
   },
   {
    "duration": 68,
    "start_time": "2023-07-20T20:05:03.593Z"
   },
   {
    "duration": 64,
    "start_time": "2023-07-20T20:06:54.014Z"
   },
   {
    "duration": 70,
    "start_time": "2023-07-20T20:07:32.315Z"
   },
   {
    "duration": 64,
    "start_time": "2023-07-20T20:11:49.495Z"
   },
   {
    "duration": 45,
    "start_time": "2023-07-20T20:12:37.785Z"
   },
   {
    "duration": 728,
    "start_time": "2023-07-20T20:14:15.155Z"
   },
   {
    "duration": 53,
    "start_time": "2023-07-20T20:15:50.942Z"
   },
   {
    "duration": 68,
    "start_time": "2023-07-20T20:17:09.533Z"
   },
   {
    "duration": 45,
    "start_time": "2023-07-20T20:17:39.365Z"
   },
   {
    "duration": 35,
    "start_time": "2023-07-20T20:19:10.991Z"
   },
   {
    "duration": 34,
    "start_time": "2023-07-20T20:19:53.441Z"
   },
   {
    "duration": 33,
    "start_time": "2023-07-20T20:21:34.302Z"
   },
   {
    "duration": 35,
    "start_time": "2023-07-20T20:21:43.896Z"
   },
   {
    "duration": 33,
    "start_time": "2023-07-20T20:22:10.137Z"
   },
   {
    "duration": 33,
    "start_time": "2023-07-20T20:22:31.779Z"
   },
   {
    "duration": 33,
    "start_time": "2023-07-20T20:23:07.544Z"
   },
   {
    "duration": 32,
    "start_time": "2023-07-20T20:23:52.347Z"
   },
   {
    "duration": 33,
    "start_time": "2023-07-20T20:28:43.230Z"
   },
   {
    "duration": 478,
    "start_time": "2023-07-20T20:28:53.166Z"
   },
   {
    "duration": 2,
    "start_time": "2023-07-20T20:28:53.646Z"
   },
   {
    "duration": 9414,
    "start_time": "2023-07-20T20:28:53.650Z"
   },
   {
    "duration": 5,
    "start_time": "2023-07-20T20:29:03.066Z"
   },
   {
    "duration": 92,
    "start_time": "2023-07-20T20:29:03.073Z"
   },
   {
    "duration": 318,
    "start_time": "2023-07-20T20:29:03.167Z"
   },
   {
    "duration": 4,
    "start_time": "2023-07-20T20:29:03.487Z"
   },
   {
    "duration": 48,
    "start_time": "2023-07-20T20:29:03.492Z"
   },
   {
    "duration": 44,
    "start_time": "2023-07-20T20:29:03.542Z"
   },
   {
    "duration": 27,
    "start_time": "2023-07-20T20:29:03.589Z"
   },
   {
    "duration": 28,
    "start_time": "2023-07-20T20:29:03.617Z"
   },
   {
    "duration": 27,
    "start_time": "2023-07-20T20:29:03.646Z"
   },
   {
    "duration": 61,
    "start_time": "2023-07-20T20:29:03.674Z"
   },
   {
    "duration": 30,
    "start_time": "2023-07-20T20:29:03.736Z"
   },
   {
    "duration": 45,
    "start_time": "2023-07-20T20:29:03.768Z"
   },
   {
    "duration": 37,
    "start_time": "2023-07-20T20:29:03.814Z"
   },
   {
    "duration": 3,
    "start_time": "2023-07-20T20:29:03.852Z"
   },
   {
    "duration": 38,
    "start_time": "2023-07-20T20:29:03.856Z"
   },
   {
    "duration": 47,
    "start_time": "2023-07-20T20:29:03.895Z"
   },
   {
    "duration": 47,
    "start_time": "2023-07-20T20:29:03.943Z"
   },
   {
    "duration": 4,
    "start_time": "2023-07-20T20:29:03.992Z"
   },
   {
    "duration": 36,
    "start_time": "2023-07-20T20:29:03.998Z"
   },
   {
    "duration": 33,
    "start_time": "2023-07-20T20:29:04.036Z"
   },
   {
    "duration": 37,
    "start_time": "2023-07-20T20:29:04.070Z"
   },
   {
    "duration": 33,
    "start_time": "2023-07-20T20:29:04.109Z"
   },
   {
    "duration": 33,
    "start_time": "2023-07-20T20:29:04.144Z"
   },
   {
    "duration": 33,
    "start_time": "2023-07-20T20:29:04.179Z"
   },
   {
    "duration": 33,
    "start_time": "2023-07-20T20:29:11.212Z"
   },
   {
    "duration": 33,
    "start_time": "2023-07-20T20:29:19.044Z"
   },
   {
    "duration": 33,
    "start_time": "2023-07-20T20:29:24.030Z"
   },
   {
    "duration": 144,
    "start_time": "2023-07-20T20:32:09.619Z"
   },
   {
    "duration": 65,
    "start_time": "2023-07-20T21:20:32.977Z"
   },
   {
    "duration": 50,
    "start_time": "2023-07-20T21:21:26.409Z"
   },
   {
    "duration": 31,
    "start_time": "2023-07-20T21:39:05.645Z"
   },
   {
    "duration": 33,
    "start_time": "2023-07-20T21:39:34.145Z"
   },
   {
    "duration": 34,
    "start_time": "2023-07-20T21:39:51.536Z"
   },
   {
    "duration": 74,
    "start_time": "2023-07-20T21:42:05.088Z"
   },
   {
    "duration": 38,
    "start_time": "2023-07-20T21:42:10.112Z"
   },
   {
    "duration": 34,
    "start_time": "2023-07-20T21:44:26.706Z"
   },
   {
    "duration": 33,
    "start_time": "2023-07-20T21:46:08.055Z"
   },
   {
    "duration": 34,
    "start_time": "2023-07-20T21:46:13.252Z"
   },
   {
    "duration": 33,
    "start_time": "2023-07-20T21:46:18.248Z"
   },
   {
    "duration": 63,
    "start_time": "2023-07-20T21:49:23.397Z"
   },
   {
    "duration": 75,
    "start_time": "2023-07-20T21:49:35.617Z"
   },
   {
    "duration": 64,
    "start_time": "2023-07-20T21:50:46.770Z"
   },
   {
    "duration": 63,
    "start_time": "2023-07-20T21:57:21.382Z"
   },
   {
    "duration": 65,
    "start_time": "2023-07-20T21:57:28.112Z"
   },
   {
    "duration": 44,
    "start_time": "2023-07-20T21:57:34.136Z"
   },
   {
    "duration": 33,
    "start_time": "2023-07-20T21:57:59.316Z"
   },
   {
    "duration": 37,
    "start_time": "2023-07-20T21:59:44.329Z"
   },
   {
    "duration": 36,
    "start_time": "2023-07-20T22:00:27.140Z"
   },
   {
    "duration": 58,
    "start_time": "2023-07-20T22:00:34.595Z"
   },
   {
    "duration": 48,
    "start_time": "2023-07-20T22:00:44.965Z"
   },
   {
    "duration": 39,
    "start_time": "2023-07-20T22:00:48.276Z"
   },
   {
    "duration": 53,
    "start_time": "2023-07-20T22:04:14.173Z"
   },
   {
    "duration": 63,
    "start_time": "2023-07-20T22:04:49.982Z"
   },
   {
    "duration": 65,
    "start_time": "2023-07-20T22:05:36.351Z"
   },
   {
    "duration": 64,
    "start_time": "2023-07-20T22:05:52.309Z"
   },
   {
    "duration": 48,
    "start_time": "2023-07-20T22:06:14.646Z"
   },
   {
    "duration": 37,
    "start_time": "2023-07-20T22:06:42.145Z"
   },
   {
    "duration": 37,
    "start_time": "2023-07-20T22:07:36.308Z"
   },
   {
    "duration": 58,
    "start_time": "2023-07-20T22:11:10.890Z"
   },
   {
    "duration": 65,
    "start_time": "2023-07-20T22:11:21.403Z"
   },
   {
    "duration": 65,
    "start_time": "2023-07-20T22:12:01.945Z"
   },
   {
    "duration": 64,
    "start_time": "2023-07-20T22:12:10.657Z"
   },
   {
    "duration": 64,
    "start_time": "2023-07-20T22:12:43.804Z"
   },
   {
    "duration": 66,
    "start_time": "2023-07-20T22:12:57.290Z"
   },
   {
    "duration": 47,
    "start_time": "2023-07-20T22:13:03.860Z"
   },
   {
    "duration": 38,
    "start_time": "2023-07-20T22:14:58.226Z"
   },
   {
    "duration": 56,
    "start_time": "2023-07-20T22:22:43.308Z"
   },
   {
    "duration": 74,
    "start_time": "2023-07-20T22:23:17.881Z"
   },
   {
    "duration": 64,
    "start_time": "2023-07-20T22:23:37.275Z"
   },
   {
    "duration": 457,
    "start_time": "2023-07-20T22:25:49.275Z"
   },
   {
    "duration": 2,
    "start_time": "2023-07-20T22:25:49.734Z"
   },
   {
    "duration": 7378,
    "start_time": "2023-07-20T22:25:49.737Z"
   },
   {
    "duration": 5,
    "start_time": "2023-07-20T22:25:57.117Z"
   },
   {
    "duration": 80,
    "start_time": "2023-07-20T22:25:57.124Z"
   },
   {
    "duration": 337,
    "start_time": "2023-07-20T22:25:57.206Z"
   },
   {
    "duration": 5,
    "start_time": "2023-07-20T22:25:57.545Z"
   },
   {
    "duration": 23,
    "start_time": "2023-07-20T22:25:57.551Z"
   },
   {
    "duration": 34,
    "start_time": "2023-07-20T22:25:57.575Z"
   },
   {
    "duration": 33,
    "start_time": "2023-07-20T22:25:57.611Z"
   },
   {
    "duration": 30,
    "start_time": "2023-07-20T22:25:57.646Z"
   },
   {
    "duration": 27,
    "start_time": "2023-07-20T22:25:57.678Z"
   },
   {
    "duration": 71,
    "start_time": "2023-07-20T22:25:57.707Z"
   },
   {
    "duration": 31,
    "start_time": "2023-07-20T22:25:57.780Z"
   },
   {
    "duration": 50,
    "start_time": "2023-07-20T22:25:57.813Z"
   },
   {
    "duration": 29,
    "start_time": "2023-07-20T22:25:57.865Z"
   },
   {
    "duration": 4,
    "start_time": "2023-07-20T22:25:57.895Z"
   },
   {
    "duration": 39,
    "start_time": "2023-07-20T22:25:57.900Z"
   },
   {
    "duration": 50,
    "start_time": "2023-07-20T22:25:57.941Z"
   },
   {
    "duration": 52,
    "start_time": "2023-07-20T22:25:57.993Z"
   },
   {
    "duration": 5,
    "start_time": "2023-07-20T22:25:58.047Z"
   },
   {
    "duration": 33,
    "start_time": "2023-07-20T22:25:58.053Z"
   },
   {
    "duration": 31,
    "start_time": "2023-07-20T22:25:58.087Z"
   },
   {
    "duration": 45,
    "start_time": "2023-07-20T22:25:58.119Z"
   },
   {
    "duration": 32,
    "start_time": "2023-07-20T22:25:58.165Z"
   },
   {
    "duration": 32,
    "start_time": "2023-07-20T22:25:58.199Z"
   },
   {
    "duration": 40,
    "start_time": "2023-07-20T22:25:58.233Z"
   },
   {
    "duration": 36,
    "start_time": "2023-07-20T22:25:58.274Z"
   },
   {
    "duration": 934,
    "start_time": "2023-07-21T10:32:14.716Z"
   },
   {
    "duration": 57,
    "start_time": "2023-07-21T10:32:15.652Z"
   },
   {
    "duration": 19350,
    "start_time": "2023-07-21T10:32:15.711Z"
   },
   {
    "duration": 7,
    "start_time": "2023-07-21T10:32:35.064Z"
   },
   {
    "duration": 102,
    "start_time": "2023-07-21T10:32:35.074Z"
   },
   {
    "duration": 933,
    "start_time": "2023-07-21T10:32:35.179Z"
   },
   {
    "duration": 5,
    "start_time": "2023-07-21T10:32:36.115Z"
   },
   {
    "duration": 98,
    "start_time": "2023-07-21T10:32:36.122Z"
   },
   {
    "duration": 90,
    "start_time": "2023-07-21T10:32:36.223Z"
   },
   {
    "duration": 108,
    "start_time": "2023-07-21T10:32:36.317Z"
   },
   {
    "duration": 30,
    "start_time": "2023-07-21T10:32:36.428Z"
   },
   {
    "duration": 105,
    "start_time": "2023-07-21T10:32:36.510Z"
   },
   {
    "duration": 107,
    "start_time": "2023-07-21T10:32:36.617Z"
   },
   {
    "duration": 105,
    "start_time": "2023-07-21T10:32:36.727Z"
   },
   {
    "duration": 83,
    "start_time": "2023-07-21T10:32:36.834Z"
   },
   {
    "duration": 103,
    "start_time": "2023-07-21T10:32:36.919Z"
   },
   {
    "duration": 4,
    "start_time": "2023-07-21T10:32:37.025Z"
   },
   {
    "duration": 122,
    "start_time": "2023-07-21T10:32:37.031Z"
   },
   {
    "duration": 66,
    "start_time": "2023-07-21T10:32:37.155Z"
   },
   {
    "duration": 93,
    "start_time": "2023-07-21T10:32:37.222Z"
   },
   {
    "duration": 5,
    "start_time": "2023-07-21T10:32:37.317Z"
   },
   {
    "duration": 87,
    "start_time": "2023-07-21T10:32:37.324Z"
   },
   {
    "duration": 34,
    "start_time": "2023-07-21T10:32:37.413Z"
   },
   {
    "duration": 154,
    "start_time": "2023-07-21T10:32:37.449Z"
   },
   {
    "duration": 84,
    "start_time": "2023-07-21T10:32:37.605Z"
   },
   {
    "duration": 47,
    "start_time": "2023-07-21T10:32:37.691Z"
   },
   {
    "duration": 45,
    "start_time": "2023-07-21T10:32:37.740Z"
   },
   {
    "duration": 59,
    "start_time": "2023-07-21T10:32:37.790Z"
   }
  ],
  "kernelspec": {
   "display_name": "Python 3 (ipykernel)",
   "language": "python",
   "name": "python3"
  },
  "language_info": {
   "codemirror_mode": {
    "name": "ipython",
    "version": 3
   },
   "file_extension": ".py",
   "mimetype": "text/x-python",
   "name": "python",
   "nbconvert_exporter": "python",
   "pygments_lexer": "ipython3",
   "version": "3.9.5"
  },
  "toc": {
   "base_numbering": 1,
   "nav_menu": {},
   "number_sections": true,
   "sideBar": true,
   "skip_h1_title": true,
   "title_cell": "Table of Contents",
   "title_sidebar": "Contents",
   "toc_cell": false,
   "toc_position": {},
   "toc_section_display": true,
   "toc_window_display": true
  }
 },
 "nbformat": 4,
 "nbformat_minor": 2
}
