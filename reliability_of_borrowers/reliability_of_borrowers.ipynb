{
 "cells": [
  {
   "attachments": {},
   "cell_type": "markdown",
   "id": "34ffde25",
   "metadata": {},
   "source": [
    "1. [Открытие данных](#start)\n",
    "2. [Предобработка данных](#preprocessing)\n",
    "3. [Категоризация данных](#category)\n",
    "4. [Зависимость между количеством детей и возвратом кредита в срок](#cor_1)  \n",
    "5. [Зависимость между семейным положением и возвратом кредита в срок](#cor_2)\n",
    "6. [Зависимость между уровнем дохода и возвратом кредита в срок](#cor_3)\n",
    "7. [Влияние целей кредита на возврат кредита в срок](#cor_4)\n",
    "8. [Зависимость между уровнем образования и возвратом кредита в срок](#cor_5)\n",
    "9. [Общий вывод](#done)"
   ]
  },
  {
   "attachments": {},
   "cell_type": "markdown",
   "id": "7011bd1a",
   "metadata": {},
   "source": [
    "## Открытие данных <a id=\"start\"></a> "
   ]
  },
  {
   "cell_type": "code",
   "execution_count": 1,
   "id": "91d63b41",
   "metadata": {},
   "outputs": [],
   "source": [
    "# импорт библиотек\n",
    "import pandas as pd\n",
    "import matplotlib.pyplot as plt\n",
    "import seaborn as sns"
   ]
  },
  {
   "cell_type": "code",
   "execution_count": 2,
   "id": "7e7436a0",
   "metadata": {},
   "outputs": [],
   "source": [
    "# загрузка данных\n",
    "try:\n",
    "    data = pd.read_csv('/datasets/data.csv')\n",
    "except:\n",
    "    data = pd.read_csv('https://code.s3.yandex.net/datasets/data.csv')"
   ]
  },
  {
   "attachments": {},
   "cell_type": "markdown",
   "id": "5ebda976",
   "metadata": {},
   "source": [
    "## Предобработка данных <a id=\"preprocessing\"></a> "
   ]
  },
  {
   "cell_type": "code",
   "execution_count": 3,
   "id": "0efe6f34",
   "metadata": {},
   "outputs": [],
   "source": [
    "# функция для предобработки данных\n",
    "def data_preprocessing(data):\n",
    "    # приведение наименования столбцов датафрейма к правильному виду\n",
    "    data.columns = [x.lower().replace(' ', '_') for x in data.columns]\n",
    "    print('Вывод первых 10 строчек датафрейма на экран')  \n",
    "    display(data.head(10))\n",
    "    print(' ')   \n",
    "    print('Вывод основной информации о датафрейме с помощью метода info()') \n",
    "    display(data.info())\n",
    "    print(' ') \n",
    "    print('Вывод количества пропущенных значений для каждого столбца датафрейма')\n",
    "    display(data.isna().sum())\n",
    "    print(' ') \n",
    "    print('Подсчёт количества явных дубликатов')\n",
    "    display(data.duplicated().sum())"
   ]
  },
  {
   "cell_type": "code",
   "execution_count": 4,
   "id": "1c38cfdd",
   "metadata": {},
   "outputs": [
    {
     "name": "stdout",
     "output_type": "stream",
     "text": [
      "Вывод первых 10 строчек датафрейма на экран\n"
     ]
    },
    {
     "data": {
      "text/html": [
       "<div>\n",
       "<style scoped>\n",
       "    .dataframe tbody tr th:only-of-type {\n",
       "        vertical-align: middle;\n",
       "    }\n",
       "\n",
       "    .dataframe tbody tr th {\n",
       "        vertical-align: top;\n",
       "    }\n",
       "\n",
       "    .dataframe thead th {\n",
       "        text-align: right;\n",
       "    }\n",
       "</style>\n",
       "<table border=\"1\" class=\"dataframe\">\n",
       "  <thead>\n",
       "    <tr style=\"text-align: right;\">\n",
       "      <th></th>\n",
       "      <th>children</th>\n",
       "      <th>days_employed</th>\n",
       "      <th>dob_years</th>\n",
       "      <th>education</th>\n",
       "      <th>education_id</th>\n",
       "      <th>family_status</th>\n",
       "      <th>family_status_id</th>\n",
       "      <th>gender</th>\n",
       "      <th>income_type</th>\n",
       "      <th>debt</th>\n",
       "      <th>total_income</th>\n",
       "      <th>purpose</th>\n",
       "    </tr>\n",
       "  </thead>\n",
       "  <tbody>\n",
       "    <tr>\n",
       "      <th>0</th>\n",
       "      <td>1</td>\n",
       "      <td>-8437.673028</td>\n",
       "      <td>42</td>\n",
       "      <td>высшее</td>\n",
       "      <td>0</td>\n",
       "      <td>женат / замужем</td>\n",
       "      <td>0</td>\n",
       "      <td>F</td>\n",
       "      <td>сотрудник</td>\n",
       "      <td>0</td>\n",
       "      <td>253875.639453</td>\n",
       "      <td>покупка жилья</td>\n",
       "    </tr>\n",
       "    <tr>\n",
       "      <th>1</th>\n",
       "      <td>1</td>\n",
       "      <td>-4024.803754</td>\n",
       "      <td>36</td>\n",
       "      <td>среднее</td>\n",
       "      <td>1</td>\n",
       "      <td>женат / замужем</td>\n",
       "      <td>0</td>\n",
       "      <td>F</td>\n",
       "      <td>сотрудник</td>\n",
       "      <td>0</td>\n",
       "      <td>112080.014102</td>\n",
       "      <td>приобретение автомобиля</td>\n",
       "    </tr>\n",
       "    <tr>\n",
       "      <th>2</th>\n",
       "      <td>0</td>\n",
       "      <td>-5623.422610</td>\n",
       "      <td>33</td>\n",
       "      <td>Среднее</td>\n",
       "      <td>1</td>\n",
       "      <td>женат / замужем</td>\n",
       "      <td>0</td>\n",
       "      <td>M</td>\n",
       "      <td>сотрудник</td>\n",
       "      <td>0</td>\n",
       "      <td>145885.952297</td>\n",
       "      <td>покупка жилья</td>\n",
       "    </tr>\n",
       "    <tr>\n",
       "      <th>3</th>\n",
       "      <td>3</td>\n",
       "      <td>-4124.747207</td>\n",
       "      <td>32</td>\n",
       "      <td>среднее</td>\n",
       "      <td>1</td>\n",
       "      <td>женат / замужем</td>\n",
       "      <td>0</td>\n",
       "      <td>M</td>\n",
       "      <td>сотрудник</td>\n",
       "      <td>0</td>\n",
       "      <td>267628.550329</td>\n",
       "      <td>дополнительное образование</td>\n",
       "    </tr>\n",
       "    <tr>\n",
       "      <th>4</th>\n",
       "      <td>0</td>\n",
       "      <td>340266.072047</td>\n",
       "      <td>53</td>\n",
       "      <td>среднее</td>\n",
       "      <td>1</td>\n",
       "      <td>гражданский брак</td>\n",
       "      <td>1</td>\n",
       "      <td>F</td>\n",
       "      <td>пенсионер</td>\n",
       "      <td>0</td>\n",
       "      <td>158616.077870</td>\n",
       "      <td>сыграть свадьбу</td>\n",
       "    </tr>\n",
       "    <tr>\n",
       "      <th>5</th>\n",
       "      <td>0</td>\n",
       "      <td>-926.185831</td>\n",
       "      <td>27</td>\n",
       "      <td>высшее</td>\n",
       "      <td>0</td>\n",
       "      <td>гражданский брак</td>\n",
       "      <td>1</td>\n",
       "      <td>M</td>\n",
       "      <td>компаньон</td>\n",
       "      <td>0</td>\n",
       "      <td>255763.565419</td>\n",
       "      <td>покупка жилья</td>\n",
       "    </tr>\n",
       "    <tr>\n",
       "      <th>6</th>\n",
       "      <td>0</td>\n",
       "      <td>-2879.202052</td>\n",
       "      <td>43</td>\n",
       "      <td>высшее</td>\n",
       "      <td>0</td>\n",
       "      <td>женат / замужем</td>\n",
       "      <td>0</td>\n",
       "      <td>F</td>\n",
       "      <td>компаньон</td>\n",
       "      <td>0</td>\n",
       "      <td>240525.971920</td>\n",
       "      <td>операции с жильем</td>\n",
       "    </tr>\n",
       "    <tr>\n",
       "      <th>7</th>\n",
       "      <td>0</td>\n",
       "      <td>-152.779569</td>\n",
       "      <td>50</td>\n",
       "      <td>СРЕДНЕЕ</td>\n",
       "      <td>1</td>\n",
       "      <td>женат / замужем</td>\n",
       "      <td>0</td>\n",
       "      <td>M</td>\n",
       "      <td>сотрудник</td>\n",
       "      <td>0</td>\n",
       "      <td>135823.934197</td>\n",
       "      <td>образование</td>\n",
       "    </tr>\n",
       "    <tr>\n",
       "      <th>8</th>\n",
       "      <td>2</td>\n",
       "      <td>-6929.865299</td>\n",
       "      <td>35</td>\n",
       "      <td>ВЫСШЕЕ</td>\n",
       "      <td>0</td>\n",
       "      <td>гражданский брак</td>\n",
       "      <td>1</td>\n",
       "      <td>F</td>\n",
       "      <td>сотрудник</td>\n",
       "      <td>0</td>\n",
       "      <td>95856.832424</td>\n",
       "      <td>на проведение свадьбы</td>\n",
       "    </tr>\n",
       "    <tr>\n",
       "      <th>9</th>\n",
       "      <td>0</td>\n",
       "      <td>-2188.756445</td>\n",
       "      <td>41</td>\n",
       "      <td>среднее</td>\n",
       "      <td>1</td>\n",
       "      <td>женат / замужем</td>\n",
       "      <td>0</td>\n",
       "      <td>M</td>\n",
       "      <td>сотрудник</td>\n",
       "      <td>0</td>\n",
       "      <td>144425.938277</td>\n",
       "      <td>покупка жилья для семьи</td>\n",
       "    </tr>\n",
       "  </tbody>\n",
       "</table>\n",
       "</div>"
      ],
      "text/plain": [
       "   children  days_employed  dob_years education  education_id  \\\n",
       "0         1   -8437.673028         42    высшее             0   \n",
       "1         1   -4024.803754         36   среднее             1   \n",
       "2         0   -5623.422610         33   Среднее             1   \n",
       "3         3   -4124.747207         32   среднее             1   \n",
       "4         0  340266.072047         53   среднее             1   \n",
       "5         0    -926.185831         27    высшее             0   \n",
       "6         0   -2879.202052         43    высшее             0   \n",
       "7         0    -152.779569         50   СРЕДНЕЕ             1   \n",
       "8         2   -6929.865299         35    ВЫСШЕЕ             0   \n",
       "9         0   -2188.756445         41   среднее             1   \n",
       "\n",
       "      family_status  family_status_id gender income_type  debt   total_income  \\\n",
       "0   женат / замужем                 0      F   сотрудник     0  253875.639453   \n",
       "1   женат / замужем                 0      F   сотрудник     0  112080.014102   \n",
       "2   женат / замужем                 0      M   сотрудник     0  145885.952297   \n",
       "3   женат / замужем                 0      M   сотрудник     0  267628.550329   \n",
       "4  гражданский брак                 1      F   пенсионер     0  158616.077870   \n",
       "5  гражданский брак                 1      M   компаньон     0  255763.565419   \n",
       "6   женат / замужем                 0      F   компаньон     0  240525.971920   \n",
       "7   женат / замужем                 0      M   сотрудник     0  135823.934197   \n",
       "8  гражданский брак                 1      F   сотрудник     0   95856.832424   \n",
       "9   женат / замужем                 0      M   сотрудник     0  144425.938277   \n",
       "\n",
       "                      purpose  \n",
       "0               покупка жилья  \n",
       "1     приобретение автомобиля  \n",
       "2               покупка жилья  \n",
       "3  дополнительное образование  \n",
       "4             сыграть свадьбу  \n",
       "5               покупка жилья  \n",
       "6           операции с жильем  \n",
       "7                 образование  \n",
       "8       на проведение свадьбы  \n",
       "9     покупка жилья для семьи  "
      ]
     },
     "metadata": {},
     "output_type": "display_data"
    },
    {
     "name": "stdout",
     "output_type": "stream",
     "text": [
      " \n",
      "Вывод основной информации о датафрейме с помощью метода info()\n",
      "<class 'pandas.core.frame.DataFrame'>\n",
      "RangeIndex: 21525 entries, 0 to 21524\n",
      "Data columns (total 12 columns):\n",
      " #   Column            Non-Null Count  Dtype  \n",
      "---  ------            --------------  -----  \n",
      " 0   children          21525 non-null  int64  \n",
      " 1   days_employed     19351 non-null  float64\n",
      " 2   dob_years         21525 non-null  int64  \n",
      " 3   education         21525 non-null  object \n",
      " 4   education_id      21525 non-null  int64  \n",
      " 5   family_status     21525 non-null  object \n",
      " 6   family_status_id  21525 non-null  int64  \n",
      " 7   gender            21525 non-null  object \n",
      " 8   income_type       21525 non-null  object \n",
      " 9   debt              21525 non-null  int64  \n",
      " 10  total_income      19351 non-null  float64\n",
      " 11  purpose           21525 non-null  object \n",
      "dtypes: float64(2), int64(5), object(5)\n",
      "memory usage: 2.0+ MB\n"
     ]
    },
    {
     "data": {
      "text/plain": [
       "None"
      ]
     },
     "metadata": {},
     "output_type": "display_data"
    },
    {
     "name": "stdout",
     "output_type": "stream",
     "text": [
      " \n",
      "Вывод количества пропущенных значений для каждого столбца датафрейма\n"
     ]
    },
    {
     "data": {
      "text/plain": [
       "children               0\n",
       "days_employed       2174\n",
       "dob_years              0\n",
       "education              0\n",
       "education_id           0\n",
       "family_status          0\n",
       "family_status_id       0\n",
       "gender                 0\n",
       "income_type            0\n",
       "debt                   0\n",
       "total_income        2174\n",
       "purpose                0\n",
       "dtype: int64"
      ]
     },
     "metadata": {},
     "output_type": "display_data"
    },
    {
     "name": "stdout",
     "output_type": "stream",
     "text": [
      " \n",
      "Подсчёт количества явных дубликатов\n"
     ]
    },
    {
     "data": {
      "text/plain": [
       "54"
      ]
     },
     "metadata": {},
     "output_type": "display_data"
    }
   ],
   "source": [
    "data_preprocessing(data)"
   ]
  },
  {
   "cell_type": "code",
   "execution_count": 5,
   "id": "b60352b8",
   "metadata": {},
   "outputs": [],
   "source": [
    "# обработка пропусков 'income_type'\n",
    "for t in data['income_type'].unique():\n",
    "    data.loc[(data['income_type'] == t) & (data['total_income'].isna()), 'total_income'] = \\\n",
    "    data.loc[(data['income_type'] == t), 'total_income'].median()"
   ]
  },
  {
   "cell_type": "code",
   "execution_count": 6,
   "id": "b7a35718",
   "metadata": {},
   "outputs": [],
   "source": [
    "# обработка пропусков 'days_employed'\n",
    "for t in data['income_type'].unique():\n",
    "    data.loc[(data['income_type'] == t) & (data['days_employed'].isna()), 'days_employed'] = \\\n",
    "    data.loc[(data['income_type'] == t), 'days_employed'].median()"
   ]
  },
  {
   "attachments": {},
   "cell_type": "markdown",
   "id": "81b9f2e6",
   "metadata": {},
   "source": [
    "**Вывод:**    \n",
    "Пропуски в данных находились в столбцах \"days_employed\" и \"total_income\". Пропуски в столбце \"total_income\" могли быть сделаны людьми намеренно, поскольку они не хотели отвечать на столь деликатный вопрос. Также пропуски в столбцах в одинаковых местах, что может быть связано с тем, что при заполнении одного столбца, открывался другой. Соответственно, если люди не хотели выдавать свой доход или же время работы, то они не заполняли оба столбца, потому что они взаимозависимые.\n",
    "Также пропуски в данных столбцах зачастую оставляют пенсионеры, что может объяснятся тем, что данные для \"days_employed\" посчитать тяжело, поскольку раньше велись трудовые книжки не в электронном виде, а в бумажном, и чтобы не тратить время на подсчет пенсионеры попросту пропускали данную колонку, ведь подразумевается, что статус пенсионера уже говорит о том, что человек работал.\n",
    "Не следует иключать вероятность того, что люди не соответствуют необходимым условиям взятия кредита, или же они хотят взять сумму большую, нежели бы им одобрили при указании всех необходимых данных для получения кредита.\n",
    "Также в современном мире кредит можно получить при неподтвержденном доходе, однако в таком случае ставка по кредиту будет больше. В таком случае, люди также пропускают такие колонки."
   ]
  },
  {
   "cell_type": "code",
   "execution_count": 7,
   "id": "51845413",
   "metadata": {},
   "outputs": [],
   "source": [
    "# замена всех отрицательных значений положительными\n",
    "data['days_employed'] = data['days_employed'].abs()"
   ]
  },
  {
   "cell_type": "code",
   "execution_count": 8,
   "id": "21a501f5",
   "metadata": {},
   "outputs": [],
   "source": [
    "# обработка аномальных значений 'children'\n",
    "data['children'].unique()\n",
    "data = data[(data['children'] != -1) & (data['children'] != 20)]"
   ]
  },
  {
   "cell_type": "code",
   "execution_count": 9,
   "id": "bcb041dc",
   "metadata": {},
   "outputs": [
    {
     "data": {
      "text/plain": [
       "children            0\n",
       "days_employed       0\n",
       "dob_years           0\n",
       "education           0\n",
       "education_id        0\n",
       "family_status       0\n",
       "family_status_id    0\n",
       "gender              0\n",
       "income_type         0\n",
       "debt                0\n",
       "total_income        0\n",
       "purpose             0\n",
       "dtype: int64"
      ]
     },
     "execution_count": 9,
     "metadata": {},
     "output_type": "execute_result"
    }
   ],
   "source": [
    "# проверка количества явных дубликатов\n",
    "data.isna().sum()"
   ]
  },
  {
   "cell_type": "code",
   "execution_count": 10,
   "id": "567fbd70",
   "metadata": {},
   "outputs": [],
   "source": [
    "# замена вещественного типа данных на целочисленный \n",
    "data['total_income'] = data['total_income'].astype(int)"
   ]
  },
  {
   "cell_type": "code",
   "execution_count": 11,
   "id": "ded373c4",
   "metadata": {},
   "outputs": [],
   "source": [
    "# обработка неявных дубликатов\n",
    "data['education'] = data['education'].str.lower()"
   ]
  },
  {
   "cell_type": "code",
   "execution_count": 12,
   "id": "ea366efc",
   "metadata": {},
   "outputs": [],
   "source": [
    "# удаление всех дубликатов\n",
    "data = data.drop_duplicates()"
   ]
  },
  {
   "attachments": {},
   "cell_type": "markdown",
   "id": "b0e9070a",
   "metadata": {},
   "source": [
    "## Категоризация данных <a id=\"category\"></a> "
   ]
  },
  {
   "cell_type": "code",
   "execution_count": 13,
   "id": "11425454",
   "metadata": {},
   "outputs": [
    {
     "data": {
      "text/plain": [
       "0        (195842.0, 2265604.0]\n",
       "1         (107507.0, 142594.0]\n",
       "2         (142594.0, 195842.0]\n",
       "3        (195842.0, 2265604.0]\n",
       "4         (142594.0, 195842.0]\n",
       "                 ...          \n",
       "21520    (195842.0, 2265604.0]\n",
       "21521     (142594.0, 195842.0]\n",
       "21522    (20666.999, 107507.0]\n",
       "21523    (195842.0, 2265604.0]\n",
       "21524    (20666.999, 107507.0]\n",
       "Name: total_income, Length: 21331, dtype: category\n",
       "Categories (4, interval[float64, right]): [(20666.999, 107507.0] < (107507.0, 142594.0] < (142594.0, 195842.0] < (195842.0, 2265604.0]]"
      ]
     },
     "execution_count": 13,
     "metadata": {},
     "output_type": "execute_result"
    }
   ],
   "source": [
    "# категоризация дохода\n",
    "pd.qcut(data['total_income'], 4)"
   ]
  },
  {
   "cell_type": "code",
   "execution_count": 14,
   "id": "767b40f2",
   "metadata": {},
   "outputs": [],
   "source": [
    "# категоризация дохода\n",
    "def categorize_income(income):\n",
    "    try:\n",
    "        if 0 <= income < 107507:\n",
    "            return 'D'\n",
    "        elif 107507 <= income < 142594:\n",
    "            return 'C'\n",
    "        elif 142594 <= income < 195842:\n",
    "            return 'B'\n",
    "        elif income >= 195842:\n",
    "            return 'A'\n",
    "    except:\n",
    "        pass"
   ]
  },
  {
   "cell_type": "code",
   "execution_count": 15,
   "id": "989b25eb",
   "metadata": {},
   "outputs": [],
   "source": [
    "data['total_income_category'] = data['total_income'].apply(categorize_income)"
   ]
  },
  {
   "cell_type": "code",
   "execution_count": 16,
   "id": "67764872",
   "metadata": {},
   "outputs": [],
   "source": [
    "# категоризация цели получения кредита\n",
    "def categorize_purpose(row):\n",
    "    try:\n",
    "        if 'автом' in row:\n",
    "            return 'операции с автомобилем'\n",
    "        elif 'жил' in row or 'недвиж' in row:\n",
    "            return 'операции с недвижимостью'\n",
    "        elif 'свад' in row:\n",
    "            return 'проведение свадьбы'\n",
    "        elif 'образов' in row:\n",
    "            return 'получение образования'\n",
    "    except:\n",
    "        return 'нет категории'"
   ]
  },
  {
   "cell_type": "code",
   "execution_count": 17,
   "id": "4f44648c",
   "metadata": {},
   "outputs": [],
   "source": [
    "data['purpose_category'] = data['purpose'].apply(categorize_purpose)"
   ]
  },
  {
   "attachments": {},
   "cell_type": "markdown",
   "id": "debf2ffa",
   "metadata": {},
   "source": [
    "## Зависимость между количеством детей и возвратом кредита в срок <a id=\"cor_1\"></a> "
   ]
  },
  {
   "cell_type": "code",
   "execution_count": 18,
   "id": "344182e4",
   "metadata": {},
   "outputs": [],
   "source": [
    "# подсчет конверсии\n",
    "def conversion(elem):\n",
    "    return str(round((elem.sum() / elem.count()) * 100, 2)) + '%'"
   ]
  },
  {
   "cell_type": "code",
   "execution_count": 19,
   "id": "7ae51985",
   "metadata": {},
   "outputs": [],
   "source": [
    "# проведение категоризации (не будем учитывать выборку с 3-5 детьми, поскольку выборка не репрезентативна)\n",
    "def categorize_children(children):\n",
    "    if 0 < children <= 2:\n",
    "        return 'Есть дети'\n",
    "    return 'Нет детей'"
   ]
  },
  {
   "cell_type": "code",
   "execution_count": 20,
   "id": "9ec748da",
   "metadata": {},
   "outputs": [],
   "source": [
    "data['children_category'] = data['children'].apply(categorize_children)"
   ]
  },
  {
   "cell_type": "code",
   "execution_count": 21,
   "id": "b21f7772",
   "metadata": {},
   "outputs": [
    {
     "data": {
      "text/html": [
       "<div>\n",
       "<style scoped>\n",
       "    .dataframe tbody tr th:only-of-type {\n",
       "        vertical-align: middle;\n",
       "    }\n",
       "\n",
       "    .dataframe tbody tr th {\n",
       "        vertical-align: top;\n",
       "    }\n",
       "\n",
       "    .dataframe thead tr th {\n",
       "        text-align: left;\n",
       "    }\n",
       "\n",
       "    .dataframe thead tr:last-of-type th {\n",
       "        text-align: right;\n",
       "    }\n",
       "</style>\n",
       "<table border=\"1\" class=\"dataframe\">\n",
       "  <thead>\n",
       "    <tr>\n",
       "      <th></th>\n",
       "      <th>sum</th>\n",
       "      <th>count</th>\n",
       "      <th>conversion</th>\n",
       "    </tr>\n",
       "    <tr>\n",
       "      <th></th>\n",
       "      <th>debt</th>\n",
       "      <th>debt</th>\n",
       "      <th>debt</th>\n",
       "    </tr>\n",
       "    <tr>\n",
       "      <th>children_category</th>\n",
       "      <th></th>\n",
       "      <th></th>\n",
       "      <th></th>\n",
       "    </tr>\n",
       "  </thead>\n",
       "  <tbody>\n",
       "    <tr>\n",
       "      <th>Нет детей</th>\n",
       "      <td>1094</td>\n",
       "      <td>14471</td>\n",
       "      <td>7.56%</td>\n",
       "    </tr>\n",
       "    <tr>\n",
       "      <th>Есть дети</th>\n",
       "      <td>638</td>\n",
       "      <td>6860</td>\n",
       "      <td>9.3%</td>\n",
       "    </tr>\n",
       "  </tbody>\n",
       "</table>\n",
       "</div>"
      ],
      "text/plain": [
       "                    sum  count conversion\n",
       "                   debt   debt       debt\n",
       "children_category                        \n",
       "Нет детей          1094  14471      7.56%\n",
       "Есть дети           638   6860       9.3%"
      ]
     },
     "metadata": {},
     "output_type": "display_data"
    }
   ],
   "source": [
    "# построение сводной таблицы\n",
    "data_pivot = data.pivot_table(index=['children_category'], values=['debt'], aggfunc=['sum', 'count', conversion])\n",
    "data_pivot = data_pivot.sort_values(by=('conversion', 'debt'))\n",
    "display(data_pivot)"
   ]
  },
  {
   "cell_type": "code",
   "execution_count": 22,
   "id": "169b379b",
   "metadata": {},
   "outputs": [
    {
     "data": {
      "image/png": "[encoded data removed]",
      "text/plain": [
       "<Figure size 1000x400 with 1 Axes>"
      ]
     },
     "metadata": {},
     "output_type": "display_data"
    }
   ],
   "source": [
    "data_ch = data.groupby('children')[['children']].count()\n",
    "sns.set_style('darkgrid')\n",
    "plt.figure(figsize=(10, 4))\n",
    "sns.lineplot(x=data_ch.index, y='children', data=data_ch, marker='D')\n",
    "plt.title('График зависимости количества кредитов от количества детей')\n",
    "plt.xlabel('Количество детей')\n",
    "plt.ylabel('Количество кредитов')\n",
    "plt.show()"
   ]
  },
  {
   "attachments": {},
   "cell_type": "markdown",
   "id": "f25e483e",
   "metadata": {},
   "source": [
    "**Вывод:**   \n",
    "Из полученных данных можно сделать вывод, что в случае отсутствия детей вероятность возникновения задолженности по кредиту меньше, нежели в ситуации, когда есть дети. Это может быть связано с тем, что общая финансовая нагрузка на семьи с детьми выше, ведь общий доход семьи распределяется и между неработатающими членами семьи (детьми)."
   ]
  },
  {
   "attachments": {},
   "cell_type": "markdown",
   "id": "8f85f1db",
   "metadata": {},
   "source": [
    "## Зависимость между семейным положением и возвратом кредита в срок <a id=\"cor_2\"></a> "
   ]
  },
  {
   "cell_type": "code",
   "execution_count": 23,
   "id": "6dc60156",
   "metadata": {},
   "outputs": [],
   "source": [
    "# проведение категоризации\n",
    "def categorize_family(family_status):\n",
    "    if family_status == 'женат / замужем':\n",
    "        return 'Состояли в зарегистрированном браке'\n",
    "    if family_status == 'в разводе':\n",
    "        return 'Состояли в зарегистрированном браке'\n",
    "    if family_status == 'вдовец / вдова':\n",
    "        return 'Состояли в зарегистрированном браке'\n",
    "    return 'Не состояли в зарегистрированном браке'"
   ]
  },
  {
   "cell_type": "code",
   "execution_count": 24,
   "id": "06c2815b",
   "metadata": {},
   "outputs": [],
   "source": [
    "data['family_category'] = data['family_status'].apply(categorize_family)"
   ]
  },
  {
   "cell_type": "code",
   "execution_count": 25,
   "id": "09248ad3",
   "metadata": {},
   "outputs": [
    {
     "data": {
      "text/html": [
       "<div>\n",
       "<style scoped>\n",
       "    .dataframe tbody tr th:only-of-type {\n",
       "        vertical-align: middle;\n",
       "    }\n",
       "\n",
       "    .dataframe tbody tr th {\n",
       "        vertical-align: top;\n",
       "    }\n",
       "\n",
       "    .dataframe thead tr th {\n",
       "        text-align: left;\n",
       "    }\n",
       "\n",
       "    .dataframe thead tr:last-of-type th {\n",
       "        text-align: right;\n",
       "    }\n",
       "</style>\n",
       "<table border=\"1\" class=\"dataframe\">\n",
       "  <thead>\n",
       "    <tr>\n",
       "      <th></th>\n",
       "      <th></th>\n",
       "      <th>sum</th>\n",
       "      <th>count</th>\n",
       "      <th>conversion</th>\n",
       "    </tr>\n",
       "    <tr>\n",
       "      <th></th>\n",
       "      <th></th>\n",
       "      <th>debt</th>\n",
       "      <th>debt</th>\n",
       "      <th>debt</th>\n",
       "    </tr>\n",
       "    <tr>\n",
       "      <th>family_category</th>\n",
       "      <th>family_status</th>\n",
       "      <th></th>\n",
       "      <th></th>\n",
       "      <th></th>\n",
       "    </tr>\n",
       "  </thead>\n",
       "  <tbody>\n",
       "    <tr>\n",
       "      <th rowspan=\"3\" valign=\"top\">Состояли в зарегистрированном браке</th>\n",
       "      <th>вдовец / вдова</th>\n",
       "      <td>63</td>\n",
       "      <td>951</td>\n",
       "      <td>6.62%</td>\n",
       "    </tr>\n",
       "    <tr>\n",
       "      <th>в разводе</th>\n",
       "      <td>84</td>\n",
       "      <td>1189</td>\n",
       "      <td>7.06%</td>\n",
       "    </tr>\n",
       "    <tr>\n",
       "      <th>женат / замужем</th>\n",
       "      <td>927</td>\n",
       "      <td>12261</td>\n",
       "      <td>7.56%</td>\n",
       "    </tr>\n",
       "    <tr>\n",
       "      <th rowspan=\"2\" valign=\"top\">Не состояли в зарегистрированном браке</th>\n",
       "      <th>гражданский брак</th>\n",
       "      <td>385</td>\n",
       "      <td>4134</td>\n",
       "      <td>9.31%</td>\n",
       "    </tr>\n",
       "    <tr>\n",
       "      <th>Не женат / не замужем</th>\n",
       "      <td>273</td>\n",
       "      <td>2796</td>\n",
       "      <td>9.76%</td>\n",
       "    </tr>\n",
       "  </tbody>\n",
       "</table>\n",
       "</div>"
      ],
      "text/plain": [
       "                                                              sum  count  \\\n",
       "                                                             debt   debt   \n",
       "family_category                        family_status                       \n",
       "Состояли в зарегистрированном браке    вдовец / вдова          63    951   \n",
       "                                       в разводе               84   1189   \n",
       "                                       женат / замужем        927  12261   \n",
       "Не состояли в зарегистрированном браке гражданский брак       385   4134   \n",
       "                                       Не женат / не замужем  273   2796   \n",
       "\n",
       "                                                             conversion  \n",
       "                                                                   debt  \n",
       "family_category                        family_status                     \n",
       "Состояли в зарегистрированном браке    вдовец / вдова             6.62%  \n",
       "                                       в разводе                  7.06%  \n",
       "                                       женат / замужем            7.56%  \n",
       "Не состояли в зарегистрированном браке гражданский брак           9.31%  \n",
       "                                       Не женат / не замужем      9.76%  "
      ]
     },
     "metadata": {},
     "output_type": "display_data"
    }
   ],
   "source": [
    "# построение сводной таблицы\n",
    "data_pivot = data.pivot_table(index=['family_category', 'family_status'], values=['debt'], aggfunc=['sum', 'count', conversion])\n",
    "data_pivot = data_pivot.sort_values(by=('conversion', 'debt'))\n",
    "display(data_pivot)"
   ]
  },
  {
   "attachments": {},
   "cell_type": "markdown",
   "id": "4a1b4575",
   "metadata": {},
   "source": [
    "**Вывод:**   \n",
    "Можно прийти к выводу, что категория людей \"вдовец / вдова\" имеют наименьшую степень риска по возникновению задолженности по кредиту. Однако люди, состоящие в гражданском браке, а также находящиеся в разводе, имеют наивысший риск возникновения задолженности. Возможно, это связано с отношением к ответственности людей, состоящих в такого рода отношениях. Люди имеющие статус супругов, имеют среднюю вероятность возникновения задолженности по кредиту.  \n",
    "Если же судить по категориям выборки, то люди, которые регистрировали свои отношения, подвержены меньшему риску возникновения задолженности по кредиту, нежели, чем люди не состоящие в зарегистрированном браке."
   ]
  },
  {
   "attachments": {},
   "cell_type": "markdown",
   "id": "502e62f7",
   "metadata": {},
   "source": [
    "## Зависимость между уровнем дохода и возвратом кредита в срок <a id=\"cor_3\"></a> "
   ]
  },
  {
   "cell_type": "code",
   "execution_count": 26,
   "id": "65004be6",
   "metadata": {},
   "outputs": [
    {
     "data": {
      "text/html": [
       "<div>\n",
       "<style scoped>\n",
       "    .dataframe tbody tr th:only-of-type {\n",
       "        vertical-align: middle;\n",
       "    }\n",
       "\n",
       "    .dataframe tbody tr th {\n",
       "        vertical-align: top;\n",
       "    }\n",
       "\n",
       "    .dataframe thead tr th {\n",
       "        text-align: left;\n",
       "    }\n",
       "\n",
       "    .dataframe thead tr:last-of-type th {\n",
       "        text-align: right;\n",
       "    }\n",
       "</style>\n",
       "<table border=\"1\" class=\"dataframe\">\n",
       "  <thead>\n",
       "    <tr>\n",
       "      <th></th>\n",
       "      <th>sum</th>\n",
       "      <th>count</th>\n",
       "      <th>conversion</th>\n",
       "    </tr>\n",
       "    <tr>\n",
       "      <th></th>\n",
       "      <th>debt</th>\n",
       "      <th>debt</th>\n",
       "      <th>debt</th>\n",
       "    </tr>\n",
       "    <tr>\n",
       "      <th>total_income_category</th>\n",
       "      <th></th>\n",
       "      <th></th>\n",
       "      <th></th>\n",
       "    </tr>\n",
       "  </thead>\n",
       "  <tbody>\n",
       "    <tr>\n",
       "      <th>A</th>\n",
       "      <td>381</td>\n",
       "      <td>5334</td>\n",
       "      <td>7.14%</td>\n",
       "    </tr>\n",
       "    <tr>\n",
       "      <th>D</th>\n",
       "      <td>427</td>\n",
       "      <td>5333</td>\n",
       "      <td>8.01%</td>\n",
       "    </tr>\n",
       "    <tr>\n",
       "      <th>B</th>\n",
       "      <td>542</td>\n",
       "      <td>6280</td>\n",
       "      <td>8.63%</td>\n",
       "    </tr>\n",
       "    <tr>\n",
       "      <th>C</th>\n",
       "      <td>382</td>\n",
       "      <td>4384</td>\n",
       "      <td>8.71%</td>\n",
       "    </tr>\n",
       "  </tbody>\n",
       "</table>\n",
       "</div>"
      ],
      "text/plain": [
       "                       sum count conversion\n",
       "                      debt  debt       debt\n",
       "total_income_category                      \n",
       "A                      381  5334      7.14%\n",
       "D                      427  5333      8.01%\n",
       "B                      542  6280      8.63%\n",
       "C                      382  4384      8.71%"
      ]
     },
     "metadata": {},
     "output_type": "display_data"
    }
   ],
   "source": [
    "# построение сводной таблицы\n",
    "data_pivot = data.pivot_table(index=['total_income_category'], values=['debt'], aggfunc=['sum', 'count', conversion])\n",
    "data_pivot = data_pivot.sort_values(by=('conversion', 'debt'))\n",
    "display(data_pivot)"
   ]
  },
  {
   "cell_type": "code",
   "execution_count": 27,
   "id": "adaeb008",
   "metadata": {},
   "outputs": [
    {
     "data": {
      "image/png": "[encoded data removed]",
      "text/plain": [
       "<Figure size 640x480 with 1 Axes>"
      ]
     },
     "metadata": {},
     "output_type": "display_data"
    }
   ],
   "source": [
    "sns.set_palette('bright') \n",
    "sns.histplot(x='total_income', data=data, kde=True)\n",
    "plt.xlim(0, 500000)\n",
    "plt.title('Распределение дохода')\n",
    "plt.xlabel('Значение')\n",
    "plt.ylabel('Частота')\n",
    "plt.xticks(rotation=45)\n",
    "plt.show()"
   ]
  },
  {
   "attachments": {},
   "cell_type": "markdown",
   "id": "6112ada4",
   "metadata": {},
   "source": [
    "**Вывод:**   \n",
    "На основании полученных данных можно сделать вывод, что люди, получающие наименьший доход из представленных, а также люди со средним уровнем дохода, подвержены наивысшему риску возникновения задолженности. Это, скорее всего, связано с неустойчивым финансовым положением первых и халатным отношением к возникновению задолженности у вторых, поскольку они могут считать, что выплата пенни по кредитам не займет много времени.   \n",
    "Однако, люди, находящиеся в категории \"А\", получающие наибольший доход, также подвержены риску возникновения задолженности по кредиту, но в наименьшей степени. Таким образом, можно сделать вывод, что зависимость между уровнем дохода и возвратом кредита в срок, наблюдается."
   ]
  },
  {
   "attachments": {},
   "cell_type": "markdown",
   "id": "e0bf8e32",
   "metadata": {},
   "source": [
    "## Влияние целей кредита на возврат кредита в срок <a id=\"cor_4\"></a> "
   ]
  },
  {
   "cell_type": "code",
   "execution_count": 28,
   "id": "a54f0d63",
   "metadata": {},
   "outputs": [
    {
     "data": {
      "text/html": [
       "<div>\n",
       "<style scoped>\n",
       "    .dataframe tbody tr th:only-of-type {\n",
       "        vertical-align: middle;\n",
       "    }\n",
       "\n",
       "    .dataframe tbody tr th {\n",
       "        vertical-align: top;\n",
       "    }\n",
       "\n",
       "    .dataframe thead tr th {\n",
       "        text-align: left;\n",
       "    }\n",
       "\n",
       "    .dataframe thead tr:last-of-type th {\n",
       "        text-align: right;\n",
       "    }\n",
       "</style>\n",
       "<table border=\"1\" class=\"dataframe\">\n",
       "  <thead>\n",
       "    <tr>\n",
       "      <th></th>\n",
       "      <th>sum</th>\n",
       "      <th>count</th>\n",
       "      <th>conversion</th>\n",
       "    </tr>\n",
       "    <tr>\n",
       "      <th></th>\n",
       "      <th>debt</th>\n",
       "      <th>debt</th>\n",
       "      <th>debt</th>\n",
       "    </tr>\n",
       "    <tr>\n",
       "      <th>purpose_category</th>\n",
       "      <th></th>\n",
       "      <th></th>\n",
       "      <th></th>\n",
       "    </tr>\n",
       "  </thead>\n",
       "  <tbody>\n",
       "    <tr>\n",
       "      <th>операции с недвижимостью</th>\n",
       "      <td>780</td>\n",
       "      <td>10751</td>\n",
       "      <td>7.26%</td>\n",
       "    </tr>\n",
       "    <tr>\n",
       "      <th>проведение свадьбы</th>\n",
       "      <td>183</td>\n",
       "      <td>2313</td>\n",
       "      <td>7.91%</td>\n",
       "    </tr>\n",
       "    <tr>\n",
       "      <th>получение образования</th>\n",
       "      <td>369</td>\n",
       "      <td>3988</td>\n",
       "      <td>9.25%</td>\n",
       "    </tr>\n",
       "    <tr>\n",
       "      <th>операции с автомобилем</th>\n",
       "      <td>400</td>\n",
       "      <td>4279</td>\n",
       "      <td>9.35%</td>\n",
       "    </tr>\n",
       "  </tbody>\n",
       "</table>\n",
       "</div>"
      ],
      "text/plain": [
       "                          sum  count conversion\n",
       "                         debt   debt       debt\n",
       "purpose_category                               \n",
       "операции с недвижимостью  780  10751      7.26%\n",
       "проведение свадьбы        183   2313      7.91%\n",
       "получение образования     369   3988      9.25%\n",
       "операции с автомобилем    400   4279      9.35%"
      ]
     },
     "execution_count": 28,
     "metadata": {},
     "output_type": "execute_result"
    }
   ],
   "source": [
    "# построение сводной таблицы\n",
    "data_pivot = data.pivot_table(index=['purpose_category'], values=['debt'], aggfunc=['sum', 'count', conversion])\n",
    "data_pivot = data_pivot.sort_values(by=('conversion', 'debt'))\n",
    "data_pivot"
   ]
  },
  {
   "cell_type": "code",
   "execution_count": 29,
   "id": "c820a829",
   "metadata": {},
   "outputs": [],
   "source": [
    "# столбец с меткой о задолженности заменяем для дальнейшей визуализации\n",
    "data['debt'] = data['debt'].apply(lambda x: 'должник' if x == 1 else 'не должник')"
   ]
  },
  {
   "cell_type": "code",
   "execution_count": 30,
   "id": "2b5eb007",
   "metadata": {},
   "outputs": [],
   "source": [
    "# группировка данных по целям кредита и задолженности, медианный доход\n",
    "data_pur = data.groupby(['purpose_category', 'debt'], \\\n",
    "                        as_index = False)[['total_income']].count()"
   ]
  },
  {
   "cell_type": "code",
   "execution_count": 31,
   "id": "7d71d583",
   "metadata": {},
   "outputs": [
    {
     "data": {
      "image/png": "[encoded data removed]",
      "text/plain": [
       "<Figure size 1000x600 with 1 Axes>"
      ]
     },
     "metadata": {},
     "output_type": "display_data"
    }
   ],
   "source": [
    "sns.set_style('white')\n",
    "plt.figure(figsize=(10, 6))\n",
    "sns.barplot(x='total_income', y='purpose_category', data=data_pur, hue='debt')\n",
    "plt.title('График дохода в зависимости от целей кредита')\n",
    "plt.xlabel('Медианный доход')\n",
    "plt.ylabel('Цель кредита')\n",
    "plt.xticks(rotation=45)\n",
    "plt.legend(loc='lower right', fontsize=10)\n",
    "plt.grid()\n",
    "plt.show()"
   ]
  },
  {
   "attachments": {},
   "cell_type": "markdown",
   "id": "6f808362",
   "metadata": {},
   "source": [
    "**Вывод:**  \n",
    "По полученным данным видно, что наименьшему риску подвержены цели, которые связаны с проведением свадьбы и недвижимостью. Данный факт может свидетельствовать о том, что при проведении сделок с недвижимостью, люди боятся санкций со стороны банков, вплоть до изъятия имущества, поскольку оно находится в залоге у банка. Вероятность возврата денег по кредиту на свадьбу велика, поскольку при проведении свадьбы присутствует факт дарения подарков, как в вещественном выражении, так и в денежном, что в последующем может быть использовано в качестве погашения кредита, в случае отсутствия денежных средств.  \n",
    "При получении образования и операций с автомобилями другая ситуация, они составляют наивысший риск. Это может быть связано с тем, что при получении образования, многие студенты или имеют постоянную, но малооплачиваемую работу, либо же непостоянную работу. При пользовании автомобилем зачастую возникают множество дополнительных трат, что существенно затрудняет выплату по кредиту. Также следует учитывать, что в случае изъятия автомобиля из пользования банком, люди не будут так переживать, как в случае изъятия недвижимости. Данный факт, также может оказывать влияние на распределение зависимости целей кредита и его возврата."
   ]
  },
  {
   "attachments": {},
   "cell_type": "markdown",
   "id": "007dc586",
   "metadata": {},
   "source": [
    "## Зависимость между уровнем образования и возвратом кредита в срок <a id=\"cor_5\"></a> "
   ]
  },
  {
   "cell_type": "code",
   "execution_count": 32,
   "id": "ca6bfc8e",
   "metadata": {},
   "outputs": [],
   "source": [
    "# группировка данных по образованию и задолженности, медианный доход\n",
    "data_ed = data.groupby(['education', 'debt'], \\\n",
    "                        as_index = False)[['total_income']].median()"
   ]
  },
  {
   "cell_type": "code",
   "execution_count": 33,
   "id": "7c3ea237",
   "metadata": {},
   "outputs": [
    {
     "data": {
      "image/png": "[encoded data removed]",
      "text/plain": [
       "<Figure size 1000x400 with 1 Axes>"
      ]
     },
     "metadata": {},
     "output_type": "display_data"
    }
   ],
   "source": [
    "sns.set_style('ticks')\n",
    "plt.figure(figsize=(10, 4))\n",
    "sns.barplot(x='total_income', y='education', data=data_ed, hue='debt')\n",
    "plt.title('График дохода в зависимости от образования')\n",
    "plt.xlabel('Медианный доход')\n",
    "plt.ylabel('Образование')\n",
    "plt.xticks(rotation=45)\n",
    "plt.legend(loc='lower right', fontsize=10)\n",
    "plt.grid()\n",
    "plt.show()"
   ]
  },
  {
   "attachments": {},
   "cell_type": "markdown",
   "id": "aa2dc764",
   "metadata": {},
   "source": [
    "**Вывод:**   \n",
    "На основании полученных данных можно сделать вывод, что только у людей с ученой степенью нет риска возникновения задолженности."
   ]
  },
  {
   "attachments": {},
   "cell_type": "markdown",
   "id": "6832f718",
   "metadata": {},
   "source": [
    "# Общий вывод  <a id=\"done\"></a> "
   ]
  },
  {
   "attachments": {},
   "cell_type": "markdown",
   "id": "b743db7b",
   "metadata": {},
   "source": [
    "На основании проведенного исследования можно сделать вывод, что на показатель возврата кредита в разной степени влияют большое количество факторов.  \n",
    "* В меньшей степени заметна корреляция между возможностью возникновения задолженности и количеством детей. Поскольку вероятность возникновения задолженности возникает как в семьях где нет детей, так и в семьях, где они есть. Уровень дохода также оказывает влияние на возможность возникновения задолженности, поскольку люди с наименьшим и высоким уровнем дохода находятся примерно в равном положении по данному показателю, однако люди со средним достатком подвержены высокой зависимости.  \n",
    "* В большей степени заметная корреляция между целью кредита и семейным положением. Люди, которые берут кредит на проведение свадьбы и различные операции с недвижимостью, более ответственны к процессу погашения кредита, нежели чем люди, которые берут кредит на образование и автомобиль.  \n",
    "\n",
    "Таким образом, можно сделать вывод, что наилучшим заемщиком является человек, который состоял или состоит в зарегистрированном браке, у которого нет детей, имеет уровень дохода выше минимального, а также берет кредит на операции с недвижимостью. А вот наиболее проблемным заемщиком, который подвержен большому количеству рисков является человек, который берет кредит на сделки с автомобилем, имеет наименьший уровень дохода, не состоял в зарегистрированном браке, а также имеет детей."
   ]
  }
 ],
 "metadata": {
  "kernelspec": {
   "display_name": "Python 3 (ipykernel)",
   "language": "python",
   "name": "python3"
  },
  "language_info": {
   "codemirror_mode": {
    "name": "ipython",
    "version": 3
   },
   "file_extension": ".py",
   "mimetype": "text/x-python",
   "name": "python",
   "nbconvert_exporter": "python",
   "pygments_lexer": "ipython3",
   "version": "3.11.3"
  }
 },
 "nbformat": 4,
 "nbformat_minor": 5
}
