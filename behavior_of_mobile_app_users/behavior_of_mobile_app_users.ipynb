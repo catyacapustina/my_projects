{
 "cells": [
  {
   "attachments": {},
   "cell_type": "markdown",
   "metadata": {},
   "source": [
    "1. [Открытие данных](#start)\n",
    "2. [Предобработка данных](#preprocessing)\n",
    "3. [Добавление новых столбцов](#new)\n",
    "4. [Проверка не попадают ли какие-то пользователи во все группы](#doble)  \n",
    "5. [Изучение логов](#log)\n",
    "6. [Временной интервал в A/A/B-тесте](#date)\n",
    "7. [Количество потерянных событий и пользователей](#lost)\n",
    "8. [Воронка событий](#vor)\n",
    "9. [Изучение результатов эксперимента](#rez)\n",
    "10. [Вывод по результатам теста](#rez_test)\n",
    "11. [Общий вывод](#done)"
   ]
  },
  {
   "attachments": {},
   "cell_type": "markdown",
   "metadata": {},
   "source": [
    "## Открытие данных <a id=\"start\"></a> "
   ]
  },
  {
   "cell_type": "code",
   "execution_count": null,
   "metadata": {},
   "outputs": [],
   "source": [
    "# импорт библиотек\n",
    "import pandas as pd\n",
    "import numpy as np\n",
    "import seaborn as sns\n",
    "import datetime as dt\n",
    "import math as mth\n",
    "import plotly.express as px\n",
    "from matplotlib import pyplot as plt\n",
    "from scipy import stats as st\n",
    "from plotly import graph_objects as go"
   ]
  },
  {
   "cell_type": "code",
   "execution_count": null,
   "metadata": {},
   "outputs": [],
   "source": [
    "# загрузка данных\n",
    "try:\n",
    "    logs_exp = pd.read_csv('/datasets/logs_exp.csv', sep = '\\t')  \n",
    "except:\n",
    "    logs_exp = pd.read_csv('https://code.s3.yandex.net/datasets/logs_exp.csv', sep = '\\t')"
   ]
  },
  {
   "cell_type": "code",
   "execution_count": null,
   "metadata": {},
   "outputs": [],
   "source": [
    "# функция для предобработки данных\n",
    "def data_preprocessing(data):\n",
    "    # приведение наименования столбцов датафрейма к правильному виду\n",
    "    data.columns = [x.lower().replace(' ', '_') for x in data.columns]\n",
    "    print('Вывод первых 10 строчек датафрейма на экран')  \n",
    "    display(data.head(10))\n",
    "    print(' ')   \n",
    "    print('Вывод основной информации о датафрейме с помощью метода info()') \n",
    "    display(data.info())\n",
    "    print(' ') \n",
    "    print('Вывод количества пропущенных значений для каждого столбца датафрейма')\n",
    "    display(data.isna().sum())\n",
    "    print(' ') \n",
    "    print('Подсчёт количества явных дубликатов')\n",
    "    display(data.duplicated().sum())"
   ]
  },
  {
   "cell_type": "code",
   "execution_count": null,
   "metadata": {},
   "outputs": [],
   "source": [
    "data_preprocessing(logs_exp)"
   ]
  },
  {
   "attachments": {},
   "cell_type": "markdown",
   "metadata": {},
   "source": [
    "**Вывод**  \n",
    "Наименования столбцов необходимо привести к читаемому виду. Необходимо столбец 'expid' привести к типу 'object'. Пропущенных значений в датафрейме нет. Явных дубликатов — 413. Необходимо их удалить. Также для удобства лучше переименовать численное обозначение групп на буквенное. 246 и 247 — контрольные группы (заменим на А и АA соответственно), а 248 — экспериментальная (на В)."
   ]
  },
  {
   "attachments": {},
   "cell_type": "markdown",
   "metadata": {},
   "source": [
    "## Предобработка данных <a id=\"preprocessing\"></a> "
   ]
  },
  {
   "cell_type": "code",
   "execution_count": null,
   "metadata": {},
   "outputs": [],
   "source": [
    "# приведение наименования столбцов датафрейма к необходимому виду\n",
    "logs_exp = logs_exp.rename(\n",
    "    columns={\n",
    "        'eventname' : 'event', \n",
    "        'deviceidhash' : 'user_id', \n",
    "        'eventtimestamp' : 'event_time',\n",
    "        'expid' : 'group'\n",
    "    }\n",
    ")"
   ]
  },
  {
   "cell_type": "code",
   "execution_count": null,
   "metadata": {},
   "outputs": [],
   "source": [
    "# замена значений контрольных и эксперементальной групп \n",
    "# 246 и 247 — контрольные группы (А и АA соответственно), а 248 — экспериментальная (В)\n",
    "# создание функции для замены значений контрольных и эксперементальной групп\n",
    "def group_name(logs_exp):\n",
    "    if logs_exp['group'] == 246:\n",
    "        return 'A'\n",
    "    elif logs_exp['group'] == 247:\n",
    "        return 'AA'\n",
    "    else:\n",
    "        return 'B'\n",
    "\n",
    "logs_exp['group'] = logs_exp.apply(group_name, axis=1)\n",
    "logs_exp.head(10)"
   ]
  },
  {
   "cell_type": "code",
   "execution_count": null,
   "metadata": {},
   "outputs": [],
   "source": [
    "# пропусков нет\n",
    "\n",
    "# изменение типа данных в столбце датафрейма, используя обработку ошибок при приобразовании\n",
    "try:\n",
    "    logs_exp['group'] = logs_exp['group'].astype('object')\n",
    "except:\n",
    "    print('group - ошибка')  "
   ]
  },
  {
   "cell_type": "code",
   "execution_count": null,
   "metadata": {},
   "outputs": [],
   "source": [
    "logs_exp.head(10)"
   ]
  },
  {
   "cell_type": "code",
   "execution_count": null,
   "metadata": {},
   "outputs": [],
   "source": [
    "# удаление дубликатов\n",
    "logs_exp = logs_exp.drop_duplicates()\n",
    "logs_exp.duplicated().sum()"
   ]
  },
  {
   "attachments": {},
   "cell_type": "markdown",
   "metadata": {},
   "source": [
    "### Добавление новых столбцов <a id=\"new\"></a> "
   ]
  },
  {
   "cell_type": "code",
   "execution_count": null,
   "metadata": {},
   "outputs": [],
   "source": [
    "# добавление столбца даты и времени\n",
    "logs_exp['date_time'] = pd.to_datetime(logs_exp['event_time'], unit='s')"
   ]
  },
  {
   "cell_type": "code",
   "execution_count": null,
   "metadata": {},
   "outputs": [],
   "source": [
    "# добавление столбца дат\n",
    "logs_exp['date'] = pd.to_datetime(logs_exp['date_time']).dt.date"
   ]
  },
  {
   "cell_type": "code",
   "execution_count": null,
   "metadata": {},
   "outputs": [],
   "source": [
    "# проверка данных после всех манипуляций\n",
    "logs_exp.head(10)"
   ]
  },
  {
   "cell_type": "code",
   "execution_count": null,
   "metadata": {},
   "outputs": [],
   "source": [
    "# проверка типов данных после всех манипуляций\n",
    "logs_exp.info()"
   ]
  },
  {
   "cell_type": "code",
   "execution_count": null,
   "metadata": {},
   "outputs": [],
   "source": [
    "# изменение типа данных в столбце датафрейма, используя обработку ошибок при приобразовании\n",
    "try:\n",
    "    logs_exp['date'] = logs_exp['date'].astype('datetime64')\n",
    "except:\n",
    "    print('date - ошибка')  "
   ]
  },
  {
   "cell_type": "code",
   "execution_count": null,
   "metadata": {},
   "outputs": [],
   "source": [
    "# проверка типов данных после всех манипуляций\n",
    "logs_exp.info()"
   ]
  },
  {
   "attachments": {},
   "cell_type": "markdown",
   "metadata": {},
   "source": [
    "**Вывод**  \n",
    "Была проведена предобработка данных:  \n",
    "* изменены типы данных group и date;  \n",
    "* добавлены столбцы date_time и date;  \n",
    "* удалены дубликаты;  \n",
    "* наименования столбцов приведены к необходимому виду;  \n",
    "* назначены буквенные значения для групп."
   ]
  },
  {
   "attachments": {},
   "cell_type": "markdown",
   "metadata": {},
   "source": [
    "### Проверка не попадают ли какие-то пользователи во все группы <a id=\"doble\"></a> "
   ]
  },
  {
   "cell_type": "code",
   "execution_count": null,
   "metadata": {},
   "outputs": [],
   "source": [
    "# проверка не попадают ли какие-то пользователи во все группы"
   ]
  },
  {
   "cell_type": "code",
   "execution_count": null,
   "metadata": {},
   "outputs": [],
   "source": [
    "print('Виды групп:', logs_exp['group'].unique())"
   ]
  },
  {
   "cell_type": "code",
   "execution_count": null,
   "metadata": {},
   "outputs": [],
   "source": [
    "# количество пользователей в каждой группе\n",
    "group_a = logs_exp.query('group == \"A\"')['user_id'].count()\n",
    "print('Количество пользователей в группе А:', group_a)\n",
    "\n",
    "group_aa = logs_exp.query('group == \"AA\"')['user_id'].count()\n",
    "print('Количество пользователей в группе АA:', group_aa)\n",
    "\n",
    "group_b = logs_exp.query('group == \"B\"')['user_id'].count()\n",
    "print('Количество пользователей в группе B:', group_b)"
   ]
  },
  {
   "cell_type": "code",
   "execution_count": null,
   "metadata": {},
   "outputs": [],
   "source": [
    "# количество уникальных пользователей в каждой группе\n",
    "group_a_unique = logs_exp.query('group == \"A\"')['user_id'].nunique()\n",
    "print('Количество уникальных пользователей в группе А:', group_a_unique)\n",
    "\n",
    "group_aa_unique = logs_exp.query('group == \"AA\"')['user_id'].nunique()\n",
    "print('Количество уникальных пользователей в группе АA:', group_aa_unique)\n",
    "\n",
    "group_b_unique = logs_exp.query('group == \"B\"')['user_id'].nunique()\n",
    "print('Количество уникальных пользователей в группе B:', group_b_unique)\n",
    "\n",
    "group_unique = logs_exp['user_id'].nunique()\n",
    "print('Количество уникальных пользователей всего:', group_unique)\n",
    "\n",
    "group_sum = group_a_unique + group_aa_unique + group_b_unique\n",
    "print('Количество уникальных пользователей всего суммирование:', group_sum)"
   ]
  },
  {
   "cell_type": "code",
   "execution_count": null,
   "metadata": {},
   "outputs": [],
   "source": [
    "# пользователи, попавшие во все группы\n",
    "# формируем группы\n",
    "group_a = logs_exp.query('group == \"A\"')\n",
    "group_aa = logs_exp.query('group == \"AA\"')\n",
    "group_b = logs_exp.query('group == \"B\"')"
   ]
  },
  {
   "cell_type": "code",
   "execution_count": null,
   "metadata": {},
   "outputs": [],
   "source": [
    "# отображаем id пользователей, попавших во все группы\n",
    "group_ab = np.intersect1d(group_a['user_id'], group_b['user_id'])\n",
    "print('id пользователей, попавших в группы A, B:', group_ab)\n",
    "group_aaa = np.intersect1d(group_a['user_id'], group_aa['user_id'])\n",
    "print('id пользователей, попавших в группы A, AA:', group_aaa)\n",
    "group_aab = np.intersect1d(group_aa['user_id'], group_b['user_id'])\n",
    "print('id пользователей, попавших в группы A, AA:', group_aab)"
   ]
  },
  {
   "attachments": {},
   "cell_type": "markdown",
   "metadata": {},
   "source": [
    "**Вывод**   \n",
    "В тесте участвуют группы А, AA, В. Количество уникальных пользователей, а также проверка присутствия id пользователей одновременно в нескольких группах говорят о том, что пользователи не попали в несколько групп одновременно."
   ]
  },
  {
   "attachments": {},
   "cell_type": "markdown",
   "metadata": {},
   "source": [
    "### Изучение логов <a id=\"log\"></a> "
   ]
  },
  {
   "cell_type": "code",
   "execution_count": null,
   "metadata": {},
   "outputs": [],
   "source": [
    "logs_exp['event'].value_counts()"
   ]
  },
  {
   "cell_type": "code",
   "execution_count": null,
   "metadata": {},
   "outputs": [],
   "source": [
    "event_all = logs_exp['event'].count()\n",
    "print('Всего событий в логе', event_all)\n",
    "\n",
    "event_unique = logs_exp['event'].nunique()\n",
    "print('Количество уникальных событий в логе', event_unique)\n",
    "\n",
    "event_name = logs_exp['event'].unique()\n",
    "print('Наименования уникальных событий в логе', event_name)"
   ]
  },
  {
   "cell_type": "code",
   "execution_count": null,
   "metadata": {},
   "outputs": [],
   "source": [
    "group_unique = logs_exp['user_id'].nunique()\n",
    "print('Количество уникальных пользователей всего:', group_unique)"
   ]
  },
  {
   "cell_type": "code",
   "execution_count": null,
   "metadata": {
    "scrolled": true
   },
   "outputs": [],
   "source": [
    "# медианное значение, чтобы исключить возможность искажения результатов из-за выбросов\n",
    "mean = logs_exp.groupby('user_id')['event'].count().median()\n",
    "print('Среднее количество событий на пользователя', mean)"
   ]
  },
  {
   "attachments": {},
   "cell_type": "markdown",
   "metadata": {},
   "source": [
    "### Временной интервал в A/A/B-тесте <a id=\"date\"></a> "
   ]
  },
  {
   "cell_type": "code",
   "execution_count": null,
   "metadata": {
    "scrolled": true
   },
   "outputs": [],
   "source": [
    "# временной интервал в A/A/B-тесте\n",
    "# дата начала теста\n",
    "first = logs_exp['date'].min()\n",
    "print('Дата начала теста:', first)\n",
    "\n",
    "# дата окончания теста\n",
    "last = logs_exp['date'].max()\n",
    "print('Дата окончания теста:', last)\n",
    "\n",
    "# период теста\n",
    "period = last - first\n",
    "print('Период теста в днях:', period.days)"
   ]
  },
  {
   "attachments": {},
   "cell_type": "markdown",
   "metadata": {},
   "source": [
    "**Вывод**   \n",
    "Минимальная дата теста 25 июля 2019 года, а максимальная дата — 7 августа 2019 года. Таким образом, мы располагаем данными за перод около двух недель. "
   ]
  },
  {
   "cell_type": "code",
   "execution_count": null,
   "metadata": {},
   "outputs": [],
   "source": [
    "logs_exp.hist('date', grid=True)\n",
    "plt.title('Распределение событий по дате и времени')\n",
    "plt.xlabel('Дата')\n",
    "plt.ylabel('Событие')\n",
    "plt.xticks(rotation=30)\n",
    "plt.show()"
   ]
  },
  {
   "attachments": {},
   "cell_type": "markdown",
   "metadata": {},
   "source": [
    "**Вывод**   \n",
    "На основании графика можно сделать вывод, что мы располагаем данными с 29 июля 2019 года, однако до 1 августа 2019 года тенденция неустойчивая и рост событий приходится на промежуток 31 июля 2019 - 1 августа 2019. Возможно до 1 августа 2019 года данные не фиксировались по какой-то ошибке. Таким образом полные данные начинаются с 1 августа 2019 года. "
   ]
  },
  {
   "cell_type": "code",
   "execution_count": null,
   "metadata": {},
   "outputs": [],
   "source": [
    "# исключаем данные до 01 августа 2019 года\n",
    "logs_exp_new = logs_exp.query('date >= \"2019-08-01\"').reset_index(drop=True)\n",
    "logs_exp_new.head(10)"
   ]
  },
  {
   "cell_type": "code",
   "execution_count": null,
   "metadata": {},
   "outputs": [],
   "source": [
    "# временной интервал в A/A/B-тесте после исключения данных до 01 августа 2019 года\n",
    "# дата начала теста\n",
    "first = logs_exp_new['date'].min()\n",
    "print('Дата начала теста:', first)\n",
    "\n",
    "# дата окончания теста\n",
    "last = logs_exp_new['date'].max()\n",
    "print('Дата окончания теста:', last)\n",
    "\n",
    "# период теста\n",
    "period = last - first\n",
    "print('Период теста в днях:', period.days)"
   ]
  },
  {
   "cell_type": "code",
   "execution_count": null,
   "metadata": {},
   "outputs": [],
   "source": [
    "# проверка распределения после исключения данных до 01 августа 2019 года\n",
    "logs_exp_new.hist('date', grid=True)\n",
    "plt.title('Распределение событий по дате и времени')\n",
    "plt.xlabel('Дата')\n",
    "plt.ylabel('Событие')\n",
    "plt.xticks(rotation=30)\n",
    "plt.show()"
   ]
  },
  {
   "attachments": {},
   "cell_type": "markdown",
   "metadata": {},
   "source": [
    "**Вывод**   \n",
    "Таким образом, после исключения данных до 1 августа 2019 года, можно увидеть примерно равно распределение событий. Минимальная дата теста 1 августа 2019 года, а максимальная дата — 7 августа 2019 года. Мы располагаем данными за перод 6 дней."
   ]
  },
  {
   "attachments": {},
   "cell_type": "markdown",
   "metadata": {},
   "source": [
    "### Количество потерянных событий и пользователей <a id=\"lost\"></a> "
   ]
  },
  {
   "cell_type": "code",
   "execution_count": null,
   "metadata": {},
   "outputs": [],
   "source": [
    "# количество потерянных событий\n",
    "\n",
    "event_all = logs_exp['event'].count()\n",
    "print('Всего событий до удаления', event_all)\n",
    "\n",
    "event_unique = logs_exp['event'].nunique()\n",
    "print('Количество уникальных событий до удаления', event_unique)\n",
    "\n",
    "event_all_after = logs_exp_new['event'].count()\n",
    "print('Всего событий после удаления', event_all_after)\n",
    "\n",
    "event_unique_after = logs_exp_new['event'].nunique()\n",
    "print('Количество уникальных событий после удаления', event_unique_after)\n",
    "\n",
    "result_event = event_all - event_all_after\n",
    "print('Количество потерянных событий:', result_event)\n",
    "\n",
    "result_event_pr = round(((event_all - event_all_after)/event_all * 100), 2)\n",
    "print(f'Количество потерянных событий в процентах: {result_event_pr}%')"
   ]
  },
  {
   "cell_type": "code",
   "execution_count": null,
   "metadata": {},
   "outputs": [],
   "source": [
    "# количество потерянных пользователей\n",
    "\n",
    "group_unique = logs_exp['user_id'].nunique()\n",
    "print('Количество пользователей до удаления:', group_unique)\n",
    "\n",
    "group_unique_after = logs_exp_new['user_id'].nunique()\n",
    "print('Количество пользователей после удаления:', group_unique_after)\n",
    "\n",
    "result_group = group_unique - group_unique_after\n",
    "print('Количество потерянных пользователей:', result_group)\n",
    "\n",
    "result_group_pr = round(((group_unique - group_unique_after)/group_unique * 100), 2)\n",
    "print(f'Количество потерянных пользователей в процентах: {result_group_pr}%')"
   ]
  },
  {
   "attachments": {},
   "cell_type": "markdown",
   "metadata": {},
   "source": [
    "**Вывод**   \n",
    "Можно сделать вывод, была потеряна небольшая доля пользователей и событий. После удаления было потеряно 1.16% событий, а также 0.23% полользователей."
   ]
  },
  {
   "cell_type": "code",
   "execution_count": null,
   "metadata": {},
   "outputs": [],
   "source": [
    "print('Виды групп:', logs_exp_new['group'].unique())"
   ]
  },
  {
   "attachments": {},
   "cell_type": "markdown",
   "metadata": {},
   "source": [
    "**Вывод**   \n",
    "Пользователи из всех трех групп остались в очищенных данных."
   ]
  },
  {
   "attachments": {},
   "cell_type": "markdown",
   "metadata": {},
   "source": [
    "**Общий вывод**   \n",
    "Минимальная дата теста до удаления данных была 25 июля 2019 года, а максимальная дата — 7 августа 2019 года. Таким образом, мы располагали данными за перод около двух недель. Однако, после удаления нерелевантных данных до 1 августа 2019 года, минимальная дата теста сместилась на 1 августа 2019 года. Удаление данных до 1 августа 2019 года не привело к значительным потерям данных: 0.23% пользователей и 1.16% событий. Также данное удаление не повлекло за собой потерю какой-либо группы тестирования."
   ]
  },
  {
   "attachments": {},
   "cell_type": "markdown",
   "metadata": {},
   "source": [
    "## Воронка событий <a id=\"vor\"></a> "
   ]
  },
  {
   "cell_type": "code",
   "execution_count": null,
   "metadata": {},
   "outputs": [],
   "source": [
    "# частота событий в логах и количества уникальных пользователей на каждом этапе\n",
    "count_new = logs_exp_new.groupby('event').agg({'event':'count', 'user_id':'nunique'}).sort_values(by='user_id', ascending=False)\n",
    "count_new.columns = ['events_count', 'users_count']\n",
    "count_new = count_new.reset_index()\n",
    "count_new"
   ]
  },
  {
   "attachments": {},
   "cell_type": "markdown",
   "metadata": {},
   "source": [
    "**Вывод**   \n",
    "Наиболее часто встречающееся действие — «MainScreenAppear», а наименее популярное — «Tutorial»."
   ]
  },
  {
   "cell_type": "code",
   "execution_count": null,
   "metadata": {},
   "outputs": [],
   "source": [
    "# отображение количества уникальных пользователей на каждом этапе\n",
    "count_new"
   ]
  },
  {
   "attachments": {},
   "cell_type": "markdown",
   "metadata": {},
   "source": [
    "**Вывод**  \n",
    "В предыдущем пункте собрали табличку для отображения частоты событий в логах и количества уникальных пользователей на каждом этапе. На основании её можно сделать вывод о количестве уникальных пользователей на каждом этапе.  \n",
    "* MainScreenAppear - Появление главного экрана.\n",
    "* OffersScreenAppear - Появление предложения на экране.\n",
    "* CartScreenAppear - Появление экрана корзины.  \n",
    "* PaymentScreenSuccessful - Экран успешно проведенного платежа.\n",
    "* Tutorial - Руководство пользователя.  \n",
    "Наиболее часто встречающееся действие — «MainScreenAppear» т.е появление главного экрана, а наименее популярное — «Tutorial» т.е. руководство пользователя. Наиболее часто и редко встречающиеся действия вполне логичны по количеству совершенных переходов."
   ]
  },
  {
   "cell_type": "code",
   "execution_count": null,
   "metadata": {},
   "outputs": [],
   "source": [
    "# доля пользователей, которые хоть раз совершали событие\n",
    "count_new ['share'] = round((count_new['users_count'] / group_unique_after * 100), 2)\n",
    "count_new"
   ]
  },
  {
   "attachments": {},
   "cell_type": "markdown",
   "metadata": {},
   "source": [
    "**Вывод**  \n",
    "Наибольшая доля пользователей 98.47% совершили действие «MainScreenAppear - Появление главного экрана». Наименьшую долю пользователей совершили такое действие, как «Tutorial - Руководство пользователя».  \n",
    "Около 1.5% пользователей миновали главный экран, возможно, по причине того, что эти данные об этих пользователях содержались в данных, которые были удалены."
   ]
  },
  {
   "attachments": {},
   "cell_type": "markdown",
   "metadata": {},
   "source": [
    "Действия происходят в таком порядке:  \n",
    "* MainScreenAppear (Появление главного экрана): сначала пользователь открыл приложение;  \n",
    "* OffersScreenAppear (Появление предложения на экране): открыл необходимый товар;  \n",
    "* CartScreenAppear (Появление экрана корзины): добавил товар в корзину и открылся экран корзины;  \n",
    "* PaymentScreenSuccessful (Экран успешно проведенного платежа):  провел оплату;  \n",
    "* Tutorial (Руководство пользователя):  открыл инструкцию (возможно инструкция к получению товара).  \n",
    "  \n",
    "Последовательность действий с одной стороны выглядит логичной, а с другой, даже на личном опыте понятно, что перед тем, как провести оплату, пользователи должны прочесть инструкцию, а не после.  \n",
    "Таким образом, «Tutorial» не входит в воронку событий и не является обязательным действием для совершения покупки.  \n",
    "  \n",
    "Следовательно, действия можно представить в такой последовательности:  \n",
    "Действия происходят в таком порядке:  \n",
    "* MainScreenAppear (Появление главного экрана): сначала пользователь открыл приложение;  \n",
    "* OffersScreenAppear (Появление предложения на экране): открыл необходимый товар;  \n",
    "* CartScreenAppear (Появление экрана корзины): добавил товар в корзину и открылся экран корзины;  \n",
    "* PaymentScreenSuccessful (Экран успешно проведенного платежа):  провел оплату."
   ]
  },
  {
   "cell_type": "code",
   "execution_count": null,
   "metadata": {},
   "outputs": [],
   "source": [
    "# исключение Tutorial (Руководство пользователя) при рассчете вопронки событий\n",
    "logs_exp_new = logs_exp_new.query('event != \"Tutorial\"')"
   ]
  },
  {
   "cell_type": "code",
   "execution_count": null,
   "metadata": {},
   "outputs": [],
   "source": [
    "# преобразование в лист количества пользователей на каждом действии \n",
    "list_pers = list(logs_exp_new.groupby('event')['user_id'].nunique().sort_values(ascending=False))\n",
    "list_pers"
   ]
  },
  {
   "cell_type": "code",
   "execution_count": null,
   "metadata": {},
   "outputs": [],
   "source": [
    "# вывод доли пользователей\n",
    "print(f'Доля пользователей перешедших с главного экрана в каталог товаров составляет\\\n",
    "      {round((list_pers[1] / list_pers[0] * 100), 2)}%')\n",
    "print(f'Доля пользователей перешедших из каталога товаров в корзину товаров составляет\\\n",
    "      {round((list_pers[2] / list_pers[1] * 100), 2)}%')\n",
    "print(f'Доля пользователей перешедших из корзины товаров на страницу оплаты составляет\\\n",
    "      {round((list_pers[3] / list_pers[2] * 100), 2)}%')"
   ]
  },
  {
   "cell_type": "code",
   "execution_count": null,
   "metadata": {},
   "outputs": [],
   "source": [
    "# исключение из частоты событий в логах и количества уникальных пользователей этапа 'Tutorial' для построения воронки событий\n",
    "count_new = count_new.query('event != \"Tutorial\"')"
   ]
  },
  {
   "cell_type": "code",
   "execution_count": null,
   "metadata": {},
   "outputs": [],
   "source": [
    "# воронка событий\n",
    "fig = go.Figure(go.Funnel(\n",
    "    x = count_new['users_count'], \n",
    "    y = count_new['event'], \n",
    "    textinfo = \"value+percent initial+percent previous\",\n",
    "    marker = {\"color\": [\"deepskyblue\", \"lightsalmon\", \"tan\", \"teal\", \"silver\"],\n",
    "    \"line\": {\"width\": [4, 2, 2, 3, 1, 1], \"color\": [\"wheat\", \"wheat\", \"blue\", \"wheat\", \"wheat\"]}}\n",
    ")\n",
    "               )\n",
    "fig.update_layout(title={'text': \"Воронка событий\"})\n",
    "fig.show();"
   ]
  },
  {
   "attachments": {},
   "cell_type": "markdown",
   "metadata": {},
   "source": [
    "**Вывод**  \n",
    "Наибольшая доля пользователей переходит из корзины товаров на страницу оплаты — 94.78%, а наименьшая доля переходящих пользователей составляют переходящие с главного экрана в каталог товаров (61.91%)."
   ]
  },
  {
   "cell_type": "code",
   "execution_count": null,
   "metadata": {},
   "outputs": [],
   "source": [
    "# вывод доли потерянных пользователей\n",
    "print(f'Доля потерянных пользователей не перешедших с главного экрана в каталог товаров составляет\\\n",
    "      {round(100-(list_pers[1] / list_pers[0] * 100), 2)}%')\n",
    "print(f'Доля потерянных пользователей не перешедших из каталога товаров в корзину товаров составляет\\\n",
    "      {round(100-(list_pers[2] / list_pers[1] * 100), 2)}%')\n",
    "print(f'Доля потерянных пользователей не перешедших из корзины товаров на страницу оплаты составляет\\\n",
    "      {round(100-(list_pers[3] / list_pers[2] * 100), 2)}%')"
   ]
  },
  {
   "attachments": {},
   "cell_type": "markdown",
   "metadata": {},
   "source": [
    "**Вывод**  \n",
    "Можно сделать вывод, что больше всего пользователей теряется на этапе перехода с главного экрана в каталог товаров — 38.09%."
   ]
  },
  {
   "cell_type": "code",
   "execution_count": null,
   "metadata": {},
   "outputs": [],
   "source": [
    "print(f'Доля пользователей перешедших с главного экрана на страницу оплаты составляет\\\n",
    "      {round((list_pers[3] / list_pers[0] * 100), 2)}%')"
   ]
  },
  {
   "attachments": {},
   "cell_type": "markdown",
   "metadata": {},
   "source": [
    "**Вывод**  \n",
    "Можно сделать вывод, что меньше половины пользователей первый раз посетивших приложение перешли на страницу оплаты — 47.7%."
   ]
  },
  {
   "attachments": {},
   "cell_type": "markdown",
   "metadata": {},
   "source": [
    "**Общий вывод**   \n",
    "* Наиболее часто встречающееся событие — «MainScreenAppear» (доля пользователей 98.25% совершили действие) т.е появление главного экрана, а наименее популярное — «Tutorial» т.е. руководство пользователя.  \n",
    "* В целом, можно проследить такую цепочку событий: сначала пользователь открывает приложение («MainScreenAppear»), затем страницу необходимого товара («OffersScreenAppear»). После этого пользователь добавляет товар в корзину («CartScreenAppear») и оплачивает («PaymentScreenSuccessful»). В самую последнюю очередь пользователь открывает руководство пользователя («Tutorial»).  \n",
    "* По моему мнению, руководство пользователя («Tutorial»), в которое пользователи заходят по итогу всех действий, является нелогичным завершением действий пользователя, поскольку в данный раздел пользователи зашли бы, скорее, перед покупкой.  \n",
    "* В связи с этим «Tutorial» был исключен из анализа последовательности действий пользователя.\n",
    "* Наибольшая доля пользователей переходит из корзины товаров на страницу оплаты — 94.78%, а наименьшая доля переходящих пользователей (исключая «Tutorial») составляют пользователи переходящие с главного экрана в каталог товаров — 61.91%.  \n",
    "* Следует упомянуть, что больше всего пользователей теряется на этапе перехода с главного экрана в каталог товаров, а, в целом, меньше половины пользователей первый раз посетивших приложение перешли на страницу оплаты — 47.7%."
   ]
  },
  {
   "attachments": {},
   "cell_type": "markdown",
   "metadata": {},
   "source": [
    "## Изучение результатов эксперимента <a id=\"rez\"></a> "
   ]
  },
  {
   "cell_type": "code",
   "execution_count": null,
   "metadata": {},
   "outputs": [],
   "source": [
    "# количество пользователей в каждой экспериментальной группе\n",
    "users_group_test = logs_exp_new.groupby('group')['user_id'].nunique()\n",
    "users_group_test['A+AA'] = users_group_test['A'] + users_group_test['AA']\n",
    "users_group_test['all'] = logs_exp_new['user_id'].nunique()\n",
    "users_group_test['all_sum'] = users_group_test['A+AA'] + users_group_test['B']\n",
    "users_group_test"
   ]
  },
  {
   "attachments": {},
   "cell_type": "markdown",
   "metadata": {},
   "source": [
    "**Вывод**  \n",
    "Таким образом, пользователей в группах:  \n",
    "* 246 - 2483;  \n",
    "* 247 - 2512;  \n",
    "* 248 - 2535."
   ]
  },
  {
   "cell_type": "code",
   "execution_count": null,
   "metadata": {},
   "outputs": [],
   "source": [
    "difference = (1 - users_group_test['A'] / users_group_test['AA']) * 100\n",
    "print(f'Разница группами A и AA составляет {round((difference), 2)}%')"
   ]
  },
  {
   "attachments": {},
   "cell_type": "markdown",
   "metadata": {},
   "source": [
    "**Вывод**  \n",
    "Разница между выборками А и АА чуть больше 1%, соответственно, она незначительная."
   ]
  },
  {
   "cell_type": "code",
   "execution_count": null,
   "metadata": {},
   "outputs": [],
   "source": [
    "# отображение самого популярного события\n",
    "event_for_groups = logs_exp_new.pivot_table(index='event', columns='group', values='user_id', aggfunc='nunique')\\\n",
    "                               .sort_values(by='A', ascending=False)\\\n",
    "                               .reset_index()\n",
    "\n",
    "event_for_groups"
   ]
  },
  {
   "attachments": {},
   "cell_type": "markdown",
   "metadata": {},
   "source": [
    "**Вывод**    \n",
    "Разница между группами А, АА, B незначительная, они, примерно, пропорциональны друг другу."
   ]
  },
  {
   "attachments": {},
   "cell_type": "markdown",
   "metadata": {},
   "source": [
    "**Гипотезы:**   \n",
    "* Нулевая гипотеза — значимых различий в долях пользователей нет;  \n",
    "* Альтернативная — значимые различия в долях пользователей есть.  \n",
    "  \n",
    "Значение alpha = 0.05 (5%).  \n",
    "Критерий проверки гитотез — равенство долей.  \n",
    "Для проверки долей используется z-тест."
   ]
  },
  {
   "cell_type": "code",
   "execution_count": null,
   "metadata": {},
   "outputs": [],
   "source": [
    "# добавление данных в сводную таблицу для удобства рассчетов\n",
    "event_for_groups['A+AA'] = event_for_groups['A'] + event_for_groups['AA']\n",
    "event_for_groups['all_groups'] = event_for_groups['A+AA'] + event_for_groups['B']\n",
    "\n",
    "event_for_groups['shares_A'] = (event_for_groups['A'] / group_a_unique * 100).round(2)\n",
    "event_for_groups['shares_AA'] = (event_for_groups['AA'] / group_aa_unique * 100).round(2)\n",
    "event_for_groups['shares_B'] = (event_for_groups['B'] / group_b_unique * 100).round(2)\n",
    "event_for_groups['shares_A+AA'] = ((event_for_groups['A'] + event_for_groups['AA']) / \\\n",
    "                                  (group_a_unique + group_aa_unique) * 100).round(2)\n",
    "event_for_groups"
   ]
  },
  {
   "cell_type": "code",
   "execution_count": null,
   "metadata": {
    "scrolled": false
   },
   "outputs": [],
   "source": [
    "fig = go.Figure()\n",
    "\n",
    "fig.add_trace(go.Funnel(name = 'Группа A',\n",
    "    y = event_for_groups[\"event\"],\n",
    "    x = event_for_groups[\"A\"],textposition = \"inside\", \n",
    "    textinfo = \"value+percent initial+percent previous\"))\n",
    "\n",
    "fig.add_trace(go.Funnel(name = 'Группа AA',\n",
    "    y = event_for_groups[\"event\"],\n",
    "    x = event_for_groups[\"AA\"],textposition = \"inside\", \n",
    "    textinfo = \"value+percent initial+percent previous\"))\n",
    "\n",
    "fig.add_trace(go.Funnel(name = 'Группа B',\n",
    "    y = event_for_groups[\"event\"],\n",
    "    x = event_for_groups[\"AA\"],textposition = \"inside\", \n",
    "    textinfo = \"value+percent initial+percent previous\"))\n",
    "\n",
    "fig.update_layout(title={'text': \"Воронка событий с разбивкой по группам\"})\n",
    "fig.show();"
   ]
  },
  {
   "attachments": {},
   "cell_type": "markdown",
   "metadata": {},
   "source": [
    "**Вывод**    \n",
    "На основании таблицы и воронки событий с разбивкой по группам, также можно сделать вывод, что наиболее популярное событие — MainScreenAppear. Группа A собершила самое популярное действие 2450 раз, AA — 2476 раз, а группа B — 2493 раза."
   ]
  },
  {
   "cell_type": "code",
   "execution_count": null,
   "metadata": {},
   "outputs": [],
   "source": [
    "# функция для статистической значимости\n",
    "\n",
    "def z_test(group_1, group_2, alpha):\n",
    "    #перебор экспериментальных групп по событиям и количество пользователей\n",
    "    for i in event_for_groups.index:\n",
    "        # пропорция успехов в 1 группе:\n",
    "        p1 = event_for_groups[group_1][i] / users_group_test[group_1]\n",
    "        # пропорция успехов во второй группе:\n",
    "        p2 = event_for_groups[group_2][i] / users_group_test[group_2]\n",
    "        # пропорция успехов в комбинированном датасете:\n",
    "        p_combined = ((event_for_groups[group_1][i] + event_for_groups[group_2][i]) / \n",
    "                      (users_group_test[group_1] + users_group_test[group_2]))\n",
    "        # разница пропорций в датасетах\n",
    "        difference = p1 - p2\n",
    "        # считаем статистику в ст.отклонениях стандартного нормального распределения\n",
    "        z_value = difference / mth.sqrt(p_combined * (1 - p_combined) * \n",
    "                                        (1/users_group_test[group_1] + 1/users_group_test[group_2]))\n",
    "        # задаем стандартное нормальное распределение (среднее 0, ст.отклонение 1)\n",
    "        distr = st.norm(0, 1) \n",
    "        p_value = (1 - distr.cdf(abs(z_value))) * 2\n",
    "        print('{} p-значение: {}'.format(event_for_groups['event'][i], p_value))\n",
    "        if (p_value < alpha):\n",
    "            print(\"Отвергаем нулевую гипотезу: значимые различия в долях пользователей есть\")\n",
    "        else:\n",
    "            print(\"Не отвергаем нулевую гипотезу: значимых различий в долях пользователей нет\")"
   ]
  },
  {
   "cell_type": "code",
   "execution_count": null,
   "metadata": {},
   "outputs": [],
   "source": [
    "z_test(\"A\", \"AA\", 0.05)"
   ]
  },
  {
   "cell_type": "code",
   "execution_count": null,
   "metadata": {},
   "outputs": [],
   "source": [
    "# проведем проверку со значением alpha = 0.01 (1%), чтобы убедиться в правильности эксперемента, \n",
    "# поскольку группы A и AA очень близки по значениям\n",
    "z_test(\"A\", \"AA\", 0.01)"
   ]
  },
  {
   "attachments": {},
   "cell_type": "markdown",
   "metadata": {},
   "source": [
    "**Вывод**    \n",
    "Таким образом, можно сделать вывод, что тест и разбиение на группы было выполнено корректно. Статистически значимых различий в долях пользователей на каждом виде событий нет. Группы A и AA можно обе считать контрольными."
   ]
  },
  {
   "cell_type": "code",
   "execution_count": null,
   "metadata": {},
   "outputs": [],
   "source": [
    "z_test(\"A\", \"B\", 0.05)"
   ]
  },
  {
   "attachments": {},
   "cell_type": "markdown",
   "metadata": {},
   "source": [
    "**Вывод**    \n",
    "Значимых различий в долях пользователей между контрольной группой A (246) и экспериментальной группой B (248) нет."
   ]
  },
  {
   "cell_type": "code",
   "execution_count": null,
   "metadata": {},
   "outputs": [],
   "source": [
    "z_test(\"AA\", \"B\", 0.05)"
   ]
  },
  {
   "attachments": {},
   "cell_type": "markdown",
   "metadata": {},
   "source": [
    "**Вывод**    \n",
    "Значимых различий в долях пользователей между контрольной группой AA (247) и экспериментальной группой B (248) нет."
   ]
  },
  {
   "cell_type": "code",
   "execution_count": null,
   "metadata": {},
   "outputs": [],
   "source": [
    "z_test(\"A+AA\", \"B\", 0.05)"
   ]
  },
  {
   "attachments": {},
   "cell_type": "markdown",
   "metadata": {},
   "source": [
    "**Вывод**    \n",
    "Значимых различий в долях пользователей между объединённой контрольной группой A+AA (246+247) и экспериментальной группой B (248) нет."
   ]
  },
  {
   "attachments": {},
   "cell_type": "markdown",
   "metadata": {},
   "source": [
    "### Вывод по результатам теста <a id=\"rez_test\"></a> "
   ]
  },
  {
   "attachments": {},
   "cell_type": "markdown",
   "metadata": {},
   "source": [
    "Было проведено 16 проверок:  \n",
    "* 8 проверок между контрольными группами A (246), AA (247) и экспериментальной группой B (248);  \n",
    "* 4 проверки между объединённой контрольной группой A+AA (246+247) и экспериментальной группой B (248);  \n",
    "* 4 проверки между контрольными группами A (246) и AA (247).  \n",
    "  \n",
    "Для сравнения контрольных групп A и AA (246 и 247 соответственно) были использованы оба уровня статистической значимости (и 5% и 1%). Однако нулевую гипотезу так и не удалось отвергнуть.  \n",
    "При проведении теста контрольных групп, объединенной контрольной группы и экспериментальной группы был использован уровень статистической значимости — 5%. Однако при проведении тестов, также не удалось отвергнуть нулевую гипотезу, следовательно, смена шрифта никак не повлияла на пользователей.  \n",
    "Т.е. по результатам теста: новые шрифты не вызовут негативных изменений в поведении пользователей."
   ]
  },
  {
   "attachments": {},
   "cell_type": "markdown",
   "metadata": {},
   "source": [
    "## Общий вывод <a id=\"done\"></a> "
   ]
  },
  {
   "attachments": {},
   "cell_type": "markdown",
   "metadata": {},
   "source": [
    "При проведении исследования были выполнены поставленные задачи:\n",
    "\n",
    "* обработаны и подготовлены данные для проведения анализа.\n",
    "* исследованы и проверены данные для исследования.\n",
    "* изучена воронка событий.\n",
    "* проанализированы результаты теста.  \n",
    "* проанализированы самые прибыльные жанры игр.  \n",
    "* принято решение о необходимости смены шрифтов во всём приложении по результатам теста.  \n",
    "  \n",
    " \n",
    "* Для удобства проведения исследвоания численные наименования групп были заменены на буквенные: контрольные группы A, AA, а эксперементальная — B.  \n",
    "* В начале исследования был определен промежуток исследования в период около двух недель (минимальная дата теста 25 июля 2019 года, а максимальная дата — 7 августа 2019 года). Однако, на основании графиков, был сделан вывод, что полные данные начинаются с 1 августа 2019 года (поскольку до 1 августа 2019 года тенденция неустойчивая и рост событий приходится на промежуток 31 июля 2019 - 1 августа 2019). Такая ситуация могла сложиться из-за того, что события не фиксировались, возможно, была какая-то ошибка. Таким образом, минимальная дата теста 1 августа 2019 года, а максимальная дата — 7 августа 2019 года. Мы располагаем данными за перод 6 дней.  \n",
    "* Наиболее часто встречающееся событие — «MainScreenAppear» (доля пользователей 98.25% совершили действие) т.е появление главного экрана, а наименее популярное — «Tutorial» т.е. руководство пользователя.  \n",
    "* Цепочка действий пользователя: сначала пользователь открывает приложение («MainScreenAppear»), затем страницу необходимого товара («OffersScreenAppear»). После этого пользователь добавляет товар в корзину («CartScreenAppear») и оплачивает («PaymentScreenSuccessful»). В самую последнюю очередь пользователь открывает руководство пользователя («Tutorial»).   \n",
    "* Руководство пользователя («Tutorial»), в которое пользователи заходят по итогу всех действий, является нелогичным завершением действий пользователя, поскольку в данный раздел пользователи зашли бы, скорее, перед покупкой. Данное событие было исклбчено из вронки событий. \n",
    "* Больше всего пользователей теряется на этапе перехода с главного экрана в каталог товаров. Если учитывать переход на страницу «Tutorial» (Руководство пользователя), то данная позиция была бы лидирующей по данному критерию — 76.26%.  \n",
    "* Меньше половины пользователей первый раз посетивших приложение перешли на страницу оплаты — 47.7%.  \n",
    "* Было проведено 16 проверок гипотез (включая проверку контрольных групп и объединенной контрольной группы с эксперементальной).  \n",
    "* При проведении тестов, не удалось отвергнуть нулевую гипотезу, следовательно, новые шрифты не вызовут негативных изменений в поведении пользователей."
   ]
  }
 ],
 "metadata": {
  "ExecuteTimeLog": [
   {
    "duration": 3928,
    "start_time": "2023-05-22T16:48:48.479Z"
   },
   {
    "duration": 904,
    "start_time": "2023-05-22T16:48:52.409Z"
   },
   {
    "duration": 4,
    "start_time": "2023-05-22T16:49:04.832Z"
   },
   {
    "duration": 5,
    "start_time": "2023-05-22T16:57:08.498Z"
   },
   {
    "duration": 238,
    "start_time": "2023-05-22T16:57:09.978Z"
   },
   {
    "duration": 4,
    "start_time": "2023-05-22T16:57:17.253Z"
   },
   {
    "duration": 335,
    "start_time": "2023-05-22T16:57:17.724Z"
   },
   {
    "duration": 3,
    "start_time": "2023-05-22T16:57:18.140Z"
   },
   {
    "duration": 5,
    "start_time": "2023-05-22T16:57:19.089Z"
   },
   {
    "duration": 74,
    "start_time": "2023-05-22T16:57:49.500Z"
   },
   {
    "duration": 74,
    "start_time": "2023-05-22T16:57:56.640Z"
   },
   {
    "duration": 76,
    "start_time": "2023-05-22T17:01:28.732Z"
   },
   {
    "duration": 279,
    "start_time": "2023-05-22T17:01:33.442Z"
   },
   {
    "duration": 2,
    "start_time": "2023-05-22T17:01:36.148Z"
   },
   {
    "duration": 4,
    "start_time": "2023-05-22T17:01:36.893Z"
   },
   {
    "duration": 238,
    "start_time": "2023-05-22T17:01:38.249Z"
   },
   {
    "duration": 277,
    "start_time": "2023-05-22T17:01:47.548Z"
   },
   {
    "duration": 2,
    "start_time": "2023-05-22T17:01:47.827Z"
   },
   {
    "duration": 6,
    "start_time": "2023-05-22T17:01:48.093Z"
   },
   {
    "duration": 185,
    "start_time": "2023-05-22T17:01:49.544Z"
   },
   {
    "duration": 169,
    "start_time": "2023-05-22T17:02:11.677Z"
   },
   {
    "duration": 2,
    "start_time": "2023-05-22T17:02:12.048Z"
   },
   {
    "duration": 5,
    "start_time": "2023-05-22T17:02:12.880Z"
   },
   {
    "duration": 142,
    "start_time": "2023-05-22T17:02:14.266Z"
   },
   {
    "duration": 6,
    "start_time": "2023-05-22T17:02:44.700Z"
   },
   {
    "duration": 137,
    "start_time": "2023-05-22T17:02:45.277Z"
   },
   {
    "duration": 6,
    "start_time": "2023-05-22T17:03:23.190Z"
   },
   {
    "duration": 111,
    "start_time": "2023-05-22T17:03:23.865Z"
   },
   {
    "duration": 1397,
    "start_time": "2023-05-23T13:13:27.153Z"
   },
   {
    "duration": 720,
    "start_time": "2023-05-23T13:13:28.552Z"
   },
   {
    "duration": 5,
    "start_time": "2023-05-23T13:13:29.273Z"
   },
   {
    "duration": 118,
    "start_time": "2023-05-23T13:13:29.280Z"
   },
   {
    "duration": 109,
    "start_time": "2023-05-23T13:13:29.400Z"
   },
   {
    "duration": 12,
    "start_time": "2023-05-23T13:13:41.633Z"
   },
   {
    "duration": 5,
    "start_time": "2023-05-23T13:15:54.532Z"
   },
   {
    "duration": 112,
    "start_time": "2023-05-23T13:15:55.239Z"
   },
   {
    "duration": 3,
    "start_time": "2023-05-23T13:24:41.403Z"
   },
   {
    "duration": 154,
    "start_time": "2023-05-23T13:24:41.408Z"
   },
   {
    "duration": 5,
    "start_time": "2023-05-23T13:24:41.563Z"
   },
   {
    "duration": 117,
    "start_time": "2023-05-23T13:24:41.569Z"
   },
   {
    "duration": 8,
    "start_time": "2023-05-23T13:24:41.689Z"
   },
   {
    "duration": 5,
    "start_time": "2023-05-23T13:24:41.699Z"
   },
   {
    "duration": 4,
    "start_time": "2023-05-23T13:25:57.201Z"
   },
   {
    "duration": 37,
    "start_time": "2023-05-23T13:25:57.826Z"
   },
   {
    "duration": 5,
    "start_time": "2023-05-23T13:28:49.870Z"
   },
   {
    "duration": 111,
    "start_time": "2023-05-23T13:28:50.320Z"
   },
   {
    "duration": 5,
    "start_time": "2023-05-23T13:37:01.879Z"
   },
   {
    "duration": 88,
    "start_time": "2023-05-23T13:37:02.171Z"
   },
   {
    "duration": 5,
    "start_time": "2023-05-23T13:44:17.924Z"
   },
   {
    "duration": 9,
    "start_time": "2023-05-23T13:44:18.501Z"
   },
   {
    "duration": 2023,
    "start_time": "2023-05-23T13:45:25.575Z"
   },
   {
    "duration": 8,
    "start_time": "2023-05-23T13:46:24.320Z"
   },
   {
    "duration": 13,
    "start_time": "2023-05-23T13:48:48.096Z"
   },
   {
    "duration": 13,
    "start_time": "2023-05-23T13:48:56.041Z"
   },
   {
    "duration": 19,
    "start_time": "2023-05-23T13:49:06.466Z"
   },
   {
    "duration": 9,
    "start_time": "2023-05-23T13:49:07.367Z"
   },
   {
    "duration": 76,
    "start_time": "2023-05-23T13:49:27.272Z"
   },
   {
    "duration": 11,
    "start_time": "2023-05-23T13:49:27.469Z"
   },
   {
    "duration": 38,
    "start_time": "2023-05-23T13:49:35.205Z"
   },
   {
    "duration": 11,
    "start_time": "2023-05-23T13:49:35.621Z"
   },
   {
    "duration": 27,
    "start_time": "2023-05-23T13:49:40.764Z"
   },
   {
    "duration": 10,
    "start_time": "2023-05-23T13:49:41.487Z"
   },
   {
    "duration": 4,
    "start_time": "2023-05-23T13:49:44.490Z"
   },
   {
    "duration": 181,
    "start_time": "2023-05-23T13:49:44.497Z"
   },
   {
    "duration": 5,
    "start_time": "2023-05-23T13:49:44.680Z"
   },
   {
    "duration": 125,
    "start_time": "2023-05-23T13:49:44.687Z"
   },
   {
    "duration": 6,
    "start_time": "2023-05-23T13:49:44.813Z"
   },
   {
    "duration": 1937,
    "start_time": "2023-05-23T13:49:44.821Z"
   },
   {
    "duration": 41,
    "start_time": "2023-05-23T13:49:46.760Z"
   },
   {
    "duration": 9,
    "start_time": "2023-05-23T13:49:46.802Z"
   },
   {
    "duration": 184,
    "start_time": "2023-05-23T13:52:02.718Z"
   },
   {
    "duration": 6,
    "start_time": "2023-05-23T13:53:19.868Z"
   },
   {
    "duration": 12,
    "start_time": "2023-05-23T13:53:20.511Z"
   },
   {
    "duration": 7,
    "start_time": "2023-05-23T13:53:31.453Z"
   },
   {
    "duration": 166,
    "start_time": "2023-05-23T13:53:31.463Z"
   },
   {
    "duration": 4,
    "start_time": "2023-05-23T13:53:31.631Z"
   },
   {
    "duration": 118,
    "start_time": "2023-05-23T13:53:31.638Z"
   },
   {
    "duration": 13,
    "start_time": "2023-05-23T13:53:31.760Z"
   },
   {
    "duration": 2020,
    "start_time": "2023-05-23T13:53:31.776Z"
   },
   {
    "duration": 6,
    "start_time": "2023-05-23T13:53:33.798Z"
   },
   {
    "duration": 22,
    "start_time": "2023-05-23T13:53:33.806Z"
   },
   {
    "duration": 167,
    "start_time": "2023-05-23T13:53:33.829Z"
   },
   {
    "duration": 46,
    "start_time": "2023-05-23T13:55:46.740Z"
   },
   {
    "duration": 6,
    "start_time": "2023-05-23T13:58:12.169Z"
   },
   {
    "duration": 70,
    "start_time": "2023-05-23T13:58:55.349Z"
   },
   {
    "duration": 13,
    "start_time": "2023-05-23T13:59:02.702Z"
   },
   {
    "duration": 31,
    "start_time": "2023-05-23T14:00:03.096Z"
   },
   {
    "duration": 10,
    "start_time": "2023-05-23T14:01:12.743Z"
   },
   {
    "duration": 42,
    "start_time": "2023-05-23T14:01:19.202Z"
   },
   {
    "duration": 48,
    "start_time": "2023-05-23T14:03:19.257Z"
   },
   {
    "duration": 32,
    "start_time": "2023-05-23T14:03:24.117Z"
   },
   {
    "duration": 25,
    "start_time": "2023-05-23T14:03:39.190Z"
   },
   {
    "duration": 4,
    "start_time": "2023-05-23T14:18:04.352Z"
   },
   {
    "duration": 169,
    "start_time": "2023-05-23T14:18:04.358Z"
   },
   {
    "duration": 4,
    "start_time": "2023-05-23T14:18:04.528Z"
   },
   {
    "duration": 90,
    "start_time": "2023-05-23T14:18:04.533Z"
   },
   {
    "duration": 25,
    "start_time": "2023-05-23T14:18:04.625Z"
   },
   {
    "duration": 1831,
    "start_time": "2023-05-23T14:18:04.653Z"
   },
   {
    "duration": 11,
    "start_time": "2023-05-23T14:18:06.485Z"
   },
   {
    "duration": 12,
    "start_time": "2023-05-23T14:18:06.497Z"
   },
   {
    "duration": 177,
    "start_time": "2023-05-23T14:18:06.510Z"
   },
   {
    "duration": 7,
    "start_time": "2023-05-23T14:18:06.688Z"
   },
   {
    "duration": 84,
    "start_time": "2023-05-23T14:18:06.697Z"
   },
   {
    "duration": 10,
    "start_time": "2023-05-23T14:18:06.783Z"
   },
   {
    "duration": 31,
    "start_time": "2023-05-23T14:18:06.795Z"
   },
   {
    "duration": 61,
    "start_time": "2023-05-23T14:18:06.828Z"
   },
   {
    "duration": 26,
    "start_time": "2023-05-23T14:18:06.891Z"
   },
   {
    "duration": 7,
    "start_time": "2023-05-23T14:24:14.998Z"
   },
   {
    "duration": 3520,
    "start_time": "2023-05-23T14:24:18.607Z"
   },
   {
    "duration": 3,
    "start_time": "2023-05-23T14:24:28.713Z"
   },
   {
    "duration": 145,
    "start_time": "2023-05-23T14:24:28.718Z"
   },
   {
    "duration": 4,
    "start_time": "2023-05-23T14:24:28.865Z"
   },
   {
    "duration": 102,
    "start_time": "2023-05-23T14:24:28.871Z"
   },
   {
    "duration": 5,
    "start_time": "2023-05-23T14:24:28.974Z"
   },
   {
    "duration": 1820,
    "start_time": "2023-05-23T14:24:28.980Z"
   },
   {
    "duration": 7,
    "start_time": "2023-05-23T14:24:30.802Z"
   },
   {
    "duration": 51,
    "start_time": "2023-05-23T14:24:30.810Z"
   },
   {
    "duration": 159,
    "start_time": "2023-05-23T14:24:30.863Z"
   },
   {
    "duration": 1122,
    "start_time": "2023-05-23T14:24:31.025Z"
   },
   {
    "duration": 0,
    "start_time": "2023-05-23T14:24:32.149Z"
   },
   {
    "duration": 0,
    "start_time": "2023-05-23T14:24:32.150Z"
   },
   {
    "duration": 0,
    "start_time": "2023-05-23T14:24:32.151Z"
   },
   {
    "duration": 0,
    "start_time": "2023-05-23T14:24:32.152Z"
   },
   {
    "duration": 0,
    "start_time": "2023-05-23T14:24:32.153Z"
   },
   {
    "duration": 7,
    "start_time": "2023-05-23T14:24:49.224Z"
   },
   {
    "duration": 75,
    "start_time": "2023-05-23T14:24:51.885Z"
   },
   {
    "duration": 11,
    "start_time": "2023-05-23T14:24:53.121Z"
   },
   {
    "duration": 42,
    "start_time": "2023-05-23T14:24:56.125Z"
   },
   {
    "duration": 46,
    "start_time": "2023-05-23T14:25:02.343Z"
   },
   {
    "duration": 27,
    "start_time": "2023-05-23T14:25:02.954Z"
   },
   {
    "duration": 22,
    "start_time": "2023-05-23T16:54:16.050Z"
   },
   {
    "duration": 3,
    "start_time": "2023-05-23T16:54:40.576Z"
   },
   {
    "duration": 14,
    "start_time": "2023-05-23T16:54:41.176Z"
   },
   {
    "duration": 6,
    "start_time": "2023-05-23T17:07:45.373Z"
   },
   {
    "duration": 5,
    "start_time": "2023-05-23T17:28:07.873Z"
   },
   {
    "duration": 33,
    "start_time": "2023-05-23T17:30:49.165Z"
   },
   {
    "duration": 3664,
    "start_time": "2023-05-23T17:31:31.445Z"
   },
   {
    "duration": 7,
    "start_time": "2023-05-23T17:31:35.111Z"
   },
   {
    "duration": 3,
    "start_time": "2023-05-23T17:31:45.121Z"
   },
   {
    "duration": 145,
    "start_time": "2023-05-23T17:31:45.125Z"
   },
   {
    "duration": 4,
    "start_time": "2023-05-23T17:31:45.271Z"
   },
   {
    "duration": 105,
    "start_time": "2023-05-23T17:31:45.277Z"
   },
   {
    "duration": 5,
    "start_time": "2023-05-23T17:31:45.384Z"
   },
   {
    "duration": 1763,
    "start_time": "2023-05-23T17:31:45.391Z"
   },
   {
    "duration": 5,
    "start_time": "2023-05-23T17:31:47.156Z"
   },
   {
    "duration": 7,
    "start_time": "2023-05-23T17:31:47.162Z"
   },
   {
    "duration": 147,
    "start_time": "2023-05-23T17:31:47.171Z"
   },
   {
    "duration": 6,
    "start_time": "2023-05-23T17:31:47.319Z"
   },
   {
    "duration": 83,
    "start_time": "2023-05-23T17:31:47.327Z"
   },
   {
    "duration": 10,
    "start_time": "2023-05-23T17:31:47.411Z"
   },
   {
    "duration": 44,
    "start_time": "2023-05-23T17:31:47.425Z"
   },
   {
    "duration": 46,
    "start_time": "2023-05-23T17:31:47.470Z"
   },
   {
    "duration": 49,
    "start_time": "2023-05-23T17:31:47.518Z"
   },
   {
    "duration": 21,
    "start_time": "2023-05-23T17:31:47.569Z"
   },
   {
    "duration": 15,
    "start_time": "2023-05-23T17:31:47.592Z"
   },
   {
    "duration": 6,
    "start_time": "2023-05-23T17:31:47.609Z"
   },
   {
    "duration": 47,
    "start_time": "2023-05-23T17:31:47.617Z"
   },
   {
    "duration": 33,
    "start_time": "2023-05-23T17:31:47.666Z"
   },
   {
    "duration": 84,
    "start_time": "2023-05-23T17:33:05.492Z"
   },
   {
    "duration": 12,
    "start_time": "2023-05-23T17:33:17.008Z"
   },
   {
    "duration": 29,
    "start_time": "2023-05-23T17:34:25.872Z"
   },
   {
    "duration": 3,
    "start_time": "2023-05-23T17:36:55.205Z"
   },
   {
    "duration": 14,
    "start_time": "2023-05-23T17:36:55.654Z"
   },
   {
    "duration": 35,
    "start_time": "2023-05-23T17:37:07.812Z"
   },
   {
    "duration": 37,
    "start_time": "2023-05-23T17:38:41.878Z"
   },
   {
    "duration": 36,
    "start_time": "2023-05-23T17:38:51.012Z"
   },
   {
    "duration": 20,
    "start_time": "2023-05-23T17:38:57.970Z"
   },
   {
    "duration": 20,
    "start_time": "2023-05-23T17:39:27.916Z"
   },
   {
    "duration": 36,
    "start_time": "2023-05-23T17:39:46.564Z"
   },
   {
    "duration": 38,
    "start_time": "2023-05-23T17:40:41.280Z"
   },
   {
    "duration": 43,
    "start_time": "2023-05-23T17:41:04.388Z"
   },
   {
    "duration": 40,
    "start_time": "2023-05-23T17:42:13.364Z"
   },
   {
    "duration": 96,
    "start_time": "2023-05-23T17:42:54.766Z"
   },
   {
    "duration": 50,
    "start_time": "2023-05-23T17:43:09.224Z"
   },
   {
    "duration": 44,
    "start_time": "2023-05-23T17:43:25.316Z"
   },
   {
    "duration": 43,
    "start_time": "2023-05-23T17:43:53.918Z"
   },
   {
    "duration": 50,
    "start_time": "2023-05-23T17:44:11.428Z"
   },
   {
    "duration": 58,
    "start_time": "2023-05-23T17:44:28.305Z"
   },
   {
    "duration": 23,
    "start_time": "2023-05-23T17:49:53.356Z"
   },
   {
    "duration": 45,
    "start_time": "2023-05-23T17:50:28.567Z"
   },
   {
    "duration": 56,
    "start_time": "2023-05-23T17:51:27.108Z"
   },
   {
    "duration": 49,
    "start_time": "2023-05-23T17:54:25.680Z"
   },
   {
    "duration": 52,
    "start_time": "2023-05-23T17:55:34.936Z"
   },
   {
    "duration": 48,
    "start_time": "2023-05-23T17:56:22.252Z"
   },
   {
    "duration": 45,
    "start_time": "2023-05-23T17:56:34.558Z"
   },
   {
    "duration": 51,
    "start_time": "2023-05-23T17:56:45.619Z"
   },
   {
    "duration": 20,
    "start_time": "2023-05-23T17:57:07.387Z"
   },
   {
    "duration": 45,
    "start_time": "2023-05-23T17:57:09.184Z"
   },
   {
    "duration": 7,
    "start_time": "2023-05-23T17:58:06.915Z"
   },
   {
    "duration": 1189,
    "start_time": "2023-05-23T20:22:03.120Z"
   },
   {
    "duration": 480,
    "start_time": "2023-05-23T20:22:04.311Z"
   },
   {
    "duration": 4,
    "start_time": "2023-05-23T20:22:04.792Z"
   },
   {
    "duration": 96,
    "start_time": "2023-05-23T20:22:04.798Z"
   },
   {
    "duration": 8,
    "start_time": "2023-05-23T20:22:04.896Z"
   },
   {
    "duration": 1724,
    "start_time": "2023-05-23T20:22:04.905Z"
   },
   {
    "duration": 4,
    "start_time": "2023-05-23T20:22:06.631Z"
   },
   {
    "duration": 13,
    "start_time": "2023-05-23T20:22:06.637Z"
   },
   {
    "duration": 137,
    "start_time": "2023-05-23T20:22:06.651Z"
   },
   {
    "duration": 5,
    "start_time": "2023-05-23T20:22:06.791Z"
   },
   {
    "duration": 61,
    "start_time": "2023-05-23T20:22:06.797Z"
   },
   {
    "duration": 18,
    "start_time": "2023-05-23T20:22:06.859Z"
   },
   {
    "duration": 29,
    "start_time": "2023-05-23T20:22:06.878Z"
   },
   {
    "duration": 39,
    "start_time": "2023-05-23T20:22:06.908Z"
   },
   {
    "duration": 36,
    "start_time": "2023-05-23T20:22:06.948Z"
   },
   {
    "duration": 23,
    "start_time": "2023-05-23T20:22:06.986Z"
   },
   {
    "duration": 63,
    "start_time": "2023-05-23T20:22:07.011Z"
   },
   {
    "duration": 61,
    "start_time": "2023-05-23T20:22:07.076Z"
   },
   {
    "duration": 40,
    "start_time": "2023-05-23T20:22:07.138Z"
   },
   {
    "duration": 30,
    "start_time": "2023-05-23T20:22:07.179Z"
   },
   {
    "duration": 28,
    "start_time": "2023-05-23T20:22:07.211Z"
   },
   {
    "duration": 18,
    "start_time": "2023-05-23T20:22:07.240Z"
   },
   {
    "duration": 59,
    "start_time": "2023-05-23T20:22:07.259Z"
   },
   {
    "duration": 6,
    "start_time": "2023-05-23T20:22:07.319Z"
   },
   {
    "duration": 4,
    "start_time": "2023-05-23T20:22:07.327Z"
   },
   {
    "duration": 15,
    "start_time": "2023-05-23T20:26:42.190Z"
   },
   {
    "duration": 17,
    "start_time": "2023-05-23T20:28:58.750Z"
   },
   {
    "duration": 399,
    "start_time": "2023-05-23T20:39:31.637Z"
   },
   {
    "duration": 171,
    "start_time": "2023-05-23T20:40:16.553Z"
   },
   {
    "duration": 235,
    "start_time": "2023-05-23T20:40:20.677Z"
   },
   {
    "duration": 18,
    "start_time": "2023-05-23T20:42:59.744Z"
   },
   {
    "duration": 8,
    "start_time": "2023-05-23T20:45:54.449Z"
   },
   {
    "duration": 19,
    "start_time": "2023-05-23T20:46:09.740Z"
   },
   {
    "duration": 989,
    "start_time": "2023-05-23T20:49:19.354Z"
   },
   {
    "duration": 136,
    "start_time": "2023-05-23T20:49:20.344Z"
   },
   {
    "duration": 4,
    "start_time": "2023-05-23T20:49:20.482Z"
   },
   {
    "duration": 98,
    "start_time": "2023-05-23T20:49:20.488Z"
   },
   {
    "duration": 7,
    "start_time": "2023-05-23T20:49:20.588Z"
   },
   {
    "duration": 1626,
    "start_time": "2023-05-23T20:49:20.596Z"
   },
   {
    "duration": 4,
    "start_time": "2023-05-23T20:49:22.224Z"
   },
   {
    "duration": 11,
    "start_time": "2023-05-23T20:49:22.230Z"
   },
   {
    "duration": 136,
    "start_time": "2023-05-23T20:49:22.242Z"
   },
   {
    "duration": 7,
    "start_time": "2023-05-23T20:49:22.387Z"
   },
   {
    "duration": 56,
    "start_time": "2023-05-23T20:49:22.395Z"
   },
   {
    "duration": 8,
    "start_time": "2023-05-23T20:49:22.453Z"
   },
   {
    "duration": 44,
    "start_time": "2023-05-23T20:49:22.462Z"
   },
   {
    "duration": 39,
    "start_time": "2023-05-23T20:49:22.507Z"
   },
   {
    "duration": 26,
    "start_time": "2023-05-23T20:49:22.547Z"
   },
   {
    "duration": 3,
    "start_time": "2023-05-23T20:49:22.585Z"
   },
   {
    "duration": 22,
    "start_time": "2023-05-23T20:49:22.589Z"
   },
   {
    "duration": 36,
    "start_time": "2023-05-23T20:49:22.612Z"
   },
   {
    "duration": 48,
    "start_time": "2023-05-23T20:49:22.650Z"
   },
   {
    "duration": 30,
    "start_time": "2023-05-23T20:49:22.699Z"
   },
   {
    "duration": 27,
    "start_time": "2023-05-23T20:49:22.731Z"
   },
   {
    "duration": 33,
    "start_time": "2023-05-23T20:49:22.760Z"
   },
   {
    "duration": 48,
    "start_time": "2023-05-23T20:49:22.795Z"
   },
   {
    "duration": 7,
    "start_time": "2023-05-23T20:49:22.844Z"
   },
   {
    "duration": 37,
    "start_time": "2023-05-23T20:49:22.852Z"
   },
   {
    "duration": 111,
    "start_time": "2023-05-23T20:49:22.892Z"
   },
   {
    "duration": 0,
    "start_time": "2023-05-23T20:49:23.005Z"
   },
   {
    "duration": 0,
    "start_time": "2023-05-23T20:49:23.006Z"
   },
   {
    "duration": 0,
    "start_time": "2023-05-23T20:49:23.007Z"
   },
   {
    "duration": 0,
    "start_time": "2023-05-23T20:49:23.008Z"
   },
   {
    "duration": 5602,
    "start_time": "2023-05-23T20:49:34.963Z"
   },
   {
    "duration": 5,
    "start_time": "2023-05-23T20:50:47.393Z"
   },
   {
    "duration": 5,
    "start_time": "2023-05-23T20:52:22.030Z"
   },
   {
    "duration": 6,
    "start_time": "2023-05-23T20:52:39.238Z"
   },
   {
    "duration": 678,
    "start_time": "2023-05-23T20:53:47.202Z"
   },
   {
    "duration": 12,
    "start_time": "2023-05-23T20:54:09.634Z"
   },
   {
    "duration": 11,
    "start_time": "2023-05-23T20:55:38.669Z"
   },
   {
    "duration": 6,
    "start_time": "2023-05-23T20:55:46.841Z"
   },
   {
    "duration": 11,
    "start_time": "2023-05-23T20:56:04.303Z"
   },
   {
    "duration": 11,
    "start_time": "2023-05-23T20:56:12.305Z"
   },
   {
    "duration": 7,
    "start_time": "2023-05-23T20:57:08.457Z"
   },
   {
    "duration": 1290,
    "start_time": "2023-05-24T17:31:21.789Z"
   },
   {
    "duration": 702,
    "start_time": "2023-05-24T17:31:23.080Z"
   },
   {
    "duration": 4,
    "start_time": "2023-05-24T17:31:23.783Z"
   },
   {
    "duration": 89,
    "start_time": "2023-05-24T17:31:23.789Z"
   },
   {
    "duration": 9,
    "start_time": "2023-05-24T17:31:23.880Z"
   },
   {
    "duration": 1642,
    "start_time": "2023-05-24T17:31:23.891Z"
   },
   {
    "duration": 5,
    "start_time": "2023-05-24T17:31:25.534Z"
   },
   {
    "duration": 12,
    "start_time": "2023-05-24T17:31:25.540Z"
   },
   {
    "duration": 141,
    "start_time": "2023-05-24T17:31:25.553Z"
   },
   {
    "duration": 13,
    "start_time": "2023-05-24T17:31:25.695Z"
   },
   {
    "duration": 68,
    "start_time": "2023-05-24T17:31:25.709Z"
   },
   {
    "duration": 9,
    "start_time": "2023-05-24T17:31:25.778Z"
   },
   {
    "duration": 30,
    "start_time": "2023-05-24T17:31:25.806Z"
   },
   {
    "duration": 42,
    "start_time": "2023-05-24T17:31:25.839Z"
   },
   {
    "duration": 40,
    "start_time": "2023-05-24T17:31:25.882Z"
   },
   {
    "duration": 3,
    "start_time": "2023-05-24T17:31:25.923Z"
   },
   {
    "duration": 28,
    "start_time": "2023-05-24T17:31:25.928Z"
   },
   {
    "duration": 33,
    "start_time": "2023-05-24T17:31:25.957Z"
   },
   {
    "duration": 50,
    "start_time": "2023-05-24T17:31:25.992Z"
   },
   {
    "duration": 30,
    "start_time": "2023-05-24T17:31:26.044Z"
   },
   {
    "duration": 46,
    "start_time": "2023-05-24T17:31:26.076Z"
   },
   {
    "duration": 20,
    "start_time": "2023-05-24T17:31:26.124Z"
   },
   {
    "duration": 68,
    "start_time": "2023-05-24T17:31:26.146Z"
   },
   {
    "duration": 7,
    "start_time": "2023-05-24T17:31:26.216Z"
   },
   {
    "duration": 18,
    "start_time": "2023-05-24T17:31:26.224Z"
   },
   {
    "duration": 7,
    "start_time": "2023-05-24T17:31:26.244Z"
   },
   {
    "duration": 5,
    "start_time": "2023-05-24T17:32:35.266Z"
   },
   {
    "duration": 6,
    "start_time": "2023-05-24T17:32:47.265Z"
   },
   {
    "duration": 88,
    "start_time": "2023-05-24T17:32:53.757Z"
   },
   {
    "duration": 7,
    "start_time": "2023-05-24T17:32:58.606Z"
   },
   {
    "duration": 443,
    "start_time": "2023-05-24T18:12:54.147Z"
   },
   {
    "duration": 750,
    "start_time": "2023-05-24T18:13:06.829Z"
   },
   {
    "duration": 1186,
    "start_time": "2023-05-24T18:13:17.077Z"
   },
   {
    "duration": 26,
    "start_time": "2023-05-24T18:13:56.098Z"
   },
   {
    "duration": 375,
    "start_time": "2023-05-24T18:17:21.053Z"
   },
   {
    "duration": 193,
    "start_time": "2023-05-24T18:17:28.753Z"
   },
   {
    "duration": 215,
    "start_time": "2023-05-24T18:21:36.466Z"
   },
   {
    "duration": 362,
    "start_time": "2023-05-24T18:21:40.461Z"
   },
   {
    "duration": 239,
    "start_time": "2023-05-24T18:21:43.056Z"
   },
   {
    "duration": 311,
    "start_time": "2023-05-24T18:21:47.672Z"
   },
   {
    "duration": 254,
    "start_time": "2023-05-24T19:29:12.408Z"
   },
   {
    "duration": 173,
    "start_time": "2023-05-24T19:30:33.195Z"
   },
   {
    "duration": 48,
    "start_time": "2023-05-24T19:37:25.607Z"
   },
   {
    "duration": 68,
    "start_time": "2023-05-24T19:38:59.311Z"
   },
   {
    "duration": 48,
    "start_time": "2023-05-24T19:40:25.755Z"
   },
   {
    "duration": 14,
    "start_time": "2023-05-24T19:41:47.300Z"
   },
   {
    "duration": 28,
    "start_time": "2023-05-24T19:41:52.826Z"
   },
   {
    "duration": 3,
    "start_time": "2023-05-24T19:42:05.721Z"
   },
   {
    "duration": 151,
    "start_time": "2023-05-24T19:42:05.726Z"
   },
   {
    "duration": 4,
    "start_time": "2023-05-24T19:42:05.878Z"
   },
   {
    "duration": 85,
    "start_time": "2023-05-24T19:42:05.883Z"
   },
   {
    "duration": 6,
    "start_time": "2023-05-24T19:42:05.970Z"
   },
   {
    "duration": 1760,
    "start_time": "2023-05-24T19:42:05.978Z"
   },
   {
    "duration": 5,
    "start_time": "2023-05-24T19:42:07.740Z"
   },
   {
    "duration": 8,
    "start_time": "2023-05-24T19:42:07.747Z"
   },
   {
    "duration": 153,
    "start_time": "2023-05-24T19:42:07.756Z"
   },
   {
    "duration": 7,
    "start_time": "2023-05-24T19:42:07.910Z"
   },
   {
    "duration": 70,
    "start_time": "2023-05-24T19:42:07.919Z"
   },
   {
    "duration": 25,
    "start_time": "2023-05-24T19:42:07.991Z"
   },
   {
    "duration": 38,
    "start_time": "2023-05-24T19:42:08.019Z"
   },
   {
    "duration": 63,
    "start_time": "2023-05-24T19:42:08.060Z"
   },
   {
    "duration": 24,
    "start_time": "2023-05-24T19:42:08.124Z"
   },
   {
    "duration": 2,
    "start_time": "2023-05-24T19:42:08.149Z"
   },
   {
    "duration": 17,
    "start_time": "2023-05-24T19:42:08.152Z"
   },
   {
    "duration": 59,
    "start_time": "2023-05-24T19:42:08.170Z"
   },
   {
    "duration": 39,
    "start_time": "2023-05-24T19:42:08.230Z"
   },
   {
    "duration": 45,
    "start_time": "2023-05-24T19:42:08.270Z"
   },
   {
    "duration": 27,
    "start_time": "2023-05-24T19:42:08.316Z"
   },
   {
    "duration": 18,
    "start_time": "2023-05-24T19:42:08.344Z"
   },
   {
    "duration": 60,
    "start_time": "2023-05-24T19:42:08.363Z"
   },
   {
    "duration": 8,
    "start_time": "2023-05-24T19:42:08.426Z"
   },
   {
    "duration": 18,
    "start_time": "2023-05-24T19:42:08.435Z"
   },
   {
    "duration": 6,
    "start_time": "2023-05-24T19:42:08.454Z"
   },
   {
    "duration": 202,
    "start_time": "2023-05-24T19:42:08.462Z"
   },
   {
    "duration": 20,
    "start_time": "2023-05-24T19:42:08.666Z"
   },
   {
    "duration": 2,
    "start_time": "2023-05-24T19:42:08.688Z"
   },
   {
    "duration": 39,
    "start_time": "2023-05-24T19:42:25.453Z"
   },
   {
    "duration": 29,
    "start_time": "2023-05-24T19:43:04.356Z"
   },
   {
    "duration": 28,
    "start_time": "2023-05-24T19:43:08.472Z"
   },
   {
    "duration": 208,
    "start_time": "2023-05-24T19:43:28.754Z"
   },
   {
    "duration": 197,
    "start_time": "2023-05-24T19:44:00.013Z"
   },
   {
    "duration": 6,
    "start_time": "2023-05-24T19:46:19.964Z"
   },
   {
    "duration": 178,
    "start_time": "2023-05-24T19:46:22.651Z"
   },
   {
    "duration": 30,
    "start_time": "2023-05-24T19:50:30.758Z"
   },
   {
    "duration": 6,
    "start_time": "2023-05-24T19:50:38.724Z"
   },
   {
    "duration": 218,
    "start_time": "2023-05-24T19:50:42.968Z"
   },
   {
    "duration": 10,
    "start_time": "2023-05-24T20:08:31.086Z"
   },
   {
    "duration": 10,
    "start_time": "2023-05-24T20:08:43.177Z"
   },
   {
    "duration": 3,
    "start_time": "2023-05-24T20:10:16.380Z"
   },
   {
    "duration": 137,
    "start_time": "2023-05-24T20:10:16.384Z"
   },
   {
    "duration": 4,
    "start_time": "2023-05-24T20:10:16.522Z"
   },
   {
    "duration": 102,
    "start_time": "2023-05-24T20:10:16.527Z"
   },
   {
    "duration": 7,
    "start_time": "2023-05-24T20:10:16.630Z"
   },
   {
    "duration": 1639,
    "start_time": "2023-05-24T20:10:16.639Z"
   },
   {
    "duration": 5,
    "start_time": "2023-05-24T20:10:18.279Z"
   },
   {
    "duration": 11,
    "start_time": "2023-05-24T20:10:18.285Z"
   },
   {
    "duration": 135,
    "start_time": "2023-05-24T20:10:18.307Z"
   },
   {
    "duration": 6,
    "start_time": "2023-05-24T20:10:18.443Z"
   },
   {
    "duration": 71,
    "start_time": "2023-05-24T20:10:18.451Z"
   },
   {
    "duration": 10,
    "start_time": "2023-05-24T20:10:18.523Z"
   },
   {
    "duration": 68,
    "start_time": "2023-05-24T20:10:18.535Z"
   },
   {
    "duration": 75,
    "start_time": "2023-05-24T20:10:18.606Z"
   },
   {
    "duration": 35,
    "start_time": "2023-05-24T20:10:18.683Z"
   },
   {
    "duration": 2,
    "start_time": "2023-05-24T20:10:18.720Z"
   },
   {
    "duration": 21,
    "start_time": "2023-05-24T20:10:18.723Z"
   },
   {
    "duration": 43,
    "start_time": "2023-05-24T20:10:18.746Z"
   },
   {
    "duration": 50,
    "start_time": "2023-05-24T20:10:18.791Z"
   },
   {
    "duration": 28,
    "start_time": "2023-05-24T20:10:18.843Z"
   },
   {
    "duration": 47,
    "start_time": "2023-05-24T20:10:18.873Z"
   },
   {
    "duration": 17,
    "start_time": "2023-05-24T20:10:18.922Z"
   },
   {
    "duration": 45,
    "start_time": "2023-05-24T20:10:18.941Z"
   },
   {
    "duration": 8,
    "start_time": "2023-05-24T20:10:19.008Z"
   },
   {
    "duration": 16,
    "start_time": "2023-05-24T20:10:19.017Z"
   },
   {
    "duration": 7,
    "start_time": "2023-05-24T20:10:19.034Z"
   },
   {
    "duration": 211,
    "start_time": "2023-05-24T20:10:19.042Z"
   },
   {
    "duration": 28,
    "start_time": "2023-05-24T20:10:19.255Z"
   },
   {
    "duration": 23,
    "start_time": "2023-05-24T20:10:19.284Z"
   },
   {
    "duration": 273,
    "start_time": "2023-05-24T20:10:19.308Z"
   },
   {
    "duration": 2,
    "start_time": "2023-05-24T20:10:19.582Z"
   },
   {
    "duration": 25,
    "start_time": "2023-05-24T20:10:19.586Z"
   },
   {
    "duration": 10,
    "start_time": "2023-05-24T20:11:32.252Z"
   },
   {
    "duration": 11,
    "start_time": "2023-05-24T20:13:39.405Z"
   },
   {
    "duration": 25,
    "start_time": "2023-05-24T20:18:15.962Z"
   },
   {
    "duration": 20,
    "start_time": "2023-05-24T20:18:37.402Z"
   },
   {
    "duration": 11,
    "start_time": "2023-05-24T20:18:44.953Z"
   },
   {
    "duration": 16,
    "start_time": "2023-05-24T20:18:52.621Z"
   },
   {
    "duration": 13,
    "start_time": "2023-05-24T20:19:52.488Z"
   },
   {
    "duration": 74,
    "start_time": "2023-05-24T20:22:52.904Z"
   },
   {
    "duration": 72,
    "start_time": "2023-05-24T20:23:15.755Z"
   },
   {
    "duration": 74,
    "start_time": "2023-05-24T20:25:20.172Z"
   },
   {
    "duration": 57,
    "start_time": "2023-05-24T20:25:25.945Z"
   },
   {
    "duration": 94,
    "start_time": "2023-05-24T20:25:43.096Z"
   },
   {
    "duration": 117,
    "start_time": "2023-05-24T20:26:24.100Z"
   },
   {
    "duration": 94,
    "start_time": "2023-05-24T20:26:30.248Z"
   },
   {
    "duration": 62,
    "start_time": "2023-05-24T20:27:01.641Z"
   },
   {
    "duration": 67,
    "start_time": "2023-05-24T20:27:05.370Z"
   },
   {
    "duration": 75,
    "start_time": "2023-05-24T20:27:09.948Z"
   },
   {
    "duration": 67,
    "start_time": "2023-05-24T20:27:18.478Z"
   },
   {
    "duration": 78,
    "start_time": "2023-05-24T20:27:22.046Z"
   },
   {
    "duration": 17,
    "start_time": "2023-05-24T20:27:53.849Z"
   },
   {
    "duration": 13,
    "start_time": "2023-05-24T20:28:11.347Z"
   },
   {
    "duration": 12,
    "start_time": "2023-05-24T20:30:20.447Z"
   },
   {
    "duration": 3,
    "start_time": "2023-05-24T20:31:38.480Z"
   },
   {
    "duration": 139,
    "start_time": "2023-05-24T20:31:38.485Z"
   },
   {
    "duration": 5,
    "start_time": "2023-05-24T20:31:38.626Z"
   },
   {
    "duration": 103,
    "start_time": "2023-05-24T20:31:38.634Z"
   },
   {
    "duration": 5,
    "start_time": "2023-05-24T20:31:38.738Z"
   },
   {
    "duration": 1649,
    "start_time": "2023-05-24T20:31:38.745Z"
   },
   {
    "duration": 13,
    "start_time": "2023-05-24T20:31:40.395Z"
   },
   {
    "duration": 11,
    "start_time": "2023-05-24T20:31:40.410Z"
   },
   {
    "duration": 114,
    "start_time": "2023-05-24T20:31:40.424Z"
   },
   {
    "duration": 6,
    "start_time": "2023-05-24T20:31:40.539Z"
   },
   {
    "duration": 79,
    "start_time": "2023-05-24T20:31:40.547Z"
   },
   {
    "duration": 14,
    "start_time": "2023-05-24T20:31:40.628Z"
   },
   {
    "duration": 31,
    "start_time": "2023-05-24T20:31:40.644Z"
   },
   {
    "duration": 48,
    "start_time": "2023-05-24T20:31:40.677Z"
   },
   {
    "duration": 22,
    "start_time": "2023-05-24T20:31:40.726Z"
   },
   {
    "duration": 2,
    "start_time": "2023-05-24T20:31:40.750Z"
   },
   {
    "duration": 28,
    "start_time": "2023-05-24T20:31:40.754Z"
   },
   {
    "duration": 44,
    "start_time": "2023-05-24T20:31:40.783Z"
   },
   {
    "duration": 38,
    "start_time": "2023-05-24T20:31:40.829Z"
   },
   {
    "duration": 41,
    "start_time": "2023-05-24T20:31:40.868Z"
   },
   {
    "duration": 25,
    "start_time": "2023-05-24T20:31:40.910Z"
   },
   {
    "duration": 18,
    "start_time": "2023-05-24T20:31:40.936Z"
   },
   {
    "duration": 65,
    "start_time": "2023-05-24T20:31:40.955Z"
   },
   {
    "duration": 7,
    "start_time": "2023-05-24T20:31:41.022Z"
   },
   {
    "duration": 16,
    "start_time": "2023-05-24T20:31:41.030Z"
   },
   {
    "duration": 6,
    "start_time": "2023-05-24T20:31:41.047Z"
   },
   {
    "duration": 202,
    "start_time": "2023-05-24T20:31:41.055Z"
   },
   {
    "duration": 28,
    "start_time": "2023-05-24T20:31:41.259Z"
   },
   {
    "duration": 21,
    "start_time": "2023-05-24T20:31:41.289Z"
   },
   {
    "duration": 170,
    "start_time": "2023-05-24T20:31:41.312Z"
   },
   {
    "duration": 64,
    "start_time": "2023-05-24T20:31:41.484Z"
   },
   {
    "duration": 11,
    "start_time": "2023-05-24T20:31:41.550Z"
   },
   {
    "duration": 20,
    "start_time": "2023-05-24T20:31:41.563Z"
   },
   {
    "duration": 4,
    "start_time": "2023-05-24T20:36:19.550Z"
   },
   {
    "duration": 3,
    "start_time": "2023-05-24T20:36:42.347Z"
   },
   {
    "duration": 7,
    "start_time": "2023-05-24T20:36:44.560Z"
   },
   {
    "duration": 3,
    "start_time": "2023-05-24T20:42:33.644Z"
   },
   {
    "duration": 138,
    "start_time": "2023-05-24T20:42:33.649Z"
   },
   {
    "duration": 4,
    "start_time": "2023-05-24T20:42:33.789Z"
   },
   {
    "duration": 93,
    "start_time": "2023-05-24T20:42:33.794Z"
   },
   {
    "duration": 20,
    "start_time": "2023-05-24T20:42:33.889Z"
   },
   {
    "duration": 1606,
    "start_time": "2023-05-24T20:42:33.910Z"
   },
   {
    "duration": 5,
    "start_time": "2023-05-24T20:42:35.518Z"
   },
   {
    "duration": 26,
    "start_time": "2023-05-24T20:42:35.524Z"
   },
   {
    "duration": 127,
    "start_time": "2023-05-24T20:42:35.552Z"
   },
   {
    "duration": 6,
    "start_time": "2023-05-24T20:42:35.680Z"
   },
   {
    "duration": 73,
    "start_time": "2023-05-24T20:42:35.688Z"
   },
   {
    "duration": 9,
    "start_time": "2023-05-24T20:42:35.763Z"
   },
   {
    "duration": 38,
    "start_time": "2023-05-24T20:42:35.774Z"
   },
   {
    "duration": 41,
    "start_time": "2023-05-24T20:42:35.815Z"
   },
   {
    "duration": 41,
    "start_time": "2023-05-24T20:42:35.858Z"
   },
   {
    "duration": 9,
    "start_time": "2023-05-24T20:42:35.901Z"
   },
   {
    "duration": 29,
    "start_time": "2023-05-24T20:42:35.912Z"
   },
   {
    "duration": 46,
    "start_time": "2023-05-24T20:42:35.942Z"
   },
   {
    "duration": 40,
    "start_time": "2023-05-24T20:42:35.989Z"
   },
   {
    "duration": 30,
    "start_time": "2023-05-24T20:42:36.030Z"
   },
   {
    "duration": 25,
    "start_time": "2023-05-24T20:42:36.062Z"
   },
   {
    "duration": 29,
    "start_time": "2023-05-24T20:42:36.088Z"
   },
   {
    "duration": 60,
    "start_time": "2023-05-24T20:42:36.118Z"
   },
   {
    "duration": 5,
    "start_time": "2023-05-24T20:42:36.180Z"
   },
   {
    "duration": 25,
    "start_time": "2023-05-24T20:42:36.186Z"
   },
   {
    "duration": 6,
    "start_time": "2023-05-24T20:42:36.213Z"
   },
   {
    "duration": 182,
    "start_time": "2023-05-24T20:42:36.221Z"
   },
   {
    "duration": 27,
    "start_time": "2023-05-24T20:42:36.404Z"
   },
   {
    "duration": 7,
    "start_time": "2023-05-24T20:42:36.433Z"
   },
   {
    "duration": 203,
    "start_time": "2023-05-24T20:42:36.441Z"
   },
   {
    "duration": 64,
    "start_time": "2023-05-24T20:42:36.646Z"
   },
   {
    "duration": 11,
    "start_time": "2023-05-24T20:42:36.712Z"
   },
   {
    "duration": 12,
    "start_time": "2023-05-24T20:42:36.725Z"
   },
   {
    "duration": 1091,
    "start_time": "2023-05-24T20:42:43.502Z"
   },
   {
    "duration": 142,
    "start_time": "2023-05-24T20:42:44.595Z"
   },
   {
    "duration": 3,
    "start_time": "2023-05-24T20:42:44.739Z"
   },
   {
    "duration": 109,
    "start_time": "2023-05-24T20:42:44.743Z"
   },
   {
    "duration": 9,
    "start_time": "2023-05-24T20:42:44.854Z"
   },
   {
    "duration": 1651,
    "start_time": "2023-05-24T20:42:44.865Z"
   },
   {
    "duration": 4,
    "start_time": "2023-05-24T20:42:46.518Z"
   },
   {
    "duration": 11,
    "start_time": "2023-05-24T20:42:46.524Z"
   },
   {
    "duration": 152,
    "start_time": "2023-05-24T20:42:46.536Z"
   },
   {
    "duration": 6,
    "start_time": "2023-05-24T20:42:46.689Z"
   },
   {
    "duration": 72,
    "start_time": "2023-05-24T20:42:46.696Z"
   },
   {
    "duration": 9,
    "start_time": "2023-05-24T20:42:46.769Z"
   },
   {
    "duration": 43,
    "start_time": "2023-05-24T20:42:46.779Z"
   },
   {
    "duration": 40,
    "start_time": "2023-05-24T20:42:46.824Z"
   },
   {
    "duration": 42,
    "start_time": "2023-05-24T20:42:46.865Z"
   },
   {
    "duration": 2,
    "start_time": "2023-05-24T20:42:46.908Z"
   },
   {
    "duration": 15,
    "start_time": "2023-05-24T20:42:46.912Z"
   },
   {
    "duration": 42,
    "start_time": "2023-05-24T20:42:46.929Z"
   },
   {
    "duration": 53,
    "start_time": "2023-05-24T20:42:46.973Z"
   },
   {
    "duration": 30,
    "start_time": "2023-05-24T20:42:47.028Z"
   },
   {
    "duration": 24,
    "start_time": "2023-05-24T20:42:47.059Z"
   },
   {
    "duration": 18,
    "start_time": "2023-05-24T20:42:47.106Z"
   },
   {
    "duration": 47,
    "start_time": "2023-05-24T20:42:47.125Z"
   },
   {
    "duration": 7,
    "start_time": "2023-05-24T20:42:47.173Z"
   },
   {
    "duration": 37,
    "start_time": "2023-05-24T20:42:47.181Z"
   },
   {
    "duration": 10,
    "start_time": "2023-05-24T20:42:47.219Z"
   },
   {
    "duration": 246,
    "start_time": "2023-05-24T20:42:47.230Z"
   },
   {
    "duration": 47,
    "start_time": "2023-05-24T20:42:47.478Z"
   },
   {
    "duration": 7,
    "start_time": "2023-05-24T20:42:47.527Z"
   },
   {
    "duration": 174,
    "start_time": "2023-05-24T20:42:47.536Z"
   },
   {
    "duration": 57,
    "start_time": "2023-05-24T20:42:47.711Z"
   },
   {
    "duration": 10,
    "start_time": "2023-05-24T20:42:47.770Z"
   },
   {
    "duration": 31,
    "start_time": "2023-05-24T20:42:47.781Z"
   },
   {
    "duration": 20,
    "start_time": "2023-05-24T20:47:16.946Z"
   },
   {
    "duration": 20,
    "start_time": "2023-05-24T20:47:50.899Z"
   },
   {
    "duration": 115,
    "start_time": "2023-05-24T20:47:59.808Z"
   },
   {
    "duration": 21,
    "start_time": "2023-05-24T20:48:17.752Z"
   },
   {
    "duration": 20,
    "start_time": "2023-05-24T20:48:48.676Z"
   },
   {
    "duration": 33,
    "start_time": "2023-05-24T20:48:58.381Z"
   },
   {
    "duration": 30,
    "start_time": "2023-05-24T20:49:03.746Z"
   },
   {
    "duration": 21,
    "start_time": "2023-05-24T20:49:10.050Z"
   },
   {
    "duration": 28,
    "start_time": "2023-05-24T20:49:18.347Z"
   },
   {
    "duration": 21,
    "start_time": "2023-05-24T20:49:29.794Z"
   },
   {
    "duration": 45,
    "start_time": "2023-05-24T20:51:18.970Z"
   },
   {
    "duration": 46,
    "start_time": "2023-05-24T20:51:32.753Z"
   },
   {
    "duration": 23,
    "start_time": "2023-05-24T20:51:43.556Z"
   },
   {
    "duration": 47,
    "start_time": "2023-05-24T20:51:44.150Z"
   },
   {
    "duration": 21,
    "start_time": "2023-05-24T20:52:37.580Z"
   },
   {
    "duration": 45,
    "start_time": "2023-05-24T20:52:37.993Z"
   },
   {
    "duration": 1273,
    "start_time": "2023-05-25T14:16:57.291Z"
   },
   {
    "duration": 700,
    "start_time": "2023-05-25T14:16:58.566Z"
   },
   {
    "duration": 3,
    "start_time": "2023-05-25T14:16:59.268Z"
   },
   {
    "duration": 89,
    "start_time": "2023-05-25T14:16:59.273Z"
   },
   {
    "duration": 8,
    "start_time": "2023-05-25T14:16:59.363Z"
   },
   {
    "duration": 1682,
    "start_time": "2023-05-25T14:16:59.373Z"
   },
   {
    "duration": 5,
    "start_time": "2023-05-25T14:17:01.057Z"
   },
   {
    "duration": 44,
    "start_time": "2023-05-25T14:17:01.064Z"
   },
   {
    "duration": 177,
    "start_time": "2023-05-25T14:17:01.110Z"
   },
   {
    "duration": 6,
    "start_time": "2023-05-25T14:17:01.289Z"
   },
   {
    "duration": 111,
    "start_time": "2023-05-25T14:17:01.296Z"
   },
   {
    "duration": 8,
    "start_time": "2023-05-25T14:17:01.409Z"
   },
   {
    "duration": 58,
    "start_time": "2023-05-25T14:17:01.419Z"
   },
   {
    "duration": 64,
    "start_time": "2023-05-25T14:17:01.478Z"
   },
   {
    "duration": 66,
    "start_time": "2023-05-25T14:17:01.543Z"
   },
   {
    "duration": 18,
    "start_time": "2023-05-25T14:17:01.610Z"
   },
   {
    "duration": 73,
    "start_time": "2023-05-25T14:17:01.629Z"
   },
   {
    "duration": 83,
    "start_time": "2023-05-25T14:17:01.704Z"
   },
   {
    "duration": 50,
    "start_time": "2023-05-25T14:17:01.789Z"
   },
   {
    "duration": 38,
    "start_time": "2023-05-25T14:17:01.840Z"
   },
   {
    "duration": 45,
    "start_time": "2023-05-25T14:17:01.879Z"
   },
   {
    "duration": 36,
    "start_time": "2023-05-25T14:17:01.926Z"
   },
   {
    "duration": 86,
    "start_time": "2023-05-25T14:17:01.963Z"
   },
   {
    "duration": 9,
    "start_time": "2023-05-25T14:17:02.050Z"
   },
   {
    "duration": 42,
    "start_time": "2023-05-25T14:17:02.060Z"
   },
   {
    "duration": 43,
    "start_time": "2023-05-25T14:17:02.103Z"
   },
   {
    "duration": 276,
    "start_time": "2023-05-25T14:17:02.148Z"
   },
   {
    "duration": 33,
    "start_time": "2023-05-25T14:17:02.428Z"
   },
   {
    "duration": 7,
    "start_time": "2023-05-25T14:17:02.463Z"
   },
   {
    "duration": 220,
    "start_time": "2023-05-25T14:17:02.472Z"
   },
   {
    "duration": 63,
    "start_time": "2023-05-25T14:17:02.694Z"
   },
   {
    "duration": 11,
    "start_time": "2023-05-25T14:17:02.758Z"
   },
   {
    "duration": 18,
    "start_time": "2023-05-25T14:17:02.770Z"
   },
   {
    "duration": 41,
    "start_time": "2023-05-25T14:17:02.789Z"
   },
   {
    "duration": 52,
    "start_time": "2023-05-25T14:17:02.832Z"
   },
   {
    "duration": 2,
    "start_time": "2023-05-25T14:17:02.886Z"
   },
   {
    "duration": 68,
    "start_time": "2023-05-25T14:26:07.490Z"
   },
   {
    "duration": 82,
    "start_time": "2023-05-25T14:26:17.161Z"
   },
   {
    "duration": 48,
    "start_time": "2023-05-25T14:27:11.978Z"
   },
   {
    "duration": 133,
    "start_time": "2023-05-25T14:31:43.766Z"
   },
   {
    "duration": 88,
    "start_time": "2023-05-25T14:32:00.456Z"
   },
   {
    "duration": 69,
    "start_time": "2023-05-25T14:32:54.870Z"
   },
   {
    "duration": 365,
    "start_time": "2023-05-25T14:33:21.291Z"
   },
   {
    "duration": 61,
    "start_time": "2023-05-25T14:33:28.525Z"
   },
   {
    "duration": 60,
    "start_time": "2023-05-25T14:33:54.403Z"
   },
   {
    "duration": 9,
    "start_time": "2023-05-25T14:34:19.753Z"
   },
   {
    "duration": 16,
    "start_time": "2023-05-25T14:34:52.717Z"
   },
   {
    "duration": 11,
    "start_time": "2023-05-25T14:35:04.864Z"
   },
   {
    "duration": 48,
    "start_time": "2023-05-25T14:58:11.589Z"
   },
   {
    "duration": 84,
    "start_time": "2023-05-25T15:04:03.958Z"
   },
   {
    "duration": 1260,
    "start_time": "2023-05-25T15:04:31.127Z"
   },
   {
    "duration": 1516,
    "start_time": "2023-05-25T15:05:05.801Z"
   },
   {
    "duration": 14,
    "start_time": "2023-05-25T15:05:31.989Z"
   },
   {
    "duration": 16,
    "start_time": "2023-05-25T15:07:00.990Z"
   },
   {
    "duration": 11,
    "start_time": "2023-05-25T15:07:21.637Z"
   },
   {
    "duration": 9,
    "start_time": "2023-05-25T15:08:38.118Z"
   },
   {
    "duration": 2,
    "start_time": "2023-05-25T15:08:57.353Z"
   },
   {
    "duration": 5,
    "start_time": "2023-05-25T15:09:00.717Z"
   },
   {
    "duration": 13,
    "start_time": "2023-05-25T15:09:27.496Z"
   },
   {
    "duration": 5,
    "start_time": "2023-05-25T15:09:32.524Z"
   },
   {
    "duration": 7,
    "start_time": "2023-05-25T15:18:07.078Z"
   },
   {
    "duration": 3,
    "start_time": "2023-05-25T15:18:42.597Z"
   },
   {
    "duration": 8,
    "start_time": "2023-05-25T15:18:59.781Z"
   },
   {
    "duration": 45,
    "start_time": "2023-05-25T15:20:09.874Z"
   },
   {
    "duration": 47,
    "start_time": "2023-05-25T15:20:19.088Z"
   },
   {
    "duration": 47,
    "start_time": "2023-05-25T15:20:30.096Z"
   },
   {
    "duration": 9,
    "start_time": "2023-05-25T15:22:17.655Z"
   },
   {
    "duration": 10,
    "start_time": "2023-05-25T15:22:42.840Z"
   },
   {
    "duration": 45,
    "start_time": "2023-05-25T15:22:46.088Z"
   },
   {
    "duration": 3,
    "start_time": "2023-05-25T15:22:46.599Z"
   },
   {
    "duration": 3,
    "start_time": "2023-05-25T15:22:52.797Z"
   },
   {
    "duration": 5,
    "start_time": "2023-05-25T15:24:02.539Z"
   },
   {
    "duration": 4,
    "start_time": "2023-05-25T15:24:35.758Z"
   },
   {
    "duration": 4,
    "start_time": "2023-05-25T15:25:08.994Z"
   },
   {
    "duration": 4,
    "start_time": "2023-05-25T15:26:44.952Z"
   },
   {
    "duration": 4,
    "start_time": "2023-05-25T15:27:51.376Z"
   },
   {
    "duration": 3,
    "start_time": "2023-05-25T15:33:06.436Z"
   },
   {
    "duration": 4,
    "start_time": "2023-05-25T15:34:18.352Z"
   },
   {
    "duration": 4,
    "start_time": "2023-05-25T15:34:26.450Z"
   },
   {
    "duration": 3,
    "start_time": "2023-05-25T15:36:39.991Z"
   },
   {
    "duration": 4,
    "start_time": "2023-05-25T15:36:50.323Z"
   },
   {
    "duration": 73,
    "start_time": "2023-05-25T16:04:08.604Z"
   },
   {
    "duration": 55,
    "start_time": "2023-05-25T16:11:15.770Z"
   },
   {
    "duration": 21,
    "start_time": "2023-05-25T16:11:23.108Z"
   },
   {
    "duration": 1628,
    "start_time": "2023-05-25T16:11:41.481Z"
   },
   {
    "duration": 1573,
    "start_time": "2023-05-25T16:14:24.819Z"
   },
   {
    "duration": 38,
    "start_time": "2023-05-25T16:15:36.568Z"
   },
   {
    "duration": 1212,
    "start_time": "2023-05-25T16:16:14.572Z"
   },
   {
    "duration": 146,
    "start_time": "2023-05-25T16:16:15.786Z"
   },
   {
    "duration": 4,
    "start_time": "2023-05-25T16:16:15.933Z"
   },
   {
    "duration": 101,
    "start_time": "2023-05-25T16:16:15.939Z"
   },
   {
    "duration": 9,
    "start_time": "2023-05-25T16:16:16.041Z"
   },
   {
    "duration": 1597,
    "start_time": "2023-05-25T16:16:16.052Z"
   },
   {
    "duration": 5,
    "start_time": "2023-05-25T16:16:17.650Z"
   },
   {
    "duration": 10,
    "start_time": "2023-05-25T16:16:17.656Z"
   },
   {
    "duration": 148,
    "start_time": "2023-05-25T16:16:17.667Z"
   },
   {
    "duration": 7,
    "start_time": "2023-05-25T16:16:17.817Z"
   },
   {
    "duration": 65,
    "start_time": "2023-05-25T16:16:17.825Z"
   },
   {
    "duration": 22,
    "start_time": "2023-05-25T16:16:17.891Z"
   },
   {
    "duration": 29,
    "start_time": "2023-05-25T16:16:17.914Z"
   },
   {
    "duration": 63,
    "start_time": "2023-05-25T16:16:17.945Z"
   },
   {
    "duration": 23,
    "start_time": "2023-05-25T16:16:18.009Z"
   },
   {
    "duration": 2,
    "start_time": "2023-05-25T16:16:18.034Z"
   },
   {
    "duration": 14,
    "start_time": "2023-05-25T16:16:18.038Z"
   },
   {
    "duration": 57,
    "start_time": "2023-05-25T16:16:18.053Z"
   },
   {
    "duration": 38,
    "start_time": "2023-05-25T16:16:18.111Z"
   },
   {
    "duration": 29,
    "start_time": "2023-05-25T16:16:18.151Z"
   },
   {
    "duration": 48,
    "start_time": "2023-05-25T16:16:18.182Z"
   },
   {
    "duration": 17,
    "start_time": "2023-05-25T16:16:18.232Z"
   },
   {
    "duration": 61,
    "start_time": "2023-05-25T16:16:18.251Z"
   },
   {
    "duration": 7,
    "start_time": "2023-05-25T16:16:18.313Z"
   },
   {
    "duration": 15,
    "start_time": "2023-05-25T16:16:18.322Z"
   },
   {
    "duration": 5,
    "start_time": "2023-05-25T16:16:18.338Z"
   },
   {
    "duration": 267,
    "start_time": "2023-05-25T16:16:18.344Z"
   },
   {
    "duration": 31,
    "start_time": "2023-05-25T16:16:18.614Z"
   },
   {
    "duration": 6,
    "start_time": "2023-05-25T16:16:18.646Z"
   },
   {
    "duration": 181,
    "start_time": "2023-05-25T16:16:18.653Z"
   },
   {
    "duration": 62,
    "start_time": "2023-05-25T16:16:18.835Z"
   },
   {
    "duration": 11,
    "start_time": "2023-05-25T16:16:18.905Z"
   },
   {
    "duration": 12,
    "start_time": "2023-05-25T16:16:18.917Z"
   },
   {
    "duration": 23,
    "start_time": "2023-05-25T16:16:18.930Z"
   },
   {
    "duration": 69,
    "start_time": "2023-05-25T16:16:18.954Z"
   },
   {
    "duration": 8,
    "start_time": "2023-05-25T16:16:19.024Z"
   },
   {
    "duration": 51,
    "start_time": "2023-05-25T16:16:19.033Z"
   },
   {
    "duration": 5,
    "start_time": "2023-05-25T16:16:19.085Z"
   },
   {
    "duration": 390,
    "start_time": "2023-05-25T16:16:19.105Z"
   },
   {
    "duration": 4,
    "start_time": "2023-05-25T16:16:19.496Z"
   },
   {
    "duration": 8,
    "start_time": "2023-05-25T16:16:19.501Z"
   },
   {
    "duration": 66,
    "start_time": "2023-05-25T16:16:39.183Z"
   },
   {
    "duration": 154,
    "start_time": "2023-05-25T16:16:59.091Z"
   },
   {
    "duration": 48,
    "start_time": "2023-05-25T16:17:35.807Z"
   },
   {
    "duration": 112,
    "start_time": "2023-05-25T16:21:26.518Z"
   },
   {
    "duration": 73,
    "start_time": "2023-05-25T16:22:11.452Z"
   },
   {
    "duration": 100,
    "start_time": "2023-05-25T16:22:55.252Z"
   },
   {
    "duration": 86,
    "start_time": "2023-05-25T16:23:20.708Z"
   },
   {
    "duration": 5,
    "start_time": "2023-05-25T16:23:41.632Z"
   },
   {
    "duration": 85,
    "start_time": "2023-05-25T16:24:19.554Z"
   },
   {
    "duration": 44,
    "start_time": "2023-05-25T16:24:30.259Z"
   },
   {
    "duration": 4,
    "start_time": "2023-05-25T16:24:32.891Z"
   },
   {
    "duration": 85,
    "start_time": "2023-05-25T16:24:34.471Z"
   },
   {
    "duration": 75,
    "start_time": "2023-05-25T16:28:13.890Z"
   },
   {
    "duration": 62,
    "start_time": "2023-05-25T16:29:37.148Z"
   },
   {
    "duration": 60,
    "start_time": "2023-05-25T16:29:42.060Z"
   },
   {
    "duration": 86,
    "start_time": "2023-05-25T16:29:49.195Z"
   },
   {
    "duration": 86,
    "start_time": "2023-05-25T16:30:46.820Z"
   },
   {
    "duration": 11,
    "start_time": "2023-05-25T16:33:51.345Z"
   },
   {
    "duration": 2,
    "start_time": "2023-05-25T16:34:10.390Z"
   },
   {
    "duration": 29,
    "start_time": "2023-05-25T16:34:21.716Z"
   },
   {
    "duration": 5,
    "start_time": "2023-05-25T16:36:12.456Z"
   },
   {
    "duration": 21,
    "start_time": "2023-05-25T16:36:19.996Z"
   },
   {
    "duration": 22,
    "start_time": "2023-05-25T16:37:24.869Z"
   },
   {
    "duration": 21,
    "start_time": "2023-05-25T16:37:38.172Z"
   },
   {
    "duration": 25,
    "start_time": "2023-05-25T16:38:00.587Z"
   },
   {
    "duration": 24,
    "start_time": "2023-05-25T16:38:04.225Z"
   },
   {
    "duration": 66,
    "start_time": "2023-05-25T16:39:34.078Z"
   },
   {
    "duration": 61,
    "start_time": "2023-05-25T16:44:59.032Z"
   },
   {
    "duration": 67,
    "start_time": "2023-05-25T16:45:02.753Z"
   },
   {
    "duration": 61,
    "start_time": "2023-05-25T16:48:44.122Z"
   },
   {
    "duration": 85,
    "start_time": "2023-05-25T16:49:32.947Z"
   },
   {
    "duration": 51,
    "start_time": "2023-05-25T16:50:19.004Z"
   },
   {
    "duration": 70,
    "start_time": "2023-05-25T16:50:43.919Z"
   },
   {
    "duration": 60,
    "start_time": "2023-05-25T16:50:49.584Z"
   },
   {
    "duration": 89,
    "start_time": "2023-05-25T16:50:53.609Z"
   },
   {
    "duration": 86,
    "start_time": "2023-05-25T16:52:12.224Z"
   },
   {
    "duration": 61,
    "start_time": "2023-05-25T16:52:31.424Z"
   },
   {
    "duration": 59,
    "start_time": "2023-05-25T16:53:20.747Z"
   },
   {
    "duration": 73,
    "start_time": "2023-05-25T16:53:37.054Z"
   },
   {
    "duration": 9,
    "start_time": "2023-05-25T16:57:10.707Z"
   },
   {
    "duration": 73,
    "start_time": "2023-05-25T16:57:46.065Z"
   },
   {
    "duration": 24,
    "start_time": "2023-05-25T16:59:23.455Z"
   },
   {
    "duration": 59,
    "start_time": "2023-05-25T16:59:28.405Z"
   },
   {
    "duration": 75,
    "start_time": "2023-05-25T16:59:32.562Z"
   },
   {
    "duration": 49,
    "start_time": "2023-05-25T17:11:56.155Z"
   },
   {
    "duration": 85,
    "start_time": "2023-05-25T17:12:46.749Z"
   },
   {
    "duration": 31,
    "start_time": "2023-05-25T17:13:07.692Z"
   },
   {
    "duration": 76,
    "start_time": "2023-05-25T17:13:12.964Z"
   },
   {
    "duration": 55,
    "start_time": "2023-05-25T17:14:02.364Z"
   },
   {
    "duration": 64,
    "start_time": "2023-05-25T17:14:55.138Z"
   },
   {
    "duration": 14,
    "start_time": "2023-05-25T17:16:59.034Z"
   },
   {
    "duration": 50,
    "start_time": "2023-05-25T17:17:00.152Z"
   },
   {
    "duration": 57,
    "start_time": "2023-05-25T17:25:39.979Z"
   },
   {
    "duration": 52,
    "start_time": "2023-05-25T17:25:47.432Z"
   },
   {
    "duration": 55,
    "start_time": "2023-05-25T17:25:51.987Z"
   },
   {
    "duration": 55,
    "start_time": "2023-05-25T17:26:01.148Z"
   },
   {
    "duration": 60,
    "start_time": "2023-05-25T17:26:48.915Z"
   },
   {
    "duration": 35,
    "start_time": "2023-05-25T17:27:50.060Z"
   },
   {
    "duration": 54,
    "start_time": "2023-05-25T17:28:00.468Z"
   },
   {
    "duration": 38,
    "start_time": "2023-05-25T17:28:53.920Z"
   },
   {
    "duration": 68,
    "start_time": "2023-05-25T17:29:01.860Z"
   },
   {
    "duration": 53,
    "start_time": "2023-05-25T17:29:08.996Z"
   },
   {
    "duration": 6,
    "start_time": "2023-05-25T17:30:48.956Z"
   },
   {
    "duration": 1282,
    "start_time": "2023-05-25T17:34:17.339Z"
   },
   {
    "duration": 1184,
    "start_time": "2023-05-25T17:34:21.339Z"
   },
   {
    "duration": 8,
    "start_time": "2023-05-25T17:34:40.060Z"
   },
   {
    "duration": 55,
    "start_time": "2023-05-25T17:36:22.735Z"
   },
   {
    "duration": 5,
    "start_time": "2023-05-25T17:36:26.298Z"
   },
   {
    "duration": 9,
    "start_time": "2023-05-25T17:36:28.325Z"
   },
   {
    "duration": 8,
    "start_time": "2023-05-25T17:37:18.202Z"
   },
   {
    "duration": 1169,
    "start_time": "2023-05-25T17:38:32.616Z"
   },
   {
    "duration": 1166,
    "start_time": "2023-05-25T17:38:48.389Z"
   },
   {
    "duration": 59,
    "start_time": "2023-05-25T17:40:39.077Z"
   },
   {
    "duration": 55,
    "start_time": "2023-05-25T17:40:44.550Z"
   },
   {
    "duration": 7,
    "start_time": "2023-05-25T17:40:51.161Z"
   },
   {
    "duration": 9,
    "start_time": "2023-05-25T17:40:54.628Z"
   },
   {
    "duration": 8,
    "start_time": "2023-05-25T17:40:59.678Z"
   },
   {
    "duration": 12,
    "start_time": "2023-05-25T17:41:27.763Z"
   },
   {
    "duration": 14,
    "start_time": "2023-05-25T17:41:32.952Z"
   },
   {
    "duration": 9,
    "start_time": "2023-05-25T17:43:26.854Z"
   },
   {
    "duration": 5,
    "start_time": "2023-05-25T17:44:09.310Z"
   },
   {
    "duration": 4,
    "start_time": "2023-05-25T17:44:14.371Z"
   },
   {
    "duration": 10,
    "start_time": "2023-05-25T17:45:02.742Z"
   },
   {
    "duration": 4,
    "start_time": "2023-05-25T17:53:53.034Z"
   },
   {
    "duration": 16,
    "start_time": "2023-05-25T18:03:16.903Z"
   },
   {
    "duration": 16,
    "start_time": "2023-05-25T18:03:41.021Z"
   },
   {
    "duration": 3,
    "start_time": "2023-05-25T18:10:35.290Z"
   },
   {
    "duration": 132,
    "start_time": "2023-05-25T18:10:35.295Z"
   },
   {
    "duration": 3,
    "start_time": "2023-05-25T18:10:35.429Z"
   },
   {
    "duration": 93,
    "start_time": "2023-05-25T18:10:35.434Z"
   },
   {
    "duration": 5,
    "start_time": "2023-05-25T18:10:35.528Z"
   },
   {
    "duration": 1614,
    "start_time": "2023-05-25T18:10:35.535Z"
   },
   {
    "duration": 5,
    "start_time": "2023-05-25T18:10:37.150Z"
   },
   {
    "duration": 11,
    "start_time": "2023-05-25T18:10:37.156Z"
   },
   {
    "duration": 124,
    "start_time": "2023-05-25T18:10:37.168Z"
   },
   {
    "duration": 13,
    "start_time": "2023-05-25T18:10:37.294Z"
   },
   {
    "duration": 65,
    "start_time": "2023-05-25T18:10:37.308Z"
   },
   {
    "duration": 9,
    "start_time": "2023-05-25T18:10:37.374Z"
   },
   {
    "duration": 42,
    "start_time": "2023-05-25T18:10:37.385Z"
   },
   {
    "duration": 42,
    "start_time": "2023-05-25T18:10:37.428Z"
   },
   {
    "duration": 39,
    "start_time": "2023-05-25T18:10:37.471Z"
   },
   {
    "duration": 2,
    "start_time": "2023-05-25T18:10:37.511Z"
   },
   {
    "duration": 15,
    "start_time": "2023-05-25T18:10:37.515Z"
   },
   {
    "duration": 37,
    "start_time": "2023-05-25T18:10:37.532Z"
   },
   {
    "duration": 66,
    "start_time": "2023-05-25T18:10:37.571Z"
   },
   {
    "duration": 32,
    "start_time": "2023-05-25T18:10:37.639Z"
   },
   {
    "duration": 44,
    "start_time": "2023-05-25T18:10:37.673Z"
   },
   {
    "duration": 18,
    "start_time": "2023-05-25T18:10:37.719Z"
   },
   {
    "duration": 47,
    "start_time": "2023-05-25T18:10:37.739Z"
   },
   {
    "duration": 23,
    "start_time": "2023-05-25T18:10:37.788Z"
   },
   {
    "duration": 25,
    "start_time": "2023-05-25T18:10:37.813Z"
   },
   {
    "duration": 7,
    "start_time": "2023-05-25T18:10:37.840Z"
   },
   {
    "duration": 188,
    "start_time": "2023-05-25T18:10:37.848Z"
   },
   {
    "duration": 29,
    "start_time": "2023-05-25T18:10:38.040Z"
   },
   {
    "duration": 29,
    "start_time": "2023-05-25T18:10:38.071Z"
   },
   {
    "duration": 188,
    "start_time": "2023-05-25T18:10:38.102Z"
   },
   {
    "duration": 66,
    "start_time": "2023-05-25T18:10:38.292Z"
   },
   {
    "duration": 12,
    "start_time": "2023-05-25T18:10:38.360Z"
   },
   {
    "duration": 13,
    "start_time": "2023-05-25T18:10:38.373Z"
   },
   {
    "duration": 55,
    "start_time": "2023-05-25T18:10:38.406Z"
   },
   {
    "duration": 6,
    "start_time": "2023-05-25T18:10:38.463Z"
   },
   {
    "duration": 11,
    "start_time": "2023-05-25T18:10:38.471Z"
   },
   {
    "duration": 60,
    "start_time": "2023-05-25T18:10:38.483Z"
   },
   {
    "duration": 5,
    "start_time": "2023-05-25T18:10:38.545Z"
   },
   {
    "duration": 16,
    "start_time": "2023-05-25T18:10:38.552Z"
   },
   {
    "duration": 13,
    "start_time": "2023-05-25T18:10:38.569Z"
   },
   {
    "duration": 6,
    "start_time": "2023-05-25T18:10:38.584Z"
   },
   {
    "duration": 1876,
    "start_time": "2023-05-25T18:33:12.730Z"
   },
   {
    "duration": 725,
    "start_time": "2023-05-25T18:33:14.608Z"
   },
   {
    "duration": 5,
    "start_time": "2023-05-25T18:33:15.334Z"
   },
   {
    "duration": 122,
    "start_time": "2023-05-25T18:33:15.341Z"
   },
   {
    "duration": 11,
    "start_time": "2023-05-25T18:33:15.464Z"
   },
   {
    "duration": 1772,
    "start_time": "2023-05-25T18:33:15.477Z"
   },
   {
    "duration": 11,
    "start_time": "2023-05-25T18:33:17.250Z"
   },
   {
    "duration": 7,
    "start_time": "2023-05-25T18:33:17.263Z"
   },
   {
    "duration": 192,
    "start_time": "2023-05-25T18:33:17.271Z"
   },
   {
    "duration": 8,
    "start_time": "2023-05-25T18:33:17.465Z"
   },
   {
    "duration": 84,
    "start_time": "2023-05-25T18:33:17.474Z"
   },
   {
    "duration": 10,
    "start_time": "2023-05-25T18:33:17.560Z"
   },
   {
    "duration": 33,
    "start_time": "2023-05-25T18:33:17.572Z"
   },
   {
    "duration": 63,
    "start_time": "2023-05-25T18:33:17.607Z"
   },
   {
    "duration": 27,
    "start_time": "2023-05-25T18:33:17.672Z"
   },
   {
    "duration": 2,
    "start_time": "2023-05-25T18:33:17.701Z"
   },
   {
    "duration": 58,
    "start_time": "2023-05-25T18:33:17.704Z"
   },
   {
    "duration": 51,
    "start_time": "2023-05-25T18:33:17.764Z"
   },
   {
    "duration": 57,
    "start_time": "2023-05-25T18:33:17.817Z"
   },
   {
    "duration": 40,
    "start_time": "2023-05-25T18:33:17.875Z"
   },
   {
    "duration": 43,
    "start_time": "2023-05-25T18:33:17.917Z"
   },
   {
    "duration": 20,
    "start_time": "2023-05-25T18:33:17.962Z"
   },
   {
    "duration": 49,
    "start_time": "2023-05-25T18:33:17.983Z"
   },
   {
    "duration": 24,
    "start_time": "2023-05-25T18:33:18.034Z"
   },
   {
    "duration": 17,
    "start_time": "2023-05-25T18:33:18.060Z"
   },
   {
    "duration": 6,
    "start_time": "2023-05-25T18:33:18.079Z"
   },
   {
    "duration": 309,
    "start_time": "2023-05-25T18:33:18.087Z"
   },
   {
    "duration": 39,
    "start_time": "2023-05-25T18:33:18.400Z"
   },
   {
    "duration": 16,
    "start_time": "2023-05-25T18:33:18.441Z"
   },
   {
    "duration": 183,
    "start_time": "2023-05-25T18:33:18.459Z"
   },
   {
    "duration": 88,
    "start_time": "2023-05-25T18:33:18.644Z"
   },
   {
    "duration": 26,
    "start_time": "2023-05-25T18:33:18.734Z"
   },
   {
    "duration": 13,
    "start_time": "2023-05-25T18:33:18.762Z"
   },
   {
    "duration": 87,
    "start_time": "2023-05-25T18:33:18.777Z"
   },
   {
    "duration": 9,
    "start_time": "2023-05-25T18:33:18.866Z"
   },
   {
    "duration": 14,
    "start_time": "2023-05-25T18:33:18.877Z"
   },
   {
    "duration": 79,
    "start_time": "2023-05-25T18:33:18.893Z"
   },
   {
    "duration": 5,
    "start_time": "2023-05-25T18:33:18.975Z"
   },
   {
    "duration": 203,
    "start_time": "2023-05-25T18:33:18.982Z"
   },
   {
    "duration": 5,
    "start_time": "2023-05-25T18:33:19.187Z"
   },
   {
    "duration": 19,
    "start_time": "2023-05-25T18:33:19.193Z"
   },
   {
    "duration": 48,
    "start_time": "2023-05-25T18:33:56.109Z"
   },
   {
    "duration": 51,
    "start_time": "2023-05-25T18:34:42.886Z"
   },
   {
    "duration": 1500,
    "start_time": "2023-05-25T20:09:55.808Z"
   },
   {
    "duration": 534,
    "start_time": "2023-05-25T20:09:57.310Z"
   },
   {
    "duration": 7,
    "start_time": "2023-05-25T20:09:57.846Z"
   },
   {
    "duration": 126,
    "start_time": "2023-05-25T20:09:57.856Z"
   },
   {
    "duration": 9,
    "start_time": "2023-05-25T20:09:57.984Z"
   },
   {
    "duration": 1972,
    "start_time": "2023-05-25T20:09:57.995Z"
   },
   {
    "duration": 5,
    "start_time": "2023-05-25T20:09:59.969Z"
   },
   {
    "duration": 33,
    "start_time": "2023-05-25T20:09:59.976Z"
   },
   {
    "duration": 179,
    "start_time": "2023-05-25T20:10:00.012Z"
   },
   {
    "duration": 8,
    "start_time": "2023-05-25T20:10:00.195Z"
   },
   {
    "duration": 144,
    "start_time": "2023-05-25T20:10:00.205Z"
   },
   {
    "duration": 11,
    "start_time": "2023-05-25T20:10:00.351Z"
   },
   {
    "duration": 71,
    "start_time": "2023-05-25T20:10:00.365Z"
   },
   {
    "duration": 112,
    "start_time": "2023-05-25T20:10:00.438Z"
   },
   {
    "duration": 65,
    "start_time": "2023-05-25T20:10:00.552Z"
   },
   {
    "duration": 29,
    "start_time": "2023-05-25T20:10:00.620Z"
   },
   {
    "duration": 82,
    "start_time": "2023-05-25T20:10:00.651Z"
   },
   {
    "duration": 82,
    "start_time": "2023-05-25T20:10:00.735Z"
   },
   {
    "duration": 64,
    "start_time": "2023-05-25T20:10:00.819Z"
   },
   {
    "duration": 53,
    "start_time": "2023-05-25T20:10:00.885Z"
   },
   {
    "duration": 55,
    "start_time": "2023-05-25T20:10:00.941Z"
   },
   {
    "duration": 91,
    "start_time": "2023-05-25T20:10:00.999Z"
   },
   {
    "duration": 134,
    "start_time": "2023-05-25T20:10:01.093Z"
   },
   {
    "duration": 8,
    "start_time": "2023-05-25T20:10:01.229Z"
   },
   {
    "duration": 46,
    "start_time": "2023-05-25T20:10:01.239Z"
   },
   {
    "duration": 19,
    "start_time": "2023-05-25T20:10:01.288Z"
   },
   {
    "duration": 371,
    "start_time": "2023-05-25T20:10:01.309Z"
   },
   {
    "duration": 43,
    "start_time": "2023-05-25T20:10:01.684Z"
   },
   {
    "duration": 29,
    "start_time": "2023-05-25T20:10:01.729Z"
   },
   {
    "duration": 396,
    "start_time": "2023-05-25T20:10:01.759Z"
   },
   {
    "duration": 91,
    "start_time": "2023-05-25T20:10:02.157Z"
   },
   {
    "duration": 17,
    "start_time": "2023-05-25T20:10:02.250Z"
   },
   {
    "duration": 32,
    "start_time": "2023-05-25T20:10:02.269Z"
   },
   {
    "duration": 84,
    "start_time": "2023-05-25T20:10:02.303Z"
   },
   {
    "duration": 9,
    "start_time": "2023-05-25T20:10:02.390Z"
   },
   {
    "duration": 35,
    "start_time": "2023-05-25T20:10:02.401Z"
   },
   {
    "duration": 72,
    "start_time": "2023-05-25T20:10:02.438Z"
   },
   {
    "duration": 12,
    "start_time": "2023-05-25T20:10:02.512Z"
   },
   {
    "duration": 195,
    "start_time": "2023-05-25T20:10:02.527Z"
   },
   {
    "duration": 6,
    "start_time": "2023-05-25T20:10:02.725Z"
   },
   {
    "duration": 23,
    "start_time": "2023-05-25T20:10:02.733Z"
   },
   {
    "duration": 118,
    "start_time": "2023-05-25T20:10:02.758Z"
   },
   {
    "duration": 1394,
    "start_time": "2023-05-27T11:06:38.943Z"
   },
   {
    "duration": 977,
    "start_time": "2023-05-27T11:06:40.339Z"
   },
   {
    "duration": 4,
    "start_time": "2023-05-27T11:06:41.317Z"
   },
   {
    "duration": 106,
    "start_time": "2023-05-27T11:06:41.323Z"
   },
   {
    "duration": 9,
    "start_time": "2023-05-27T11:06:41.431Z"
   },
   {
    "duration": 1936,
    "start_time": "2023-05-27T11:06:41.442Z"
   },
   {
    "duration": 5,
    "start_time": "2023-05-27T11:06:43.379Z"
   },
   {
    "duration": 16,
    "start_time": "2023-05-27T11:06:43.385Z"
   },
   {
    "duration": 150,
    "start_time": "2023-05-27T11:06:43.403Z"
   },
   {
    "duration": 7,
    "start_time": "2023-05-27T11:06:43.556Z"
   },
   {
    "duration": 78,
    "start_time": "2023-05-27T11:06:43.564Z"
   },
   {
    "duration": 10,
    "start_time": "2023-05-27T11:06:43.644Z"
   },
   {
    "duration": 46,
    "start_time": "2023-05-27T11:06:43.655Z"
   },
   {
    "duration": 48,
    "start_time": "2023-05-27T11:06:43.703Z"
   },
   {
    "duration": 38,
    "start_time": "2023-05-27T11:06:43.753Z"
   },
   {
    "duration": 3,
    "start_time": "2023-05-27T11:06:43.793Z"
   },
   {
    "duration": 17,
    "start_time": "2023-05-27T11:06:43.797Z"
   },
   {
    "duration": 40,
    "start_time": "2023-05-27T11:06:43.815Z"
   },
   {
    "duration": 64,
    "start_time": "2023-05-27T11:06:43.857Z"
   },
   {
    "duration": 33,
    "start_time": "2023-05-27T11:06:43.923Z"
   },
   {
    "duration": 27,
    "start_time": "2023-05-27T11:06:43.977Z"
   },
   {
    "duration": 20,
    "start_time": "2023-05-27T11:06:44.005Z"
   },
   {
    "duration": 69,
    "start_time": "2023-05-27T11:06:44.026Z"
   },
   {
    "duration": 8,
    "start_time": "2023-05-27T11:06:44.096Z"
   },
   {
    "duration": 16,
    "start_time": "2023-05-27T11:06:44.105Z"
   },
   {
    "duration": 5,
    "start_time": "2023-05-27T11:06:44.123Z"
   },
   {
    "duration": 276,
    "start_time": "2023-05-27T11:06:44.129Z"
   },
   {
    "duration": 30,
    "start_time": "2023-05-27T11:06:44.408Z"
   },
   {
    "duration": 6,
    "start_time": "2023-05-27T11:06:44.439Z"
   },
   {
    "duration": 192,
    "start_time": "2023-05-27T11:06:44.446Z"
   },
   {
    "duration": 67,
    "start_time": "2023-05-27T11:06:44.640Z"
   },
   {
    "duration": 11,
    "start_time": "2023-05-27T11:06:44.709Z"
   },
   {
    "duration": 14,
    "start_time": "2023-05-27T11:06:44.721Z"
   },
   {
    "duration": 79,
    "start_time": "2023-05-27T11:06:44.736Z"
   },
   {
    "duration": 6,
    "start_time": "2023-05-27T11:06:44.817Z"
   },
   {
    "duration": 10,
    "start_time": "2023-05-27T11:06:44.825Z"
   },
   {
    "duration": 66,
    "start_time": "2023-05-27T11:06:44.837Z"
   },
   {
    "duration": 5,
    "start_time": "2023-05-27T11:06:44.905Z"
   },
   {
    "duration": 177,
    "start_time": "2023-05-27T11:06:44.912Z"
   },
   {
    "duration": 5,
    "start_time": "2023-05-27T11:06:45.092Z"
   },
   {
    "duration": 5,
    "start_time": "2023-05-27T11:06:45.098Z"
   },
   {
    "duration": 93,
    "start_time": "2023-05-27T11:06:45.105Z"
   },
   {
    "duration": 4,
    "start_time": "2023-05-27T11:11:54.320Z"
   },
   {
    "duration": 144,
    "start_time": "2023-05-27T11:11:54.326Z"
   },
   {
    "duration": 8,
    "start_time": "2023-05-27T11:11:54.471Z"
   },
   {
    "duration": 98,
    "start_time": "2023-05-27T11:11:54.481Z"
   },
   {
    "duration": 6,
    "start_time": "2023-05-27T11:11:54.580Z"
   },
   {
    "duration": 1705,
    "start_time": "2023-05-27T11:11:54.587Z"
   },
   {
    "duration": 5,
    "start_time": "2023-05-27T11:11:56.294Z"
   },
   {
    "duration": 24,
    "start_time": "2023-05-27T11:11:56.301Z"
   },
   {
    "duration": 133,
    "start_time": "2023-05-27T11:11:56.328Z"
   },
   {
    "duration": 15,
    "start_time": "2023-05-27T11:11:56.463Z"
   },
   {
    "duration": 71,
    "start_time": "2023-05-27T11:11:56.480Z"
   },
   {
    "duration": 26,
    "start_time": "2023-05-27T11:11:56.553Z"
   },
   {
    "duration": 35,
    "start_time": "2023-05-27T11:11:56.581Z"
   },
   {
    "duration": 60,
    "start_time": "2023-05-27T11:11:56.618Z"
   },
   {
    "duration": 28,
    "start_time": "2023-05-27T11:11:56.679Z"
   },
   {
    "duration": 3,
    "start_time": "2023-05-27T11:11:56.709Z"
   },
   {
    "duration": 15,
    "start_time": "2023-05-27T11:11:56.714Z"
   },
   {
    "duration": 70,
    "start_time": "2023-05-27T11:11:56.731Z"
   },
   {
    "duration": 44,
    "start_time": "2023-05-27T11:11:56.803Z"
   },
   {
    "duration": 54,
    "start_time": "2023-05-27T11:11:56.848Z"
   },
   {
    "duration": 27,
    "start_time": "2023-05-27T11:11:56.904Z"
   },
   {
    "duration": 20,
    "start_time": "2023-05-27T11:11:56.933Z"
   },
   {
    "duration": 75,
    "start_time": "2023-05-27T11:11:56.955Z"
   },
   {
    "duration": 7,
    "start_time": "2023-05-27T11:11:57.033Z"
   },
   {
    "duration": 17,
    "start_time": "2023-05-27T11:11:57.042Z"
   },
   {
    "duration": 23,
    "start_time": "2023-05-27T11:11:57.060Z"
   },
   {
    "duration": 215,
    "start_time": "2023-05-27T11:11:57.084Z"
   },
   {
    "duration": 30,
    "start_time": "2023-05-27T11:11:57.301Z"
   },
   {
    "duration": 6,
    "start_time": "2023-05-27T11:11:57.333Z"
   },
   {
    "duration": 340,
    "start_time": "2023-05-27T11:11:57.340Z"
   },
   {
    "duration": 61,
    "start_time": "2023-05-27T11:11:57.682Z"
   },
   {
    "duration": 11,
    "start_time": "2023-05-27T11:11:57.745Z"
   },
   {
    "duration": 15,
    "start_time": "2023-05-27T11:11:57.777Z"
   },
   {
    "duration": 67,
    "start_time": "2023-05-27T11:11:57.793Z"
   },
   {
    "duration": 17,
    "start_time": "2023-05-27T11:11:57.862Z"
   },
   {
    "duration": 10,
    "start_time": "2023-05-27T11:11:57.881Z"
   },
   {
    "duration": 58,
    "start_time": "2023-05-27T11:11:57.893Z"
   },
   {
    "duration": 28,
    "start_time": "2023-05-27T11:11:57.952Z"
   },
   {
    "duration": 13,
    "start_time": "2023-05-27T11:11:57.982Z"
   },
   {
    "duration": 5,
    "start_time": "2023-05-27T11:11:57.997Z"
   },
   {
    "duration": 7,
    "start_time": "2023-05-27T11:11:58.004Z"
   },
   {
    "duration": 72,
    "start_time": "2023-05-27T11:11:58.013Z"
   },
   {
    "duration": 101,
    "start_time": "2023-05-27T11:33:01.579Z"
   },
   {
    "duration": 20,
    "start_time": "2023-05-27T11:33:36.854Z"
   },
   {
    "duration": 45,
    "start_time": "2023-05-27T11:33:45.964Z"
   },
   {
    "duration": 43,
    "start_time": "2023-05-27T11:37:38.050Z"
   },
   {
    "duration": 5,
    "start_time": "2023-05-27T11:37:48.884Z"
   },
   {
    "duration": 11,
    "start_time": "2023-05-27T11:39:31.400Z"
   },
   {
    "duration": 5,
    "start_time": "2023-05-27T11:39:38.740Z"
   },
   {
    "duration": 4,
    "start_time": "2023-05-27T11:39:39.939Z"
   },
   {
    "duration": 3,
    "start_time": "2023-05-27T11:39:56.091Z"
   },
   {
    "duration": 4,
    "start_time": "2023-05-27T11:40:42.984Z"
   },
   {
    "duration": 43,
    "start_time": "2023-05-27T11:41:01.118Z"
   },
   {
    "duration": 4,
    "start_time": "2023-05-27T11:41:01.284Z"
   },
   {
    "duration": 43,
    "start_time": "2023-05-27T11:41:21.419Z"
   },
   {
    "duration": 8,
    "start_time": "2023-05-27T11:46:08.588Z"
   },
   {
    "duration": 5,
    "start_time": "2023-05-27T11:46:25.302Z"
   },
   {
    "duration": 98,
    "start_time": "2023-05-27T11:49:03.506Z"
   },
   {
    "duration": 75,
    "start_time": "2023-05-27T11:49:13.253Z"
   },
   {
    "duration": 77,
    "start_time": "2023-05-27T11:49:20.502Z"
   },
   {
    "duration": 76,
    "start_time": "2023-05-27T11:49:26.313Z"
   },
   {
    "duration": 94,
    "start_time": "2023-05-27T11:49:31.889Z"
   },
   {
    "duration": 69,
    "start_time": "2023-05-27T11:49:43.947Z"
   },
   {
    "duration": 79,
    "start_time": "2023-05-27T11:50:08.556Z"
   },
   {
    "duration": 82,
    "start_time": "2023-05-27T11:50:18.848Z"
   },
   {
    "duration": 82,
    "start_time": "2023-05-27T11:50:25.884Z"
   },
   {
    "duration": 84,
    "start_time": "2023-05-27T12:15:10.767Z"
   },
   {
    "duration": 94,
    "start_time": "2023-05-27T12:15:29.536Z"
   },
   {
    "duration": 87,
    "start_time": "2023-05-27T12:15:40.528Z"
   },
   {
    "duration": 80,
    "start_time": "2023-05-27T12:15:50.402Z"
   },
   {
    "duration": 76,
    "start_time": "2023-05-27T12:16:11.536Z"
   },
   {
    "duration": 66,
    "start_time": "2023-05-27T12:16:15.413Z"
   },
   {
    "duration": 72,
    "start_time": "2023-05-27T12:16:57.095Z"
   },
   {
    "duration": 77,
    "start_time": "2023-05-27T12:17:00.827Z"
   },
   {
    "duration": 95,
    "start_time": "2023-05-27T12:17:07.589Z"
   },
   {
    "duration": 75,
    "start_time": "2023-05-27T12:17:11.103Z"
   },
   {
    "duration": 91,
    "start_time": "2023-05-27T12:17:23.349Z"
   },
   {
    "duration": 1266,
    "start_time": "2023-05-27T12:22:56.574Z"
   },
   {
    "duration": 18,
    "start_time": "2023-05-27T12:23:06.500Z"
   },
   {
    "duration": 22,
    "start_time": "2023-05-27T12:23:24.972Z"
   },
   {
    "duration": 5,
    "start_time": "2023-05-27T12:32:21.386Z"
   },
   {
    "duration": 11,
    "start_time": "2023-05-27T12:32:30.671Z"
   },
   {
    "duration": 4,
    "start_time": "2023-05-27T12:34:43.003Z"
   },
   {
    "duration": 8,
    "start_time": "2023-05-27T12:34:43.889Z"
   },
   {
    "duration": 5,
    "start_time": "2023-05-27T12:36:05.290Z"
   },
   {
    "duration": 9,
    "start_time": "2023-05-27T12:36:06.010Z"
   },
   {
    "duration": 10,
    "start_time": "2023-05-27T12:39:12.884Z"
   },
   {
    "duration": 56,
    "start_time": "2023-05-27T12:56:01.620Z"
   },
   {
    "duration": 41,
    "start_time": "2023-05-27T12:56:19.642Z"
   },
   {
    "duration": 44,
    "start_time": "2023-05-27T12:57:01.309Z"
   },
   {
    "duration": 5,
    "start_time": "2023-05-27T12:59:42.795Z"
   },
   {
    "duration": 12,
    "start_time": "2023-05-27T12:59:43.392Z"
   },
   {
    "duration": 5,
    "start_time": "2023-05-27T12:59:56.640Z"
   },
   {
    "duration": 16,
    "start_time": "2023-05-27T12:59:58.016Z"
   },
   {
    "duration": 16,
    "start_time": "2023-05-27T13:01:09.171Z"
   },
   {
    "duration": 5,
    "start_time": "2023-05-27T13:01:11.166Z"
   },
   {
    "duration": 14,
    "start_time": "2023-05-27T13:01:11.835Z"
   },
   {
    "duration": 5,
    "start_time": "2023-05-27T13:19:26.461Z"
   },
   {
    "duration": 10,
    "start_time": "2023-05-27T13:19:28.621Z"
   },
   {
    "duration": 10,
    "start_time": "2023-05-27T13:20:53.154Z"
   },
   {
    "duration": 9,
    "start_time": "2023-05-27T13:20:53.730Z"
   },
   {
    "duration": 11,
    "start_time": "2023-05-27T13:25:01.060Z"
   },
   {
    "duration": 9,
    "start_time": "2023-05-27T13:25:20.961Z"
   },
   {
    "duration": 9,
    "start_time": "2023-05-27T13:25:34.270Z"
   },
   {
    "duration": 12,
    "start_time": "2023-05-27T13:39:49.390Z"
   },
   {
    "duration": 11,
    "start_time": "2023-05-27T13:40:11.414Z"
   },
   {
    "duration": 10,
    "start_time": "2023-05-27T13:40:13.933Z"
   },
   {
    "duration": 15,
    "start_time": "2023-05-27T13:40:15.681Z"
   },
   {
    "duration": 10,
    "start_time": "2023-05-27T13:40:16.817Z"
   },
   {
    "duration": 1314,
    "start_time": "2023-05-27T14:05:15.314Z"
   },
   {
    "duration": 167,
    "start_time": "2023-05-27T14:05:16.630Z"
   },
   {
    "duration": 5,
    "start_time": "2023-05-27T14:05:16.806Z"
   },
   {
    "duration": 143,
    "start_time": "2023-05-27T14:05:16.813Z"
   },
   {
    "duration": 9,
    "start_time": "2023-05-27T14:05:16.957Z"
   },
   {
    "duration": 2031,
    "start_time": "2023-05-27T14:05:16.977Z"
   },
   {
    "duration": 5,
    "start_time": "2023-05-27T14:05:19.011Z"
   },
   {
    "duration": 18,
    "start_time": "2023-05-27T14:05:19.018Z"
   },
   {
    "duration": 175,
    "start_time": "2023-05-27T14:05:19.038Z"
   },
   {
    "duration": 8,
    "start_time": "2023-05-27T14:05:19.219Z"
   },
   {
    "duration": 102,
    "start_time": "2023-05-27T14:05:19.229Z"
   },
   {
    "duration": 11,
    "start_time": "2023-05-27T14:05:19.333Z"
   },
   {
    "duration": 58,
    "start_time": "2023-05-27T14:05:19.346Z"
   },
   {
    "duration": 45,
    "start_time": "2023-05-27T14:05:19.406Z"
   },
   {
    "duration": 49,
    "start_time": "2023-05-27T14:05:19.453Z"
   },
   {
    "duration": 6,
    "start_time": "2023-05-27T14:05:19.509Z"
   },
   {
    "duration": 15,
    "start_time": "2023-05-27T14:05:19.517Z"
   },
   {
    "duration": 65,
    "start_time": "2023-05-27T14:05:19.534Z"
   },
   {
    "duration": 43,
    "start_time": "2023-05-27T14:05:19.606Z"
   },
   {
    "duration": 43,
    "start_time": "2023-05-27T14:05:19.651Z"
   },
   {
    "duration": 29,
    "start_time": "2023-05-27T14:05:19.702Z"
   },
   {
    "duration": 17,
    "start_time": "2023-05-27T14:05:19.733Z"
   },
   {
    "duration": 59,
    "start_time": "2023-05-27T14:05:19.752Z"
   },
   {
    "duration": 7,
    "start_time": "2023-05-27T14:05:19.813Z"
   },
   {
    "duration": 18,
    "start_time": "2023-05-27T14:05:19.822Z"
   },
   {
    "duration": 6,
    "start_time": "2023-05-27T14:05:19.842Z"
   },
   {
    "duration": 302,
    "start_time": "2023-05-27T14:05:19.850Z"
   },
   {
    "duration": 43,
    "start_time": "2023-05-27T14:05:20.155Z"
   },
   {
    "duration": 12,
    "start_time": "2023-05-27T14:05:20.199Z"
   },
   {
    "duration": 204,
    "start_time": "2023-05-27T14:05:20.213Z"
   },
   {
    "duration": 93,
    "start_time": "2023-05-27T14:05:20.419Z"
   },
   {
    "duration": 13,
    "start_time": "2023-05-27T14:05:20.515Z"
   },
   {
    "duration": 16,
    "start_time": "2023-05-27T14:05:20.530Z"
   },
   {
    "duration": 71,
    "start_time": "2023-05-27T14:05:20.548Z"
   },
   {
    "duration": 7,
    "start_time": "2023-05-27T14:05:20.621Z"
   },
   {
    "duration": 13,
    "start_time": "2023-05-27T14:05:20.629Z"
   },
   {
    "duration": 70,
    "start_time": "2023-05-27T14:05:20.643Z"
   },
   {
    "duration": 5,
    "start_time": "2023-05-27T14:05:20.714Z"
   },
   {
    "duration": 186,
    "start_time": "2023-05-27T14:05:20.720Z"
   },
   {
    "duration": 5,
    "start_time": "2023-05-27T14:05:20.908Z"
   },
   {
    "duration": 6,
    "start_time": "2023-05-27T14:05:20.914Z"
   },
   {
    "duration": 88,
    "start_time": "2023-05-27T14:05:20.922Z"
   },
   {
    "duration": 180,
    "start_time": "2023-05-27T14:05:21.012Z"
   },
   {
    "duration": 0,
    "start_time": "2023-05-27T14:05:21.202Z"
   },
   {
    "duration": 0,
    "start_time": "2023-05-27T14:05:21.202Z"
   },
   {
    "duration": 0,
    "start_time": "2023-05-27T14:05:21.205Z"
   },
   {
    "duration": 0,
    "start_time": "2023-05-27T14:05:21.206Z"
   },
   {
    "duration": 0,
    "start_time": "2023-05-27T14:05:21.208Z"
   },
   {
    "duration": 0,
    "start_time": "2023-05-27T14:05:21.209Z"
   },
   {
    "duration": 0,
    "start_time": "2023-05-27T14:05:21.211Z"
   },
   {
    "duration": 0,
    "start_time": "2023-05-27T14:05:21.212Z"
   },
   {
    "duration": 7,
    "start_time": "2023-05-27T14:10:38.321Z"
   },
   {
    "duration": 100,
    "start_time": "2023-05-27T14:11:11.168Z"
   },
   {
    "duration": 75,
    "start_time": "2023-05-27T14:12:14.845Z"
   },
   {
    "duration": 11,
    "start_time": "2023-05-27T14:12:17.815Z"
   },
   {
    "duration": 47,
    "start_time": "2023-05-27T14:12:54.049Z"
   },
   {
    "duration": 1439,
    "start_time": "2023-05-27T14:13:38.600Z"
   },
   {
    "duration": 9,
    "start_time": "2023-05-27T14:16:59.336Z"
   },
   {
    "duration": 7,
    "start_time": "2023-05-27T14:17:00.303Z"
   },
   {
    "duration": 4,
    "start_time": "2023-05-27T14:17:48.056Z"
   },
   {
    "duration": 3,
    "start_time": "2023-05-27T14:18:02.917Z"
   },
   {
    "duration": 6,
    "start_time": "2023-05-27T14:18:22.675Z"
   },
   {
    "duration": 1291,
    "start_time": "2023-05-27T14:19:35.279Z"
   },
   {
    "duration": 236,
    "start_time": "2023-05-27T14:19:36.572Z"
   },
   {
    "duration": 4,
    "start_time": "2023-05-27T14:19:36.811Z"
   },
   {
    "duration": 111,
    "start_time": "2023-05-27T14:19:36.817Z"
   },
   {
    "duration": 10,
    "start_time": "2023-05-27T14:19:36.930Z"
   },
   {
    "duration": 1999,
    "start_time": "2023-05-27T14:19:36.941Z"
   },
   {
    "duration": 5,
    "start_time": "2023-05-27T14:19:38.942Z"
   },
   {
    "duration": 10,
    "start_time": "2023-05-27T14:19:38.948Z"
   },
   {
    "duration": 175,
    "start_time": "2023-05-27T14:19:38.960Z"
   },
   {
    "duration": 7,
    "start_time": "2023-05-27T14:19:39.137Z"
   },
   {
    "duration": 94,
    "start_time": "2023-05-27T14:19:39.146Z"
   },
   {
    "duration": 10,
    "start_time": "2023-05-27T14:19:39.241Z"
   },
   {
    "duration": 55,
    "start_time": "2023-05-27T14:19:39.252Z"
   },
   {
    "duration": 46,
    "start_time": "2023-05-27T14:19:39.312Z"
   },
   {
    "duration": 41,
    "start_time": "2023-05-27T14:19:39.360Z"
   },
   {
    "duration": 9,
    "start_time": "2023-05-27T14:19:39.403Z"
   },
   {
    "duration": 21,
    "start_time": "2023-05-27T14:19:39.416Z"
   },
   {
    "duration": 78,
    "start_time": "2023-05-27T14:19:39.439Z"
   },
   {
    "duration": 50,
    "start_time": "2023-05-27T14:19:39.519Z"
   },
   {
    "duration": 46,
    "start_time": "2023-05-27T14:19:39.571Z"
   },
   {
    "duration": 26,
    "start_time": "2023-05-27T14:19:39.619Z"
   },
   {
    "duration": 35,
    "start_time": "2023-05-27T14:19:39.646Z"
   },
   {
    "duration": 60,
    "start_time": "2023-05-27T14:19:39.682Z"
   },
   {
    "duration": 7,
    "start_time": "2023-05-27T14:19:39.743Z"
   },
   {
    "duration": 45,
    "start_time": "2023-05-27T14:19:39.752Z"
   },
   {
    "duration": 12,
    "start_time": "2023-05-27T14:19:39.799Z"
   },
   {
    "duration": 307,
    "start_time": "2023-05-27T14:19:39.813Z"
   },
   {
    "duration": 32,
    "start_time": "2023-05-27T14:19:40.122Z"
   },
   {
    "duration": 23,
    "start_time": "2023-05-27T14:19:40.155Z"
   },
   {
    "duration": 216,
    "start_time": "2023-05-27T14:19:40.180Z"
   },
   {
    "duration": 69,
    "start_time": "2023-05-27T14:19:40.398Z"
   },
   {
    "duration": 23,
    "start_time": "2023-05-27T14:19:40.469Z"
   },
   {
    "duration": 18,
    "start_time": "2023-05-27T14:19:40.494Z"
   },
   {
    "duration": 103,
    "start_time": "2023-05-27T14:19:40.514Z"
   },
   {
    "duration": 7,
    "start_time": "2023-05-27T14:19:40.618Z"
   },
   {
    "duration": 11,
    "start_time": "2023-05-27T14:19:40.626Z"
   },
   {
    "duration": 75,
    "start_time": "2023-05-27T14:19:40.638Z"
   },
   {
    "duration": 4,
    "start_time": "2023-05-27T14:19:40.715Z"
   },
   {
    "duration": 193,
    "start_time": "2023-05-27T14:19:40.721Z"
   },
   {
    "duration": 5,
    "start_time": "2023-05-27T14:19:40.916Z"
   },
   {
    "duration": 3,
    "start_time": "2023-05-27T14:19:40.924Z"
   },
   {
    "duration": 93,
    "start_time": "2023-05-27T14:19:40.929Z"
   },
   {
    "duration": 4,
    "start_time": "2023-05-27T14:19:41.024Z"
   },
   {
    "duration": 138,
    "start_time": "2023-05-27T14:19:41.029Z"
   },
   {
    "duration": 30,
    "start_time": "2023-05-27T14:19:41.169Z"
   },
   {
    "duration": 8,
    "start_time": "2023-05-27T14:19:41.202Z"
   },
   {
    "duration": 20,
    "start_time": "2023-05-27T14:19:41.212Z"
   },
   {
    "duration": 9,
    "start_time": "2023-05-27T14:19:41.234Z"
   },
   {
    "duration": 10,
    "start_time": "2023-05-27T14:19:41.245Z"
   },
   {
    "duration": 8,
    "start_time": "2023-05-27T14:19:41.257Z"
   },
   {
    "duration": 18,
    "start_time": "2023-05-27T14:19:41.282Z"
   },
   {
    "duration": 1232,
    "start_time": "2023-05-28T06:59:57.855Z"
   },
   {
    "duration": 175,
    "start_time": "2023-05-28T06:59:59.089Z"
   },
   {
    "duration": 5,
    "start_time": "2023-05-28T06:59:59.265Z"
   },
   {
    "duration": 124,
    "start_time": "2023-05-28T06:59:59.273Z"
   },
   {
    "duration": 25,
    "start_time": "2023-05-28T06:59:59.399Z"
   },
   {
    "duration": 1792,
    "start_time": "2023-05-28T06:59:59.426Z"
   },
   {
    "duration": 6,
    "start_time": "2023-05-28T07:00:01.225Z"
   },
   {
    "duration": 74,
    "start_time": "2023-05-28T07:00:01.233Z"
   },
   {
    "duration": 399,
    "start_time": "2023-05-28T07:00:01.309Z"
   },
   {
    "duration": 14,
    "start_time": "2023-05-28T07:00:01.710Z"
   },
   {
    "duration": 225,
    "start_time": "2023-05-28T07:00:01.727Z"
   },
   {
    "duration": 90,
    "start_time": "2023-05-28T07:00:01.953Z"
   },
   {
    "duration": 172,
    "start_time": "2023-05-28T07:00:02.044Z"
   },
   {
    "duration": 131,
    "start_time": "2023-05-28T07:00:02.219Z"
   },
   {
    "duration": 80,
    "start_time": "2023-05-28T07:00:02.352Z"
   },
   {
    "duration": 27,
    "start_time": "2023-05-28T07:00:02.433Z"
   },
   {
    "duration": 42,
    "start_time": "2023-05-28T07:00:02.462Z"
   },
   {
    "duration": 60,
    "start_time": "2023-05-28T07:00:02.505Z"
   },
   {
    "duration": 58,
    "start_time": "2023-05-28T07:00:02.569Z"
   },
   {
    "duration": 39,
    "start_time": "2023-05-28T07:00:02.629Z"
   },
   {
    "duration": 29,
    "start_time": "2023-05-28T07:00:02.670Z"
   },
   {
    "duration": 50,
    "start_time": "2023-05-28T07:00:02.702Z"
   },
   {
    "duration": 115,
    "start_time": "2023-05-28T07:00:02.754Z"
   },
   {
    "duration": 32,
    "start_time": "2023-05-28T07:00:02.871Z"
   },
   {
    "duration": 64,
    "start_time": "2023-05-28T07:00:02.905Z"
   },
   {
    "duration": 7,
    "start_time": "2023-05-28T07:00:02.970Z"
   },
   {
    "duration": 348,
    "start_time": "2023-05-28T07:00:02.979Z"
   },
   {
    "duration": 32,
    "start_time": "2023-05-28T07:00:03.329Z"
   },
   {
    "duration": 7,
    "start_time": "2023-05-28T07:00:03.362Z"
   },
   {
    "duration": 202,
    "start_time": "2023-05-28T07:00:03.370Z"
   },
   {
    "duration": 84,
    "start_time": "2023-05-28T07:00:03.574Z"
   },
   {
    "duration": 12,
    "start_time": "2023-05-28T07:00:03.659Z"
   },
   {
    "duration": 24,
    "start_time": "2023-05-28T07:00:03.672Z"
   },
   {
    "duration": 77,
    "start_time": "2023-05-28T07:00:03.697Z"
   },
   {
    "duration": 8,
    "start_time": "2023-05-28T07:00:03.776Z"
   },
   {
    "duration": 53,
    "start_time": "2023-05-28T07:00:03.785Z"
   },
   {
    "duration": 57,
    "start_time": "2023-05-28T07:00:03.840Z"
   },
   {
    "duration": 8,
    "start_time": "2023-05-28T07:00:03.899Z"
   },
   {
    "duration": 278,
    "start_time": "2023-05-28T07:00:03.908Z"
   },
   {
    "duration": 4,
    "start_time": "2023-05-28T07:00:04.187Z"
   },
   {
    "duration": 26,
    "start_time": "2023-05-28T07:00:04.195Z"
   },
   {
    "duration": 68,
    "start_time": "2023-05-28T07:00:04.223Z"
   },
   {
    "duration": 3,
    "start_time": "2023-05-28T07:00:04.293Z"
   },
   {
    "duration": 100,
    "start_time": "2023-05-28T07:00:04.325Z"
   },
   {
    "duration": 16,
    "start_time": "2023-05-28T07:00:04.427Z"
   },
   {
    "duration": 17,
    "start_time": "2023-05-28T07:00:04.445Z"
   },
   {
    "duration": 32,
    "start_time": "2023-05-28T07:00:04.463Z"
   },
   {
    "duration": 33,
    "start_time": "2023-05-28T07:00:04.496Z"
   },
   {
    "duration": 33,
    "start_time": "2023-05-28T07:00:04.531Z"
   },
   {
    "duration": 35,
    "start_time": "2023-05-28T07:00:04.565Z"
   },
   {
    "duration": 34,
    "start_time": "2023-05-28T07:00:04.602Z"
   },
   {
    "duration": 1355,
    "start_time": "2023-05-28T07:53:12.686Z"
   },
   {
    "duration": 173,
    "start_time": "2023-05-28T07:53:14.043Z"
   },
   {
    "duration": 11,
    "start_time": "2023-05-28T07:53:14.218Z"
   },
   {
    "duration": 133,
    "start_time": "2023-05-28T07:53:14.232Z"
   },
   {
    "duration": 8,
    "start_time": "2023-05-28T07:53:14.367Z"
   },
   {
    "duration": 1994,
    "start_time": "2023-05-28T07:53:14.377Z"
   },
   {
    "duration": 5,
    "start_time": "2023-05-28T07:53:16.373Z"
   },
   {
    "duration": 18,
    "start_time": "2023-05-28T07:53:16.379Z"
   },
   {
    "duration": 201,
    "start_time": "2023-05-28T07:53:16.399Z"
   },
   {
    "duration": 8,
    "start_time": "2023-05-28T07:53:16.601Z"
   },
   {
    "duration": 102,
    "start_time": "2023-05-28T07:53:16.610Z"
   },
   {
    "duration": 12,
    "start_time": "2023-05-28T07:53:16.714Z"
   },
   {
    "duration": 50,
    "start_time": "2023-05-28T07:53:16.732Z"
   },
   {
    "duration": 64,
    "start_time": "2023-05-28T07:53:16.785Z"
   },
   {
    "duration": 50,
    "start_time": "2023-05-28T07:53:16.852Z"
   },
   {
    "duration": 3,
    "start_time": "2023-05-28T07:53:16.904Z"
   },
   {
    "duration": 46,
    "start_time": "2023-05-28T07:53:16.909Z"
   },
   {
    "duration": 53,
    "start_time": "2023-05-28T07:53:16.958Z"
   },
   {
    "duration": 57,
    "start_time": "2023-05-28T07:53:17.012Z"
   },
   {
    "duration": 42,
    "start_time": "2023-05-28T07:53:17.071Z"
   },
   {
    "duration": 43,
    "start_time": "2023-05-28T07:53:17.115Z"
   },
   {
    "duration": 24,
    "start_time": "2023-05-28T07:53:17.159Z"
   },
   {
    "duration": 86,
    "start_time": "2023-05-28T07:53:17.185Z"
   },
   {
    "duration": 9,
    "start_time": "2023-05-28T07:53:17.273Z"
   },
   {
    "duration": 52,
    "start_time": "2023-05-28T07:53:17.284Z"
   },
   {
    "duration": 22,
    "start_time": "2023-05-28T07:53:17.338Z"
   },
   {
    "duration": 318,
    "start_time": "2023-05-28T07:53:17.362Z"
   },
   {
    "duration": 60,
    "start_time": "2023-05-28T07:53:17.682Z"
   },
   {
    "duration": 19,
    "start_time": "2023-05-28T07:53:17.743Z"
   },
   {
    "duration": 245,
    "start_time": "2023-05-28T07:53:17.765Z"
   },
   {
    "duration": 90,
    "start_time": "2023-05-28T07:53:18.012Z"
   },
   {
    "duration": 20,
    "start_time": "2023-05-28T07:53:18.104Z"
   },
   {
    "duration": 34,
    "start_time": "2023-05-28T07:53:18.132Z"
   },
   {
    "duration": 75,
    "start_time": "2023-05-28T07:53:18.167Z"
   },
   {
    "duration": 8,
    "start_time": "2023-05-28T07:53:18.243Z"
   },
   {
    "duration": 22,
    "start_time": "2023-05-28T07:53:18.252Z"
   },
   {
    "duration": 66,
    "start_time": "2023-05-28T07:53:18.276Z"
   },
   {
    "duration": 4,
    "start_time": "2023-05-28T07:53:18.344Z"
   },
   {
    "duration": 261,
    "start_time": "2023-05-28T07:53:18.350Z"
   },
   {
    "duration": 5,
    "start_time": "2023-05-28T07:53:18.613Z"
   },
   {
    "duration": 33,
    "start_time": "2023-05-28T07:53:18.626Z"
   },
   {
    "duration": 116,
    "start_time": "2023-05-28T07:53:18.661Z"
   },
   {
    "duration": 3,
    "start_time": "2023-05-28T07:53:18.779Z"
   },
   {
    "duration": 111,
    "start_time": "2023-05-28T07:53:18.784Z"
   },
   {
    "duration": 20,
    "start_time": "2023-05-28T07:53:18.897Z"
   },
   {
    "duration": 22,
    "start_time": "2023-05-28T07:53:18.919Z"
   },
   {
    "duration": 16,
    "start_time": "2023-05-28T07:53:18.942Z"
   },
   {
    "duration": 25,
    "start_time": "2023-05-28T07:53:18.960Z"
   },
   {
    "duration": 30,
    "start_time": "2023-05-28T07:53:18.987Z"
   },
   {
    "duration": 31,
    "start_time": "2023-05-28T07:53:19.019Z"
   },
   {
    "duration": 29,
    "start_time": "2023-05-28T07:53:19.051Z"
   },
   {
    "duration": 1656,
    "start_time": "2023-05-29T06:57:01.325Z"
   },
   {
    "duration": 569,
    "start_time": "2023-05-29T06:57:02.985Z"
   },
   {
    "duration": 6,
    "start_time": "2023-05-29T06:57:03.556Z"
   },
   {
    "duration": 173,
    "start_time": "2023-05-29T06:57:03.565Z"
   },
   {
    "duration": 15,
    "start_time": "2023-05-29T06:57:03.740Z"
   },
   {
    "duration": 2025,
    "start_time": "2023-05-29T06:57:03.758Z"
   },
   {
    "duration": 7,
    "start_time": "2023-05-29T06:57:05.785Z"
   },
   {
    "duration": 19,
    "start_time": "2023-05-29T06:57:05.795Z"
   },
   {
    "duration": 267,
    "start_time": "2023-05-29T06:57:05.817Z"
   },
   {
    "duration": 9,
    "start_time": "2023-05-29T06:57:06.089Z"
   },
   {
    "duration": 133,
    "start_time": "2023-05-29T06:57:06.100Z"
   },
   {
    "duration": 12,
    "start_time": "2023-05-29T06:57:06.235Z"
   },
   {
    "duration": 49,
    "start_time": "2023-05-29T06:57:06.249Z"
   },
   {
    "duration": 96,
    "start_time": "2023-05-29T06:57:06.300Z"
   },
   {
    "duration": 48,
    "start_time": "2023-05-29T06:57:06.398Z"
   },
   {
    "duration": 4,
    "start_time": "2023-05-29T06:57:06.449Z"
   },
   {
    "duration": 42,
    "start_time": "2023-05-29T06:57:06.455Z"
   },
   {
    "duration": 84,
    "start_time": "2023-05-29T06:57:06.500Z"
   },
   {
    "duration": 69,
    "start_time": "2023-05-29T06:57:06.587Z"
   },
   {
    "duration": 53,
    "start_time": "2023-05-29T06:57:06.658Z"
   },
   {
    "duration": 55,
    "start_time": "2023-05-29T06:57:06.714Z"
   },
   {
    "duration": 38,
    "start_time": "2023-05-29T06:57:06.772Z"
   },
   {
    "duration": 111,
    "start_time": "2023-05-29T06:57:06.813Z"
   },
   {
    "duration": 20,
    "start_time": "2023-05-29T06:57:06.926Z"
   },
   {
    "duration": 26,
    "start_time": "2023-05-29T06:57:06.948Z"
   },
   {
    "duration": 9,
    "start_time": "2023-05-29T06:57:06.976Z"
   },
   {
    "duration": 360,
    "start_time": "2023-05-29T06:57:06.988Z"
   },
   {
    "duration": 36,
    "start_time": "2023-05-29T06:57:07.351Z"
   },
   {
    "duration": 9,
    "start_time": "2023-05-29T06:57:07.389Z"
   },
   {
    "duration": 257,
    "start_time": "2023-05-29T06:57:07.401Z"
   },
   {
    "duration": 168,
    "start_time": "2023-05-29T06:57:07.661Z"
   },
   {
    "duration": 23,
    "start_time": "2023-05-29T06:57:07.831Z"
   },
   {
    "duration": 17,
    "start_time": "2023-05-29T06:57:07.855Z"
   },
   {
    "duration": 95,
    "start_time": "2023-05-29T06:57:07.874Z"
   },
   {
    "duration": 8,
    "start_time": "2023-05-29T06:57:07.972Z"
   },
   {
    "duration": 23,
    "start_time": "2023-05-29T06:57:07.982Z"
   },
   {
    "duration": 89,
    "start_time": "2023-05-29T06:57:08.008Z"
   },
   {
    "duration": 6,
    "start_time": "2023-05-29T06:57:08.100Z"
   },
   {
    "duration": 180,
    "start_time": "2023-05-29T06:57:08.109Z"
   },
   {
    "duration": 5,
    "start_time": "2023-05-29T06:57:08.291Z"
   },
   {
    "duration": 25,
    "start_time": "2023-05-29T06:57:08.299Z"
   },
   {
    "duration": 126,
    "start_time": "2023-05-29T06:57:08.347Z"
   },
   {
    "duration": 4,
    "start_time": "2023-05-29T06:57:08.476Z"
   },
   {
    "duration": 137,
    "start_time": "2023-05-29T06:57:08.483Z"
   },
   {
    "duration": 32,
    "start_time": "2023-05-29T06:57:08.622Z"
   },
   {
    "duration": 10,
    "start_time": "2023-05-29T06:57:08.657Z"
   },
   {
    "duration": 34,
    "start_time": "2023-05-29T06:57:08.669Z"
   },
   {
    "duration": 12,
    "start_time": "2023-05-29T06:57:08.706Z"
   },
   {
    "duration": 28,
    "start_time": "2023-05-29T06:57:08.720Z"
   },
   {
    "duration": 14,
    "start_time": "2023-05-29T06:57:08.750Z"
   },
   {
    "duration": 25,
    "start_time": "2023-05-29T06:57:08.766Z"
   },
   {
    "duration": 10,
    "start_time": "2023-05-29T06:59:56.196Z"
   },
   {
    "duration": 182,
    "start_time": "2023-05-29T07:05:20.294Z"
   },
   {
    "duration": 35,
    "start_time": "2023-05-29T07:05:43.198Z"
   },
   {
    "duration": 27,
    "start_time": "2023-05-29T07:06:21.523Z"
   },
   {
    "duration": 82,
    "start_time": "2023-05-29T07:06:23.863Z"
   },
   {
    "duration": 17,
    "start_time": "2023-05-29T07:06:25.465Z"
   },
   {
    "duration": 7,
    "start_time": "2023-05-29T07:06:32.673Z"
   },
   {
    "duration": 14,
    "start_time": "2023-05-29T07:06:35.621Z"
   },
   {
    "duration": 101,
    "start_time": "2023-05-29T07:07:12.375Z"
   },
   {
    "duration": 22,
    "start_time": "2023-05-29T07:07:25.605Z"
   },
   {
    "duration": 65,
    "start_time": "2023-05-29T07:07:43.913Z"
   },
   {
    "duration": 16,
    "start_time": "2023-05-29T07:07:56.315Z"
   },
   {
    "duration": 63,
    "start_time": "2023-05-29T10:32:42.022Z"
   },
   {
    "duration": 5,
    "start_time": "2023-05-29T10:32:44.297Z"
   },
   {
    "duration": 8,
    "start_time": "2023-05-29T10:35:31.462Z"
   },
   {
    "duration": 12,
    "start_time": "2023-05-29T10:35:35.425Z"
   },
   {
    "duration": 9,
    "start_time": "2023-05-29T10:38:04.058Z"
   },
   {
    "duration": 4,
    "start_time": "2023-05-29T10:39:18.223Z"
   },
   {
    "duration": 1416,
    "start_time": "2023-05-29T10:39:37.398Z"
   },
   {
    "duration": 519,
    "start_time": "2023-05-29T10:39:38.816Z"
   },
   {
    "duration": 4,
    "start_time": "2023-05-29T10:39:39.338Z"
   },
   {
    "duration": 164,
    "start_time": "2023-05-29T10:39:39.347Z"
   },
   {
    "duration": 6,
    "start_time": "2023-05-29T10:39:39.513Z"
   },
   {
    "duration": 2207,
    "start_time": "2023-05-29T10:39:39.521Z"
   },
   {
    "duration": 26,
    "start_time": "2023-05-29T10:39:41.730Z"
   },
   {
    "duration": 69,
    "start_time": "2023-05-29T10:39:41.758Z"
   },
   {
    "duration": 198,
    "start_time": "2023-05-29T10:39:41.828Z"
   },
   {
    "duration": 7,
    "start_time": "2023-05-29T10:39:42.028Z"
   },
   {
    "duration": 106,
    "start_time": "2023-05-29T10:39:42.037Z"
   },
   {
    "duration": 27,
    "start_time": "2023-05-29T10:39:42.147Z"
   },
   {
    "duration": 54,
    "start_time": "2023-05-29T10:39:42.178Z"
   },
   {
    "duration": 101,
    "start_time": "2023-05-29T10:39:42.237Z"
   },
   {
    "duration": 67,
    "start_time": "2023-05-29T10:39:42.340Z"
   },
   {
    "duration": 24,
    "start_time": "2023-05-29T10:39:42.409Z"
   },
   {
    "duration": 48,
    "start_time": "2023-05-29T10:39:42.436Z"
   },
   {
    "duration": 74,
    "start_time": "2023-05-29T10:39:42.487Z"
   },
   {
    "duration": 59,
    "start_time": "2023-05-29T10:39:42.571Z"
   },
   {
    "duration": 40,
    "start_time": "2023-05-29T10:39:42.632Z"
   },
   {
    "duration": 51,
    "start_time": "2023-05-29T10:39:42.674Z"
   },
   {
    "duration": 55,
    "start_time": "2023-05-29T10:39:42.727Z"
   },
   {
    "duration": 120,
    "start_time": "2023-05-29T10:39:42.786Z"
   },
   {
    "duration": 10,
    "start_time": "2023-05-29T10:39:42.908Z"
   },
   {
    "duration": 23,
    "start_time": "2023-05-29T10:39:42.919Z"
   },
   {
    "duration": 19,
    "start_time": "2023-05-29T10:39:42.947Z"
   },
   {
    "duration": 411,
    "start_time": "2023-05-29T10:39:42.975Z"
   },
   {
    "duration": 35,
    "start_time": "2023-05-29T10:39:43.388Z"
   },
   {
    "duration": 25,
    "start_time": "2023-05-29T10:39:43.425Z"
   },
   {
    "duration": 230,
    "start_time": "2023-05-29T10:39:43.451Z"
   },
   {
    "duration": 99,
    "start_time": "2023-05-29T10:39:43.682Z"
   },
   {
    "duration": 13,
    "start_time": "2023-05-29T10:39:43.783Z"
   },
   {
    "duration": 16,
    "start_time": "2023-05-29T10:39:43.797Z"
   },
   {
    "duration": 109,
    "start_time": "2023-05-29T10:39:43.814Z"
   },
   {
    "duration": 5,
    "start_time": "2023-05-29T10:39:43.925Z"
   },
   {
    "duration": 37,
    "start_time": "2023-05-29T10:39:43.932Z"
   },
   {
    "duration": 20,
    "start_time": "2023-05-29T10:39:43.974Z"
   },
   {
    "duration": 69,
    "start_time": "2023-05-29T10:39:43.996Z"
   },
   {
    "duration": 5,
    "start_time": "2023-05-29T10:39:44.067Z"
   },
   {
    "duration": 22,
    "start_time": "2023-05-29T10:39:44.073Z"
   },
   {
    "duration": 182,
    "start_time": "2023-05-29T10:39:44.099Z"
   },
   {
    "duration": 5,
    "start_time": "2023-05-29T10:39:44.282Z"
   },
   {
    "duration": 14,
    "start_time": "2023-05-29T10:39:44.288Z"
   },
   {
    "duration": 91,
    "start_time": "2023-05-29T10:39:44.304Z"
   },
   {
    "duration": 4,
    "start_time": "2023-05-29T10:39:44.397Z"
   },
   {
    "duration": 179,
    "start_time": "2023-05-29T10:39:44.403Z"
   },
   {
    "duration": 20,
    "start_time": "2023-05-29T10:39:44.584Z"
   },
   {
    "duration": 13,
    "start_time": "2023-05-29T10:39:44.606Z"
   },
   {
    "duration": 41,
    "start_time": "2023-05-29T10:39:44.621Z"
   },
   {
    "duration": 20,
    "start_time": "2023-05-29T10:39:44.672Z"
   },
   {
    "duration": 16,
    "start_time": "2023-05-29T10:39:44.694Z"
   },
   {
    "duration": 16,
    "start_time": "2023-05-29T10:39:44.712Z"
   },
   {
    "duration": 14,
    "start_time": "2023-05-29T10:39:44.730Z"
   },
   {
    "duration": 5,
    "start_time": "2023-05-29T10:44:29.104Z"
   },
   {
    "duration": 130,
    "start_time": "2023-05-29T10:44:32.895Z"
   },
   {
    "duration": 139,
    "start_time": "2023-05-29T10:50:59.081Z"
   },
   {
    "duration": 13,
    "start_time": "2023-05-29T10:51:04.604Z"
   },
   {
    "duration": 13,
    "start_time": "2023-05-29T10:51:41.930Z"
   },
   {
    "duration": 81,
    "start_time": "2023-05-29T10:52:37.309Z"
   },
   {
    "duration": 16,
    "start_time": "2023-05-29T10:53:02.105Z"
   },
   {
    "duration": 27,
    "start_time": "2023-05-29T10:54:02.432Z"
   },
   {
    "duration": 21,
    "start_time": "2023-05-29T10:54:25.785Z"
   },
   {
    "duration": 23,
    "start_time": "2023-05-29T10:54:57.085Z"
   },
   {
    "duration": 1499,
    "start_time": "2023-05-29T10:56:28.992Z"
   },
   {
    "duration": 236,
    "start_time": "2023-05-29T10:56:30.499Z"
   },
   {
    "duration": 5,
    "start_time": "2023-05-29T10:56:30.737Z"
   },
   {
    "duration": 284,
    "start_time": "2023-05-29T10:56:30.749Z"
   },
   {
    "duration": 91,
    "start_time": "2023-05-29T10:56:31.035Z"
   },
   {
    "duration": 2742,
    "start_time": "2023-05-29T10:56:31.129Z"
   },
   {
    "duration": 12,
    "start_time": "2023-05-29T10:56:33.873Z"
   },
   {
    "duration": 45,
    "start_time": "2023-05-29T10:56:33.887Z"
   },
   {
    "duration": 268,
    "start_time": "2023-05-29T10:56:33.935Z"
   },
   {
    "duration": 8,
    "start_time": "2023-05-29T10:56:34.206Z"
   },
   {
    "duration": 173,
    "start_time": "2023-05-29T10:56:34.216Z"
   },
   {
    "duration": 67,
    "start_time": "2023-05-29T10:56:34.391Z"
   },
   {
    "duration": 202,
    "start_time": "2023-05-29T10:56:34.460Z"
   },
   {
    "duration": 86,
    "start_time": "2023-05-29T10:56:34.669Z"
   },
   {
    "duration": 47,
    "start_time": "2023-05-29T10:56:34.769Z"
   },
   {
    "duration": 21,
    "start_time": "2023-05-29T10:56:34.817Z"
   },
   {
    "duration": 81,
    "start_time": "2023-05-29T10:56:34.840Z"
   },
   {
    "duration": 92,
    "start_time": "2023-05-29T10:56:34.923Z"
   },
   {
    "duration": 76,
    "start_time": "2023-05-29T10:56:35.054Z"
   },
   {
    "duration": 86,
    "start_time": "2023-05-29T10:56:35.132Z"
   },
   {
    "duration": 38,
    "start_time": "2023-05-29T10:56:35.220Z"
   },
   {
    "duration": 53,
    "start_time": "2023-05-29T10:56:35.268Z"
   },
   {
    "duration": 208,
    "start_time": "2023-05-29T10:56:35.323Z"
   },
   {
    "duration": 9,
    "start_time": "2023-05-29T10:56:35.532Z"
   },
   {
    "duration": 70,
    "start_time": "2023-05-29T10:56:35.542Z"
   },
   {
    "duration": 15,
    "start_time": "2023-05-29T10:56:35.613Z"
   },
   {
    "duration": 444,
    "start_time": "2023-05-29T10:56:35.631Z"
   },
   {
    "duration": 39,
    "start_time": "2023-05-29T10:56:36.079Z"
   },
   {
    "duration": 8,
    "start_time": "2023-05-29T10:56:36.120Z"
   },
   {
    "duration": 301,
    "start_time": "2023-05-29T10:56:36.129Z"
   },
   {
    "duration": 163,
    "start_time": "2023-05-29T10:56:36.432Z"
   },
   {
    "duration": 18,
    "start_time": "2023-05-29T10:56:36.596Z"
   },
   {
    "duration": 22,
    "start_time": "2023-05-29T10:56:36.616Z"
   },
   {
    "duration": 127,
    "start_time": "2023-05-29T10:56:36.646Z"
   },
   {
    "duration": 16,
    "start_time": "2023-05-29T10:56:36.775Z"
   },
   {
    "duration": 31,
    "start_time": "2023-05-29T10:56:36.794Z"
   },
   {
    "duration": 37,
    "start_time": "2023-05-29T10:56:36.828Z"
   },
   {
    "duration": 95,
    "start_time": "2023-05-29T10:56:36.870Z"
   },
   {
    "duration": 7,
    "start_time": "2023-05-29T10:56:36.967Z"
   },
   {
    "duration": 47,
    "start_time": "2023-05-29T10:56:36.976Z"
   },
   {
    "duration": 264,
    "start_time": "2023-05-29T10:56:37.027Z"
   },
   {
    "duration": 5,
    "start_time": "2023-05-29T10:56:37.294Z"
   },
   {
    "duration": 17,
    "start_time": "2023-05-29T10:56:37.301Z"
   },
   {
    "duration": 139,
    "start_time": "2023-05-29T10:56:37.320Z"
   },
   {
    "duration": 10,
    "start_time": "2023-05-29T10:56:37.464Z"
   },
   {
    "duration": 132,
    "start_time": "2023-05-29T10:56:37.477Z"
   },
   {
    "duration": 20,
    "start_time": "2023-05-29T10:56:37.611Z"
   },
   {
    "duration": 76,
    "start_time": "2023-05-29T10:56:37.633Z"
   },
   {
    "duration": 15,
    "start_time": "2023-05-29T10:56:37.711Z"
   },
   {
    "duration": 75,
    "start_time": "2023-05-29T10:56:37.727Z"
   },
   {
    "duration": 22,
    "start_time": "2023-05-29T10:56:37.804Z"
   },
   {
    "duration": 63,
    "start_time": "2023-05-29T10:56:37.828Z"
   },
   {
    "duration": 17,
    "start_time": "2023-05-29T10:56:37.893Z"
   },
   {
    "duration": 18,
    "start_time": "2023-05-29T10:56:37.912Z"
   },
   {
    "duration": 1297,
    "start_time": "2023-05-29T19:23:58.202Z"
   },
   {
    "duration": 586,
    "start_time": "2023-05-29T19:23:59.502Z"
   },
   {
    "duration": 5,
    "start_time": "2023-05-29T19:24:00.090Z"
   },
   {
    "duration": 145,
    "start_time": "2023-05-29T19:24:00.096Z"
   },
   {
    "duration": 10,
    "start_time": "2023-05-29T19:24:00.243Z"
   },
   {
    "duration": 1943,
    "start_time": "2023-05-29T19:24:00.255Z"
   },
   {
    "duration": 9,
    "start_time": "2023-05-29T19:24:02.200Z"
   },
   {
    "duration": 16,
    "start_time": "2023-05-29T19:24:02.213Z"
   },
   {
    "duration": 186,
    "start_time": "2023-05-29T19:24:02.231Z"
   },
   {
    "duration": 7,
    "start_time": "2023-05-29T19:24:02.419Z"
   },
   {
    "duration": 139,
    "start_time": "2023-05-29T19:24:02.428Z"
   },
   {
    "duration": 14,
    "start_time": "2023-05-29T19:24:02.569Z"
   },
   {
    "duration": 86,
    "start_time": "2023-05-29T19:24:02.585Z"
   },
   {
    "duration": 55,
    "start_time": "2023-05-29T19:24:02.674Z"
   },
   {
    "duration": 52,
    "start_time": "2023-05-29T19:24:02.730Z"
   },
   {
    "duration": 4,
    "start_time": "2023-05-29T19:24:02.784Z"
   },
   {
    "duration": 33,
    "start_time": "2023-05-29T19:24:02.789Z"
   },
   {
    "duration": 39,
    "start_time": "2023-05-29T19:24:02.824Z"
   },
   {
    "duration": 67,
    "start_time": "2023-05-29T19:24:02.865Z"
   },
   {
    "duration": 33,
    "start_time": "2023-05-29T19:24:02.933Z"
   },
   {
    "duration": 57,
    "start_time": "2023-05-29T19:24:02.967Z"
   },
   {
    "duration": 21,
    "start_time": "2023-05-29T19:24:03.026Z"
   },
   {
    "duration": 116,
    "start_time": "2023-05-29T19:24:03.049Z"
   },
   {
    "duration": 7,
    "start_time": "2023-05-29T19:24:03.167Z"
   },
   {
    "duration": 27,
    "start_time": "2023-05-29T19:24:03.176Z"
   },
   {
    "duration": 8,
    "start_time": "2023-05-29T19:24:03.205Z"
   },
   {
    "duration": 318,
    "start_time": "2023-05-29T19:24:03.216Z"
   },
   {
    "duration": 30,
    "start_time": "2023-05-29T19:24:03.535Z"
   },
   {
    "duration": 25,
    "start_time": "2023-05-29T19:24:03.567Z"
   },
   {
    "duration": 217,
    "start_time": "2023-05-29T19:24:03.593Z"
   },
   {
    "duration": 72,
    "start_time": "2023-05-29T19:24:03.812Z"
   },
   {
    "duration": 20,
    "start_time": "2023-05-29T19:24:03.886Z"
   },
   {
    "duration": 25,
    "start_time": "2023-05-29T19:24:03.908Z"
   },
   {
    "duration": 85,
    "start_time": "2023-05-29T19:24:03.935Z"
   },
   {
    "duration": 7,
    "start_time": "2023-05-29T19:24:04.022Z"
   },
   {
    "duration": 16,
    "start_time": "2023-05-29T19:24:04.031Z"
   },
   {
    "duration": 17,
    "start_time": "2023-05-29T19:24:04.048Z"
   },
   {
    "duration": 77,
    "start_time": "2023-05-29T19:24:04.067Z"
   },
   {
    "duration": 5,
    "start_time": "2023-05-29T19:24:04.146Z"
   },
   {
    "duration": 11,
    "start_time": "2023-05-29T19:24:04.153Z"
   },
   {
    "duration": 260,
    "start_time": "2023-05-29T19:24:04.167Z"
   },
   {
    "duration": 6,
    "start_time": "2023-05-29T19:24:04.428Z"
   },
   {
    "duration": 12,
    "start_time": "2023-05-29T19:24:04.437Z"
   },
   {
    "duration": 84,
    "start_time": "2023-05-29T19:24:04.450Z"
   },
   {
    "duration": 4,
    "start_time": "2023-05-29T19:24:04.536Z"
   },
   {
    "duration": 167,
    "start_time": "2023-05-29T19:24:04.542Z"
   },
   {
    "duration": 20,
    "start_time": "2023-05-29T19:24:04.711Z"
   },
   {
    "duration": 20,
    "start_time": "2023-05-29T19:24:04.733Z"
   },
   {
    "duration": 5,
    "start_time": "2023-05-29T19:24:04.755Z"
   },
   {
    "duration": 13,
    "start_time": "2023-05-29T19:24:04.761Z"
   },
   {
    "duration": 31,
    "start_time": "2023-05-29T19:24:04.776Z"
   },
   {
    "duration": 17,
    "start_time": "2023-05-29T19:24:04.809Z"
   },
   {
    "duration": 19,
    "start_time": "2023-05-29T19:24:04.828Z"
   },
   {
    "duration": 11,
    "start_time": "2023-05-29T19:24:04.849Z"
   },
   {
    "duration": 1349,
    "start_time": "2023-05-29T19:39:34.336Z"
   },
   {
    "duration": 173,
    "start_time": "2023-05-29T19:39:35.687Z"
   },
   {
    "duration": 5,
    "start_time": "2023-05-29T19:39:35.862Z"
   },
   {
    "duration": 138,
    "start_time": "2023-05-29T19:39:35.869Z"
   },
   {
    "duration": 10,
    "start_time": "2023-05-29T19:39:36.009Z"
   },
   {
    "duration": 2028,
    "start_time": "2023-05-29T19:39:36.020Z"
   },
   {
    "duration": 6,
    "start_time": "2023-05-29T19:39:38.050Z"
   },
   {
    "duration": 18,
    "start_time": "2023-05-29T19:39:38.058Z"
   },
   {
    "duration": 179,
    "start_time": "2023-05-29T19:39:38.077Z"
   },
   {
    "duration": 7,
    "start_time": "2023-05-29T19:39:38.259Z"
   },
   {
    "duration": 109,
    "start_time": "2023-05-29T19:39:38.268Z"
   },
   {
    "duration": 11,
    "start_time": "2023-05-29T19:39:38.379Z"
   },
   {
    "duration": 42,
    "start_time": "2023-05-29T19:39:38.396Z"
   },
   {
    "duration": 137,
    "start_time": "2023-05-29T19:39:38.440Z"
   },
   {
    "duration": 35,
    "start_time": "2023-05-29T19:39:38.579Z"
   },
   {
    "duration": 2,
    "start_time": "2023-05-29T19:39:38.616Z"
   },
   {
    "duration": 21,
    "start_time": "2023-05-29T19:39:38.620Z"
   },
   {
    "duration": 46,
    "start_time": "2023-05-29T19:39:38.643Z"
   },
   {
    "duration": 46,
    "start_time": "2023-05-29T19:39:38.698Z"
   },
   {
    "duration": 53,
    "start_time": "2023-05-29T19:39:38.746Z"
   },
   {
    "duration": 32,
    "start_time": "2023-05-29T19:39:38.801Z"
   },
   {
    "duration": 25,
    "start_time": "2023-05-29T19:39:38.835Z"
   },
   {
    "duration": 83,
    "start_time": "2023-05-29T19:39:38.862Z"
   },
   {
    "duration": 9,
    "start_time": "2023-05-29T19:39:38.947Z"
   },
   {
    "duration": 42,
    "start_time": "2023-05-29T19:39:38.958Z"
   },
   {
    "duration": 7,
    "start_time": "2023-05-29T19:39:39.003Z"
   },
   {
    "duration": 309,
    "start_time": "2023-05-29T19:39:39.012Z"
   },
   {
    "duration": 34,
    "start_time": "2023-05-29T19:39:39.326Z"
   },
   {
    "duration": 7,
    "start_time": "2023-05-29T19:39:39.362Z"
   },
   {
    "duration": 249,
    "start_time": "2023-05-29T19:39:39.371Z"
   },
   {
    "duration": 90,
    "start_time": "2023-05-29T19:39:39.622Z"
   },
   {
    "duration": 12,
    "start_time": "2023-05-29T19:39:39.714Z"
   },
   {
    "duration": 17,
    "start_time": "2023-05-29T19:39:39.729Z"
   },
   {
    "duration": 99,
    "start_time": "2023-05-29T19:39:39.748Z"
   },
   {
    "duration": 8,
    "start_time": "2023-05-29T19:39:39.850Z"
   },
   {
    "duration": 21,
    "start_time": "2023-05-29T19:39:39.860Z"
   },
   {
    "duration": 32,
    "start_time": "2023-05-29T19:39:39.883Z"
   },
   {
    "duration": 65,
    "start_time": "2023-05-29T19:39:39.917Z"
   },
   {
    "duration": 4,
    "start_time": "2023-05-29T19:39:39.998Z"
   },
   {
    "duration": 18,
    "start_time": "2023-05-29T19:39:40.004Z"
   },
   {
    "duration": 266,
    "start_time": "2023-05-29T19:39:40.023Z"
   },
   {
    "duration": 5,
    "start_time": "2023-05-29T19:39:40.291Z"
   },
   {
    "duration": 18,
    "start_time": "2023-05-29T19:39:40.297Z"
   },
   {
    "duration": 116,
    "start_time": "2023-05-29T19:39:40.318Z"
   },
   {
    "duration": 4,
    "start_time": "2023-05-29T19:39:40.437Z"
   },
   {
    "duration": 119,
    "start_time": "2023-05-29T19:39:40.442Z"
   },
   {
    "duration": 18,
    "start_time": "2023-05-29T19:39:40.563Z"
   },
   {
    "duration": 30,
    "start_time": "2023-05-29T19:39:40.583Z"
   },
   {
    "duration": 14,
    "start_time": "2023-05-29T19:39:40.615Z"
   },
   {
    "duration": 43,
    "start_time": "2023-05-29T19:39:40.631Z"
   },
   {
    "duration": 14,
    "start_time": "2023-05-29T19:39:40.676Z"
   },
   {
    "duration": 94,
    "start_time": "2023-05-29T19:39:40.692Z"
   },
   {
    "duration": 19,
    "start_time": "2023-05-29T19:39:40.788Z"
   },
   {
    "duration": 15,
    "start_time": "2023-05-29T19:39:40.809Z"
   }
  ],
  "kernelspec": {
   "display_name": "Python 3 (ipykernel)",
   "language": "python",
   "name": "python3"
  },
  "language_info": {
   "codemirror_mode": {
    "name": "ipython",
    "version": 3
   },
   "file_extension": ".py",
   "mimetype": "text/x-python",
   "name": "python",
   "nbconvert_exporter": "python",
   "pygments_lexer": "ipython3",
   "version": "3.9.7"
  },
  "toc": {
   "base_numbering": 1,
   "nav_menu": {},
   "number_sections": true,
   "sideBar": true,
   "skip_h1_title": true,
   "title_cell": "Table of Contents",
   "title_sidebar": "Contents",
   "toc_cell": false,
   "toc_position": {
    "height": "calc(100% - 180px)",
    "left": "10px",
    "top": "150px",
    "width": "328.347px"
   },
   "toc_section_display": true,
   "toc_window_display": false
  }
 },
 "nbformat": 4,
 "nbformat_minor": 2
}
